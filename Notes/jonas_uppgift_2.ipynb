{
 "cells": [
  {
   "cell_type": "markdown",
   "metadata": {},
   "source": [
    "## Uppgift 2 - Sportstatistik\n",
    "* Välj 2-4 sporter och skapa lämpliga grafer/diagram för att visualisera exempelvis:\n",
    "* medaljfördelning mellan länder i sporterna\n",
    "* åldersfördelning i sporterna\n",
    "* Skapa fler plots för att visualisera olika aspekter kring sporterna"
   ]
  },
  {
   "cell_type": "code",
   "execution_count": 68,
   "metadata": {},
   "outputs": [
    {
     "data": {
      "text/html": [
       "<div>\n",
       "<style scoped>\n",
       "    .dataframe tbody tr th:only-of-type {\n",
       "        vertical-align: middle;\n",
       "    }\n",
       "\n",
       "    .dataframe tbody tr th {\n",
       "        vertical-align: top;\n",
       "    }\n",
       "\n",
       "    .dataframe thead th {\n",
       "        text-align: right;\n",
       "    }\n",
       "</style>\n",
       "<table border=\"1\" class=\"dataframe\">\n",
       "  <thead>\n",
       "    <tr style=\"text-align: right;\">\n",
       "      <th></th>\n",
       "      <th>ID</th>\n",
       "      <th>Name</th>\n",
       "      <th>Sex</th>\n",
       "      <th>Age</th>\n",
       "      <th>Height</th>\n",
       "      <th>Weight</th>\n",
       "      <th>Team</th>\n",
       "      <th>NOC</th>\n",
       "      <th>Games</th>\n",
       "      <th>Year</th>\n",
       "      <th>Season</th>\n",
       "      <th>City</th>\n",
       "      <th>Sport</th>\n",
       "      <th>Event</th>\n",
       "      <th>Medal</th>\n",
       "    </tr>\n",
       "  </thead>\n",
       "  <tbody>\n",
       "    <tr>\n",
       "      <th>0</th>\n",
       "      <td>1</td>\n",
       "      <td>A Dijiang</td>\n",
       "      <td>M</td>\n",
       "      <td>24.0</td>\n",
       "      <td>180.0</td>\n",
       "      <td>80.0</td>\n",
       "      <td>China</td>\n",
       "      <td>CHN</td>\n",
       "      <td>1992 Summer</td>\n",
       "      <td>1992</td>\n",
       "      <td>Summer</td>\n",
       "      <td>Barcelona</td>\n",
       "      <td>Basketball</td>\n",
       "      <td>Basketball Men's Basketball</td>\n",
       "      <td>NaN</td>\n",
       "    </tr>\n",
       "  </tbody>\n",
       "</table>\n",
       "</div>"
      ],
      "text/plain": [
       "   ID       Name Sex   Age  Height  Weight   Team  NOC        Games  Year  \\\n",
       "0   1  A Dijiang   M  24.0   180.0    80.0  China  CHN  1992 Summer  1992   \n",
       "\n",
       "   Season       City       Sport                        Event Medal  \n",
       "0  Summer  Barcelona  Basketball  Basketball Men's Basketball   NaN  "
      ]
     },
     "execution_count": 68,
     "metadata": {},
     "output_type": "execute_result"
    }
   ],
   "source": [
    "import pandas as pd\n",
    "\n",
    "# reading athlete_events as df1\n",
    "df1 = pd.read_csv(\"../Data/athlete_events.csv\")\n",
    "#df1.head()\n",
    "\n",
    "# reading noc_regions as df2, going to merge these\n",
    "df2 = pd.read_csv(\"../Data/noc_regions.csv\")\n",
    "#df2.head()\n",
    "df1.head(1)"
   ]
  },
  {
   "cell_type": "code",
   "execution_count": 69,
   "metadata": {},
   "outputs": [
    {
     "data": {
      "text/html": [
       "<div>\n",
       "<style scoped>\n",
       "    .dataframe tbody tr th:only-of-type {\n",
       "        vertical-align: middle;\n",
       "    }\n",
       "\n",
       "    .dataframe tbody tr th {\n",
       "        vertical-align: top;\n",
       "    }\n",
       "\n",
       "    .dataframe thead th {\n",
       "        text-align: right;\n",
       "    }\n",
       "</style>\n",
       "<table border=\"1\" class=\"dataframe\">\n",
       "  <thead>\n",
       "    <tr style=\"text-align: right;\">\n",
       "      <th></th>\n",
       "      <th>NOC</th>\n",
       "      <th>region</th>\n",
       "      <th>notes</th>\n",
       "    </tr>\n",
       "  </thead>\n",
       "  <tbody>\n",
       "    <tr>\n",
       "      <th>0</th>\n",
       "      <td>AFG</td>\n",
       "      <td>Afghanistan</td>\n",
       "      <td>NaN</td>\n",
       "    </tr>\n",
       "  </tbody>\n",
       "</table>\n",
       "</div>"
      ],
      "text/plain": [
       "   NOC       region notes\n",
       "0  AFG  Afghanistan   NaN"
      ]
     },
     "execution_count": 69,
     "metadata": {},
     "output_type": "execute_result"
    }
   ],
   "source": [
    "df2.head(1)"
   ]
  },
  {
   "cell_type": "code",
   "execution_count": 70,
   "metadata": {},
   "outputs": [
    {
     "data": {
      "text/html": [
       "<div>\n",
       "<style scoped>\n",
       "    .dataframe tbody tr th:only-of-type {\n",
       "        vertical-align: middle;\n",
       "    }\n",
       "\n",
       "    .dataframe tbody tr th {\n",
       "        vertical-align: top;\n",
       "    }\n",
       "\n",
       "    .dataframe thead th {\n",
       "        text-align: right;\n",
       "    }\n",
       "</style>\n",
       "<table border=\"1\" class=\"dataframe\">\n",
       "  <thead>\n",
       "    <tr style=\"text-align: right;\">\n",
       "      <th></th>\n",
       "      <th>ID</th>\n",
       "      <th>Name</th>\n",
       "      <th>Sex</th>\n",
       "      <th>Age</th>\n",
       "      <th>Height</th>\n",
       "      <th>Weight</th>\n",
       "      <th>Team</th>\n",
       "      <th>NOC</th>\n",
       "      <th>Games</th>\n",
       "      <th>Year</th>\n",
       "      <th>Season</th>\n",
       "      <th>City</th>\n",
       "      <th>Sport</th>\n",
       "      <th>Event</th>\n",
       "      <th>Medal</th>\n",
       "      <th>region</th>\n",
       "      <th>notes</th>\n",
       "    </tr>\n",
       "  </thead>\n",
       "  <tbody>\n",
       "    <tr>\n",
       "      <th>0</th>\n",
       "      <td>1</td>\n",
       "      <td>A Dijiang</td>\n",
       "      <td>M</td>\n",
       "      <td>24.0</td>\n",
       "      <td>180.0</td>\n",
       "      <td>80.0</td>\n",
       "      <td>China</td>\n",
       "      <td>CHN</td>\n",
       "      <td>1992 Summer</td>\n",
       "      <td>1992</td>\n",
       "      <td>Summer</td>\n",
       "      <td>Barcelona</td>\n",
       "      <td>Basketball</td>\n",
       "      <td>Basketball Men's Basketball</td>\n",
       "      <td>NaN</td>\n",
       "      <td>China</td>\n",
       "      <td>NaN</td>\n",
       "    </tr>\n",
       "    <tr>\n",
       "      <th>1</th>\n",
       "      <td>2</td>\n",
       "      <td>A Lamusi</td>\n",
       "      <td>M</td>\n",
       "      <td>23.0</td>\n",
       "      <td>170.0</td>\n",
       "      <td>60.0</td>\n",
       "      <td>China</td>\n",
       "      <td>CHN</td>\n",
       "      <td>2012 Summer</td>\n",
       "      <td>2012</td>\n",
       "      <td>Summer</td>\n",
       "      <td>London</td>\n",
       "      <td>Judo</td>\n",
       "      <td>Judo Men's Extra-Lightweight</td>\n",
       "      <td>NaN</td>\n",
       "      <td>China</td>\n",
       "      <td>NaN</td>\n",
       "    </tr>\n",
       "  </tbody>\n",
       "</table>\n",
       "</div>"
      ],
      "text/plain": [
       "   ID       Name Sex   Age  Height  Weight   Team  NOC        Games  Year  \\\n",
       "0   1  A Dijiang   M  24.0   180.0    80.0  China  CHN  1992 Summer  1992   \n",
       "1   2   A Lamusi   M  23.0   170.0    60.0  China  CHN  2012 Summer  2012   \n",
       "\n",
       "   Season       City       Sport                         Event Medal region  \\\n",
       "0  Summer  Barcelona  Basketball   Basketball Men's Basketball   NaN  China   \n",
       "1  Summer     London        Judo  Judo Men's Extra-Lightweight   NaN  China   \n",
       "\n",
       "  notes  \n",
       "0   NaN  \n",
       "1   NaN  "
      ]
     },
     "execution_count": 70,
     "metadata": {},
     "output_type": "execute_result"
    }
   ],
   "source": [
    "# merging both files into one on NOC\n",
    "df = pd.merge(df1, df2, on=\"NOC\", how=\"left\")\n",
    "df.head(2)"
   ]
  },
  {
   "cell_type": "code",
   "execution_count": 71,
   "metadata": {},
   "outputs": [
    {
     "data": {
      "text/plain": [
       "array(['Basketball', 'Judo', 'Football', 'Tug-Of-War', 'Speed Skating',\n",
       "       'Cross Country Skiing', 'Athletics', 'Ice Hockey', 'Swimming',\n",
       "       'Badminton', 'Sailing', 'Biathlon', 'Gymnastics',\n",
       "       'Art Competitions', 'Alpine Skiing', 'Handball', 'Weightlifting',\n",
       "       'Wrestling', 'Luge', 'Water Polo', 'Hockey', 'Rowing', 'Bobsleigh',\n",
       "       'Fencing', 'Equestrianism', 'Shooting', 'Boxing', 'Taekwondo',\n",
       "       'Cycling', 'Diving', 'Canoeing', 'Tennis', 'Modern Pentathlon',\n",
       "       'Figure Skating', 'Golf', 'Softball', 'Archery', 'Volleyball',\n",
       "       'Synchronized Swimming', 'Table Tennis', 'Nordic Combined',\n",
       "       'Baseball', 'Rhythmic Gymnastics', 'Freestyle Skiing',\n",
       "       'Rugby Sevens', 'Trampolining', 'Beach Volleyball', 'Triathlon',\n",
       "       'Ski Jumping', 'Curling', 'Snowboarding', 'Rugby',\n",
       "       'Short Track Speed Skating', 'Skeleton', 'Lacrosse', 'Polo',\n",
       "       'Cricket', 'Racquets', 'Motorboating', 'Military Ski Patrol',\n",
       "       'Croquet', 'Jeu De Paume', 'Roque', 'Alpinism', 'Basque Pelota',\n",
       "       'Aeronautics'], dtype=object)"
      ]
     },
     "execution_count": 71,
     "metadata": {},
     "output_type": "execute_result"
    }
   ],
   "source": [
    "unique_df = df.Sport.unique()\n",
    "unique_df"
   ]
  },
  {
   "cell_type": "code",
   "execution_count": 72,
   "metadata": {},
   "outputs": [
    {
     "data": {
      "text/plain": [
       "array([\"Basketball Men's Basketball\", \"Judo Men's Extra-Lightweight\",\n",
       "       \"Football Men's Football\", \"Tug-Of-War Men's Tug-Of-War\",\n",
       "       \"Speed Skating Women's 500 metres\",\n",
       "       \"Speed Skating Women's 1,000 metres\",\n",
       "       \"Cross Country Skiing Men's 10 kilometres\",\n",
       "       \"Cross Country Skiing Men's 50 kilometres\",\n",
       "       \"Cross Country Skiing Men's 10/15 kilometres Pursuit\",\n",
       "       \"Cross Country Skiing Men's 4 x 10 kilometres Relay\",\n",
       "       \"Cross Country Skiing Men's 30 kilometres\",\n",
       "       \"Athletics Women's 100 metres\",\n",
       "       \"Athletics Women's 4 x 100 metres Relay\",\n",
       "       \"Ice Hockey Men's Ice Hockey\",\n",
       "       \"Swimming Men's 400 metres Freestyle\", \"Badminton Men's Singles\",\n",
       "       \"Sailing Women's Windsurfer\",\n",
       "       \"Biathlon Women's 7.5 kilometres Sprint\",\n",
       "       \"Swimming Men's 200 metres Breaststroke\",\n",
       "       \"Swimming Men's 400 metres Breaststroke\",\n",
       "       \"Gymnastics Men's Individual All-Around\",\n",
       "       \"Gymnastics Men's Team All-Around\",\n",
       "       \"Gymnastics Men's Floor Exercise\", \"Gymnastics Men's Horse Vault\",\n",
       "       \"Gymnastics Men's Parallel Bars\",\n",
       "       \"Gymnastics Men's Horizontal Bar\", \"Gymnastics Men's Rings\",\n",
       "       \"Gymnastics Men's Pommelled Horse\", \"Athletics Men's Shot Put\",\n",
       "       'Art Competitions Mixed Sculpturing, Unknown Event',\n",
       "       \"Alpine Skiing Men's Downhill\", \"Alpine Skiing Men's Super G\",\n",
       "       \"Alpine Skiing Men's Giant Slalom\", \"Alpine Skiing Men's Slalom\",\n",
       "       \"Alpine Skiing Men's Combined\", \"Handball Women's Handball\",\n",
       "       \"Weightlifting Women's Super-Heavyweight\",\n",
       "       \"Wrestling Men's Light-Heavyweight, Greco-Roman\",\n",
       "       \"Speed Skating Men's 500 metres\",\n",
       "       \"Speed Skating Men's 1,500 metres\",\n",
       "       \"Gymnastics Men's Team All-Around, Free System\",\n",
       "       \"Luge Women's Singles\", \"Water Polo Men's Water Polo\",\n",
       "       'Sailing Mixed Three Person Keelboat', \"Hockey Women's Hockey\",\n",
       "       \"Rowing Men's Lightweight Double Sculls\",\n",
       "       \"Athletics Men's Pole Vault\", \"Athletics Men's High Jump\",\n",
       "       \"Sailing Men's Two Person Dinghy\", \"Athletics Men's 1,500 metres\",\n",
       "       \"Bobsleigh Men's Four\", \"Swimming Men's 100 metres Butterfly\",\n",
       "       \"Swimming Men's 200 metres Butterfly\",\n",
       "       \"Swimming Men's 4 x 100 metres Medley Relay\",\n",
       "       \"Football Women's Football\", \"Fencing Men's Foil, Individual\",\n",
       "       \"Fencing Men's epee, Individual\", \"Fencing Men's epee, Team\",\n",
       "       \"Speed Skating Men's 5,000 metres\",\n",
       "       \"Speed Skating Men's 10,000 metres\", 'Sailing Mixed 8 metres',\n",
       "       'Equestrianism Mixed Jumping, Individual',\n",
       "       \"Cross Country Skiing Men's 15 kilometres\",\n",
       "       \"Shooting Men's Small-Bore Rifle, Prone, 50 metres\",\n",
       "       \"Shooting Men's Rapid-Fire Pistol, 25 metres\",\n",
       "       \"Shooting Men's Trap\", \"Athletics Men's 4 x 100 metres Relay\",\n",
       "       \"Athletics Men's Long Jump\", \"Boxing Men's Light-Welterweight\",\n",
       "       \"Athletics Women's Javelin Throw\",\n",
       "       \"Wrestling Men's Heavyweight, Freestyle\",\n",
       "       \"Taekwondo Men's Flyweight\", \"Boxing Men's Heavyweight\",\n",
       "       \"Athletics Men's 5,000 metres\",\n",
       "       \"Cycling Men's Road Race, Individual\",\n",
       "       \"Cycling Men's Road Race, Team\", \"Weightlifting Men's Lightweight\",\n",
       "       \"Weightlifting Men's Middleweight\", \"Rowing Men's Coxless Pairs\",\n",
       "       \"Judo Men's Half-Middleweight\", \"Taekwondo Women's Flyweight\",\n",
       "       \"Boxing Men's Flyweight\", \"Basketball Women's Basketball\",\n",
       "       \"Diving Men's Platform\",\n",
       "       \"Canoeing Men's Canadian Doubles, 500 metres\",\n",
       "       \"Canoeing Men's Canadian Doubles, 1,000 metres\",\n",
       "       \"Canoeing Men's Kayak Fours, 1,000 metres\",\n",
       "       \"Handball Men's Handball\", \"Rowing Women's Coxless Pairs\",\n",
       "       \"Boxing Men's Middleweight\", \"Judo Men's Lightweight\",\n",
       "       \"Boxing Men's Featherweight\", \"Tennis Men's Doubles\",\n",
       "       'Shooting Mixed Skeet', \"Wrestling Men's Featherweight, Freestyle\",\n",
       "       'Sailing Mixed Two Person Heavyweight Dinghy',\n",
       "       \"Athletics Women's Shot Put\", \"Rowing Men's Coxed Eights\",\n",
       "       \"Cycling Women's Sprint\", \"Cycling Women's 500 metres Time Trial\",\n",
       "       \"Athletics Men's 110 metres Hurdles\", 'Shooting Mixed Trap',\n",
       "       \"Athletics Women's Marathon\", \"Athletics Men's 100 metres\",\n",
       "       \"Fencing Men's Foil, Team\", \"Fencing Men's Sabre, Team\",\n",
       "       \"Swimming Men's 100 metres Freestyle\",\n",
       "       \"Swimming Men's 4 x 200 metres Freestyle Relay\",\n",
       "       \"Boxing Men's Lightweight\", \"Modern Pentathlon Men's Individual\",\n",
       "       \"Boxing Men's Welterweight\", \"Rowing Men's Quadruple Sculls\",\n",
       "       \"Rowing Men's Double Sculls\", \"Rowing Men's Coxed Pairs\",\n",
       "       \"Athletics Men's 400 metres Hurdles\", \"Athletics Men's 400 metres\",\n",
       "       \"Athletics Men's Hammer Throw\",\n",
       "       \"Weightlifting Men's Featherweight\", \"Athletics Men's 800 metres\",\n",
       "       \"Hockey Men's Hockey\", \"Alpine Skiing Women's Slalom\",\n",
       "       \"Rowing Women's Single Sculls\",\n",
       "       \"Swimming Men's 50 metres Freestyle\",\n",
       "       \"Weightlifting Women's Featherweight\",\n",
       "       \"Water Polo Women's Water Polo\", \"Figure Skating Men's Singles\",\n",
       "       \"Weightlifting Men's Heavyweight\",\n",
       "       'Equestrianism Mixed Three-Day Event, Individual',\n",
       "       'Equestrianism Mixed Three-Day Event, Team',\n",
       "       'Figure Skating Mixed Team',\n",
       "       \"Sailing Women's Three Person Keelboat\",\n",
       "       \"Cycling Women's Road Race, Individual\", \"Golf Women's Individual\",\n",
       "       \"Softball Women's Softball\", \"Archery Women's Individual\",\n",
       "       \"Wrestling Men's Heavyweight, Greco-Roman\",\n",
       "       \"Volleyball Men's Volleyball\", \"Taekwondo Women's Heavyweight\",\n",
       "       \"Synchronized Swimming Women's Duet\",\n",
       "       \"Synchronized Swimming Women's Team\",\n",
       "       \"Taekwondo Women's Featherweight\", \"Athletics Men's Marathon\",\n",
       "       \"Athletics Men's 4 x 400 metres Relay\",\n",
       "       \"Athletics Men's 10,000 metres\", \"Athletics Women's 3,000 metres\",\n",
       "       \"Diving Women's Platform\", \"Shooting Men's Air Rifle, 10 metres\",\n",
       "       \"Athletics Men's 200 metres\", \"Weightlifting Men's Flyweight\",\n",
       "       \"Swimming Men's 100 metres Backstroke\",\n",
       "       \"Weightlifting Men's Light-Heavyweight\",\n",
       "       \"Wrestling Men's Lightweight, Greco-Roman\",\n",
       "       \"Fencing Men's Sabre, Individual\",\n",
       "       \"Wrestling Men's Super-Heavyweight, Greco-Roman\",\n",
       "       \"Shooting Men's Free Pistol, 50 metres\",\n",
       "       \"Shooting Men's Air Pistol, 10 metres\",\n",
       "       \"Rowing Men's Coxless Fours\", \"Boxing Men's Light-Flyweight\",\n",
       "       \"Boxing Men's Super-Heavyweight\",\n",
       "       \"Wrestling Men's Flyweight, Greco-Roman\",\n",
       "       \"Shooting Women's Air Rifle, 10 metres\",\n",
       "       \"Weightlifting Men's Middle-Heavyweight\",\n",
       "       \"Athletics Men's Javelin Throw\", \"Volleyball Women's Volleyball\",\n",
       "       \"Wrestling Men's Welterweight, Greco-Roman\",\n",
       "       \"Wrestling Men's Middleweight, Greco-Roman\",\n",
       "       \"Athletics Men's 3,000 metres Steeplechase\",\n",
       "       \"Wrestling Men's Middleweight, Freestyle\",\n",
       "       \"Swimming Women's 100 metres Backstroke\",\n",
       "       \"Swimming Women's 200 metres Backstroke\",\n",
       "       \"Swimming Women's 4 x 100 metres Medley Relay\",\n",
       "       \"Wrestling Men's Light-Heavyweight, Freestyle\",\n",
       "       \"Modern Pentathlon Men's Team\", \"Boxing Men's Bantamweight\",\n",
       "       \"Athletics Women's 200 metres\", \"Table Tennis Women's Singles\",\n",
       "       \"Table Tennis Women's Doubles\", \"Shooting Men's Skeet\",\n",
       "       \"Swimming Women's 50 metres Freestyle\",\n",
       "       \"Shooting Men's Small-Bore Rifle, Three Positions, 50 metres\",\n",
       "       \"Athletics Men's Triple Jump\", \"Weightlifting Women's Lightweight\",\n",
       "       \"Athletics Women's Long Jump\", \"Fencing Women's epee, Individual\",\n",
       "       \"Swimming Men's 200 metres Freestyle\",\n",
       "       \"Swimming Men's 4 x 100 metres Freestyle Relay\",\n",
       "       \"Swimming Men's 200 metres Backstroke\",\n",
       "       \"Swimming Men's 200 metres Individual Medley\",\n",
       "       \"Swimming Men's 400 metres Individual Medley\",\n",
       "       \"Badminton Women's Singles\", \"Boxing Men's Light-Middleweight\",\n",
       "       \"Tennis Men's Singles\", \"Wrestling Men's Bantamweight, Freestyle\",\n",
       "       \"Wrestling Men's Flyweight, Freestyle\",\n",
       "       \"Athletics Women's 5,000 metres\",\n",
       "       \"Weightlifting Women's Light-Heavyweight\",\n",
       "       \"Weightlifting Women's Heavyweight\",\n",
       "       \"Athletics Men's Discus Throw\", \"Taekwondo Men's Featherweight\",\n",
       "       \"Taekwondo Men's Welterweight\", \"Judo Men's Heavyweight\",\n",
       "       \"Cycling Men's Sprint\", \"Bobsleigh Men's Two\",\n",
       "       \"Wrestling Men's Lightweight, Freestyle\",\n",
       "       \"Nordic Combined Men's Team\", \"Nordic Combined Men's Individual\",\n",
       "       \"Baseball Men's Baseball\", \"Rowing Men's Coxed Fours\",\n",
       "       \"Cycling Men's 100 kilometres Team Time Trial\",\n",
       "       \"Rhythmic Gymnastics Women's Group\",\n",
       "       'Art Competitions Mixed Architecture, Designs For Town Planning',\n",
       "       'Art Competitions Mixed Architecture, Architectural Designs',\n",
       "       \"Gymnastics Women's Individual All-Around\",\n",
       "       \"Gymnastics Women's Team All-Around\",\n",
       "       \"Gymnastics Women's Floor Exercise\",\n",
       "       \"Gymnastics Women's Horse Vault\", \"Gymnastics Women's Uneven Bars\",\n",
       "       \"Gymnastics Women's Balance Beam\", \"Diving Women's Springboard\",\n",
       "       \"Diving Women's Synchronized Springboard\",\n",
       "       \"Athletics Women's 10,000 metres\", 'Sailing Mixed 7 metres',\n",
       "       \"Judo Women's Half-Middleweight\", \"Athletics Men's Decathlon\",\n",
       "       \"Biathlon Men's 10 kilometres Sprint\",\n",
       "       \"Biathlon Men's 20 kilometres\",\n",
       "       \"Biathlon Men's 4 x 7.5 kilometres Relay\",\n",
       "       \"Freestyle Skiing Men's Moguls\",\n",
       "       \"Wrestling Men's Middleweight A, Greco-Roman\",\n",
       "       \"Athletics Women's Discus Throw\",\n",
       "       \"Swimming Women's 4 x 100 metres Freestyle Relay\",\n",
       "       \"Athletics Women's 1,500 metres\",\n",
       "       \"Shooting Women's Air Pistol, 10 metres\",\n",
       "       \"Shooting Women's Sporting Pistol, 25 metres\",\n",
       "       \"Canoeing Men's Kayak Doubles, 500 metres\",\n",
       "       \"Canoeing Men's Kayak Singles, 500 metres\",\n",
       "       \"Canoeing Men's Kayak Singles, 1,000 metres\",\n",
       "       \"Shooting Men's Running Target, 50 metres\",\n",
       "       \"Judo Women's Half-Heavyweight\", \"Athletics Women's Pole Vault\",\n",
       "       \"Rugby Sevens Women's Rugby Sevens\", \"Table Tennis Men's Team\",\n",
       "       'Figure Skating Mixed Pairs', \"Freestyle Skiing Men's Aerials\",\n",
       "       \"Rowing Women's Coxed Eights\",\n",
       "       \"Athletics Women's 4 x 400 metres Relay\",\n",
       "       \"Alpine Skiing Women's Giant Slalom\",\n",
       "       \"Alpine Skiing Women's Super G\",\n",
       "       \"Cross Country Skiing Women's 5 kilometres\",\n",
       "       \"Cross Country Skiing Women's 10 kilometres\",\n",
       "       \"Cross Country Skiing Women's 20 kilometres\",\n",
       "       \"Cycling Men's 1,000 metres Time Trial\",\n",
       "       \"Cycling Men's Individual Pursuit, 4,000 metres\",\n",
       "       \"Wrestling Men's Welterweight, Freestyle\",\n",
       "       \"Wrestling Men's Bantamweight, Greco-Roman\",\n",
       "       \"Rowing Women's Lightweight Double Sculls\",\n",
       "       \"Athletics Women's 800 metres\",\n",
       "       \"Rowing Women's Coxed Quadruple Sculls\",\n",
       "       \"Biathlon Men's 12.5 kilometres Pursuit\",\n",
       "       'Biathlon Mixed 2 x 6 kilometres and 2 x 7.5 kilometres Relay',\n",
       "       \"Rhythmic Gymnastics Women's Individual\",\n",
       "       \"Canoeing Men's Kayak Singles, Slalom\", \"Archery Men's Individual\",\n",
       "       \"Archery Men's Team\", \"Speed Skating Women's 1,500 metres\",\n",
       "       \"Speed Skating Women's Team Pursuit (6 laps)\",\n",
       "       \"Cross Country Skiing Men's Sprint\",\n",
       "       \"Athletics Women's 400 metres\", \"Figure Skating Women's Singles\",\n",
       "       \"Speed Skating Men's 1,000 metres\",\n",
       "       \"Trampolining Men's Individual\",\n",
       "       \"Beach Volleyball Men's Beach Volleyball\",\n",
       "       \"Cycling Women's Mountainbike, Cross-Country\",\n",
       "       \"Athletics Men's Javelin Throw, Both Hands\",\n",
       "       \"Triathlon Women's Olympic Distance\",\n",
       "       \"Gymnastics Women's Team Portable Apparatus\",\n",
       "       \"Cycling Men's Mountainbike, Cross-Country\",\n",
       "       \"Athletics Women's 400 metres Hurdles\", \"Diving Men's Springboard\",\n",
       "       \"Wrestling Men's Featherweight, Greco-Roman\",\n",
       "       \"Table Tennis Men's Singles\", 'Art Competitions Mixed Painting',\n",
       "       \"Cross Country Skiing Women's 3 x 5 kilometres Relay\",\n",
       "       \"Judo Men's Open Class\", \"Rowing Women's Quadruple Sculls\",\n",
       "       \"Gymnastics Men's Team All-Around, Swedish System\",\n",
       "       \"Nordic Combined Men's Sprint\", \"Athletics Women's Pentathlon\",\n",
       "       'Art Competitions Mixed Painting, Unknown Event',\n",
       "       \"Cycling Men's Team Pursuit, 4,000 metres\",\n",
       "       \"Weightlifting Women's Middleweight\",\n",
       "       \"Swimming Men's 1,500 metres Freestyle\",\n",
       "       \"Wrestling Women's Light-Heavyweight, Freestyle\",\n",
       "       \"Swimming Women's 100 metres Freestyle\",\n",
       "       \"Equestrianism Men's Jumping, Individual\",\n",
       "       \"Equestrianism Men's Jumping, Team\",\n",
       "       \"Equestrianism Men's Three-Day Event, Individual\",\n",
       "       \"Equestrianism Men's Three-Day Event, Team\",\n",
       "       \"Alpine Skiing Women's Combined\", \"Athletics Women's High Jump\",\n",
       "       \"Ski Jumping Men's Normal Hill, Individual\",\n",
       "       \"Canoeing Women's Kayak Fours, 500 metres\",\n",
       "       \"Ice Hockey Women's Ice Hockey\", \"Sailing Men's One Person Dinghy\",\n",
       "       \"Trampolining Women's Individual\", \"Curling Men's Curling\",\n",
       "       'Art Competitions Mixed Literature', \"Judo Men's Middleweight\",\n",
       "       \"Biathlon Women's 15 kilometres\",\n",
       "       \"Biathlon Women's 3 x 7.5 kilometres Relay\",\n",
       "       \"Biathlon Women's 4 x 7.5 kilometres Relay\",\n",
       "       \"Judo Men's Half-Lightweight\", \"Fencing Women's Foil, Team\",\n",
       "       \"Swimming Women's 200 metres Butterfly\",\n",
       "       \"Swimming Women's 400 metres Individual Medley\",\n",
       "       \"Golf Men's Individual\", \"Athletics Men's Standing High Jump\",\n",
       "       \"Athletics Men's Standing Long Jump\",\n",
       "       \"Athletics Men's 20 kilometres Walk\",\n",
       "       \"Swimming Men's 220 yard Freestyle\",\n",
       "       \"Swimming Men's 880 yard Freestyle\",\n",
       "       \"Swimming Men's One Mile Freestyle\",\n",
       "       \"Swimming Men's 4 x 50 Yard Freestyle Relay\",\n",
       "       \"Swimming Men's Plunge For Distance\",\n",
       "       \"Shooting Men's Free Rifle, Three Positions, 300 metres\",\n",
       "       \"Shooting Men's Military Rifle, Three Positions, 300 metres\",\n",
       "       \"Shooting Men's Military Rifle, Any Position, 600 metres\",\n",
       "       \"Shooting Men's Military Rifle, 200, 400, 500 and 600 metres, Team\",\n",
       "       \"Shooting Men's Military Rifle, Prone, 300 metres\",\n",
       "       \"Judo Men's Half-Heavyweight\", \"Archery Women's Team\",\n",
       "       \"Athletics Men's 50 kilometres Walk\",\n",
       "       \"Rowing Women's Double Sculls\", 'Sailing Mixed 6 metres',\n",
       "       \"Boxing Men's Light-Heavyweight\", \"Boxing Women's Flyweight\",\n",
       "       \"Athletics Women's 100 metres Hurdles\",\n",
       "       \"Athletics Men's Discus Throw, Greek Style\",\n",
       "       \"Curling Women's Curling\", 'Sailing Mixed One Person Dinghy',\n",
       "       \"Wrestling Women's Heavyweight, Freestyle\",\n",
       "       'Badminton Mixed Doubles', \"Fencing Women's Foil, Individual\",\n",
       "       'Sailing Mixed Two Person Keelboat',\n",
       "       \"Shooting Men's Military Rifle, 300 metres and 600 metres, Prone, Team\",\n",
       "       \"Table Tennis Men's Doubles\",\n",
       "       \"Wrestling Men's Light-Flyweight, Freestyle\",\n",
       "       \"Wrestling Women's Featherweight, Freestyle\",\n",
       "       \"Swimming Women's 200 metres Freestyle\",\n",
       "       \"Swimming Women's 400 metres Freestyle\",\n",
       "       \"Swimming Women's 200 metres Individual Medley\",\n",
       "       \"Sailing Men's Windsurfer\", \"Freestyle Skiing Men's Slopestyle\",\n",
       "       \"Shooting Men's Running Target, Single Shot\",\n",
       "       \"Shooting Men's Running Target, Double Shot\",\n",
       "       \"Rugby Sevens Men's Rugby Sevens\",\n",
       "       \"Wrestling Women's Lightweight, Freestyle\",\n",
       "       \"Modern Pentathlon Women's Individual\",\n",
       "       \"Canoeing Men's Canadian Doubles, Slalom\",\n",
       "       \"Judo Women's Half-Lightweight\", \"Diving Women's Plain High\",\n",
       "       \"Equestrianism Men's Dressage, Individual\",\n",
       "       \"Equestrianism Men's Dressage, Team\",\n",
       "       \"Tennis Women's Singles, Covered Courts\",\n",
       "       \"Diving Men's Plain High\",\n",
       "       'Shooting Mixed Small-Bore Rifle, Three Positions, 50 metres',\n",
       "       'Shooting Mixed Small-Bore Rifle, Prone, 50 metres',\n",
       "       \"Swimming Women's 800 metres Freestyle\",\n",
       "       \"Sailing Women's Two Person Dinghy\",\n",
       "       \"Alpine Skiing Women's Downhill\",\n",
       "       \"Shooting Men's Free Pistol, 50 metres, Team\",\n",
       "       \"Shooting Men's Free Rifle, Three Positions, 300 metres, Team\",\n",
       "       \"Shooting Men's Military Rifle, Prone, 300 metres, Team\",\n",
       "       \"Shooting Men's Military Rifle, Prone, 600 metres, Team\",\n",
       "       \"Shooting Men's Military Rifle, Standing, 300 metres, Team\",\n",
       "       \"Shooting Men's Free Rifle, Prone, 600 metres\",\n",
       "       \"Shooting Men's Free Rifle, 400, 600 and 800 metres, Team\",\n",
       "       \"Rowing Men's Single Sculls\",\n",
       "       \"Cycling Men's Tandem Sprint, 2,000 metres\",\n",
       "       \"Freestyle Skiing Women's Halfpipe\",\n",
       "       \"Athletics Women's Heptathlon\", \"Cycling Men's Points Race\",\n",
       "       \"Synchronized Swimming Women's Solo\",\n",
       "       'Equestrianism Mixed Dressage, Individual',\n",
       "       'Equestrianism Mixed Dressage, Team',\n",
       "       \"Cross Country Skiing Men's 18 kilometres\",\n",
       "       \"Swimming Men's 100 metres Breaststroke\",\n",
       "       'Figure Skating Mixed Ice Dancing',\n",
       "       'Shooting Mixed Free Pistol, 50 metres', \"Sailing Women's Skiff\",\n",
       "       \"Canoeing Men's Kayak Doubles, 10,000 metres\",\n",
       "       \"Triathlon Men's Olympic Distance\",\n",
       "       \"Sailing Women's One Person Dinghy\",\n",
       "       \"Cross Country Skiing Women's 30 kilometres\",\n",
       "       \"Cross Country Skiing Women's 15 km Skiathlon\",\n",
       "       \"Rowing Men's 17-Man Naval Rowing Boats\",\n",
       "       \"Beach Volleyball Women's Beach Volleyball\",\n",
       "       \"Weightlifting Men's Super-Heavyweight\",\n",
       "       \"Rowing Men's Lightweight Coxless Fours\",\n",
       "       \"Wrestling Men's Light-Flyweight, Greco-Roman\",\n",
       "       \"Canoeing Men's Canadian Singles, 1,000 metres\",\n",
       "       'Sailing Mixed 5.5 metres', 'Equestrianism Mixed Jumping, Team',\n",
       "       \"Diving Men's Synchronized Platform\",\n",
       "       \"Snowboarding Men's Halfpipe\",\n",
       "       \"Canoeing Women's Kayak Singles, Slalom\",\n",
       "       \"Weightlifting Women's Flyweight\",\n",
       "       \"Swimming Women's 100 metres Breaststroke\",\n",
       "       \"Swimming Women's 200 metres Breaststroke\",\n",
       "       \"Wrestling Men's Middleweight B, Greco-Roman\",\n",
       "       \"Athletics Men's Stone Throw\",\n",
       "       \"Athletics Men's Javelin Throw, Freestyle\",\n",
       "       \"Athletics Men's Pentathlon (Ancient)\",\n",
       "       \"Shooting Women's Small-Bore Rifle, Three Positions, 50 metres\",\n",
       "       \"Swimming Women's 100 metres Butterfly\",\n",
       "       \"Weightlifting Men's Heavyweight I\",\n",
       "       \"Athletics Women's 3,000 metres Steeplechase\",\n",
       "       \"Athletics Men's Shot Put, Both Hands\",\n",
       "       \"Ski Jumping Men's Large Hill, Individual\",\n",
       "       \"Ski Jumping Men's Large Hill, Team\", \"Shooting Women's Trap\",\n",
       "       \"Badminton Men's Doubles\",\n",
       "       \"Swimming Women's 4 x 200 metres Freestyle Relay\",\n",
       "       \"Athletics Men's 10 kilometres Walk\",\n",
       "       \"Athletics Women's 20 kilometres Walk\",\n",
       "       \"Athletics Women's 80 metres Hurdles\",\n",
       "       \"Sailing Men's One Person Heavyweight Dinghy\",\n",
       "       \"Freestyle Skiing Women's Aerials\",\n",
       "       'Art Competitions Mixed Painting, Paintings',\n",
       "       'Tennis Mixed Doubles, Covered Courts', \"Cycling Men's Madison\",\n",
       "       'Art Competitions Mixed Sculpturing, Statues', \"Rugby Men's Rugby\",\n",
       "       \"Weightlifting Men's Heavyweight II\",\n",
       "       \"Canoeing Women's Kayak Doubles, 500 metres\",\n",
       "       \"Short Track Speed Skating Men's 5,000 metres Relay\",\n",
       "       \"Cycling Men's Individual Time Trial\", \"Judo Women's Heavyweight\",\n",
       "       \"Canoeing Men's Kayak Doubles, 1,000 metres\",\n",
       "       \"Gymnastics Men's Individual All-Around, 5 Events\",\n",
       "       \"Wrestling Men's Super-Heavyweight, Freestyle\",\n",
       "       \"Biathlon Women's 10 kilometres Pursuit\",\n",
       "       \"Biathlon Women's 12.5 kilometres Mass Start\",\n",
       "       \"Biathlon Women's 4 x 6 kilometres Relay\",\n",
       "       \"Fencing Women's Sabre, Team\", \"Shooting Men's Double Trap\",\n",
       "       \"Weightlifting Men's Bantamweight\", \"Taekwondo Men's Heavyweight\",\n",
       "       'Sailing Mixed Windsurfer', \"Taekwondo Women's Welterweight\",\n",
       "       'Shooting Mixed Free Rifle, Three Positions, 300 metres',\n",
       "       \"Skeleton Men's Skeleton\", \"Cycling Men's 50 kilometres\",\n",
       "       'Shooting Mixed Rapid-Fire Pistol, 25 metres',\n",
       "       \"Cycling Men's 333 metres Time Trial\",\n",
       "       \"Cycling Men's 20 kilometres\",\n",
       "       \"Canoeing Men's Kayak Singles, 10,000 metres\",\n",
       "       'Sailing Mixed Open', 'Sailing Mixed 1-2 Ton',\n",
       "       \"Canoeing Men's Canadian Singles, Slalom\", \"Luge Men's Singles\",\n",
       "       \"Luge Mixed (Men)'s Doubles\", 'Sailing Mixed Multihull',\n",
       "       \"Badminton Women's Doubles\", \"Speed Skating Women's 3,000 metres\",\n",
       "       \"Cross Country Skiing Women's 5/10 kilometres Pursuit\",\n",
       "       \"Cross Country Skiing Women's 4 x 5 kilometres Relay\",\n",
       "       \"Cross Country Skiing Women's 15 kilometres\",\n",
       "       \"Cross Country Skiing Women's 5/5 kilometres Pursuit\",\n",
       "       \"Diving Women's Synchronized Platform\",\n",
       "       \"Athletics Women's Triple Jump\", \"Skeleton Women's Skeleton\",\n",
       "       \"Bobsleigh Men's Four/Five\",\n",
       "       'Art Competitions Mixed Painting, Drawings And Water Colors',\n",
       "       \"Shooting Men's Dueling Pistol, 30 metres\",\n",
       "       \"Boxing Women's Lightweight\", \"Cycling Women's BMX\",\n",
       "       \"Canoeing Men's Kayak Doubles, 200 metres\",\n",
       "       \"Fencing Men's Sabre, Masters, Individual\",\n",
       "       \"Lacrosse Men's Lacrosse\",\n",
       "       \"Canoeing Women's Kayak Singles, 500 metres\",\n",
       "       \"Athletics Women's 10 kilometres Walk\", 'Sailing Mixed 12 metres',\n",
       "       \"Judo Women's Extra-Lightweight\",\n",
       "       \"Diving Men's Synchronized Springboard\",\n",
       "       \"Rowing Men's Coxed Fours, Outriggers\",\n",
       "       \"Gymnastics Men's Rope Climbing\",\n",
       "       'Sailing Mixed Two Person Dinghy',\n",
       "       'Art Competitions Mixed Architecture, Unknown Event',\n",
       "       \"Archery Men's Target Archery, 28 metres, Team\",\n",
       "       \"Archery Men's Target Archery, 33 metres, Team\",\n",
       "       \"Archery Men's Target Archery, 50 metres, Team\",\n",
       "       \"Short Track Speed Skating Women's 3,000 metres Relay\",\n",
       "       \"Freestyle Skiing Women's Moguls\",\n",
       "       \"Short Track Speed Skating Men's 500 metres\",\n",
       "       \"Shooting Men's Running Target, 10 metres\", \"Polo Men's Polo\",\n",
       "       \"Rowing Men's Coxed Fours, Inriggers\", \"Cycling Men's BMX\",\n",
       "       'Art Competitions Mixed Sculpturing',\n",
       "       \"Athletics Men's Cross-Country, Individual\",\n",
       "       \"Athletics Men's Cross-Country, Team\", 'Sailing Mixed 40 metres',\n",
       "       \"Cross Country Skiing Men's 10/10 kilometres Pursuit\",\n",
       "       \"Ski Jumping Women's Normal Hill, Individual\",\n",
       "       \"Short Track Speed Skating Men's 1,000 metres\",\n",
       "       \"Short Track Speed Skating Men's 1,500 metres\",\n",
       "       \"Gymnastics Men's Club Swinging\", \"Tennis Women's Singles\",\n",
       "       'Tennis Mixed Doubles', \"Tennis Women's Doubles\",\n",
       "       \"Judo Women's Middleweight\", \"Judo Women's Lightweight\",\n",
       "       \"Cross Country Skiing Men's Team Sprint\",\n",
       "       \"Snowboarding Women's Halfpipe\",\n",
       "       \"Canoeing Women's Kayak Singles, 200 metres\",\n",
       "       \"Canoeing Men's Kayak Relay 4 x 500 metres\",\n",
       "       \"Athletics Men's 3,000 metres, Team\",\n",
       "       \"Cross Country Skiing Women's Sprint\",\n",
       "       \"Shooting Men's Small-Bore Rifle, Prone, 50 and 100 yards\",\n",
       "       \"Shooting Men's Small-Bore Rifle, 50 and 100 yards, Team\",\n",
       "       \"Shooting Men's Small-Bore Rifle, Disappearing Target, 25 yards\",\n",
       "       \"Shooting Men's Small-Bore Rifle, Moving Target, 25 yards\",\n",
       "       \"Shooting Men's Military Pistol, Team\",\n",
       "       \"Rowing Women's Coxed Fours\",\n",
       "       \"Weightlifting Men's Unlimited, One Hand\",\n",
       "       \"Canoeing Men's Canadian Singles, 500 metres\",\n",
       "       \"Fencing Men's Foil, Masters, Individual\",\n",
       "       \"Fencing Men's epee, Masters, Individual\",\n",
       "       \"Gymnastics Men's Individual All-Around, Field Sports\",\n",
       "       \"Gymnastics Men's Individual All-Around, Apparatus Work\",\n",
       "       'Art Competitions Mixed Music, Compositions For Solo Or Chorus',\n",
       "       \"Fencing Women's epee, Team\",\n",
       "       \"Swimming Men's 4,000 metres Freestyle\",\n",
       "       \"Swimming Men's Underwater Swimming\", 'Sailing Mixed Skiff',\n",
       "       \"Shooting Men's Military Rifle, 200/500/600/800/900/1,000 Yards, Team\",\n",
       "       \"Shooting Men's Running Target, Single And Double Shot\",\n",
       "       \"Shooting Men's Small-Bore Rifle, Any Position, 50 metres\",\n",
       "       \"Shooting Men's Small-Bore Rifle, Disappearing Target, 25 metres\",\n",
       "       \"Swimming Women's 10 kilometres Open Water\",\n",
       "       \"Snowboarding Women's Slopestyle\",\n",
       "       \"Snowboarding Men's Giant Slalom\",\n",
       "       \"Snowboarding Men's Parallel Giant Slalom\",\n",
       "       \"Snowboarding Men's Boardercross\",\n",
       "       \"Snowboarding Men's Parallel Slalom\",\n",
       "       \"Cycling Men's Team Pursuit, 1,980 yards\",\n",
       "       \"Cycling Men's 5,000 metres\", \"Cycling Men's 100 kilometres\",\n",
       "       \"Cricket Men's Cricket\",\n",
       "       \"Canoeing Men's Canadian Singles, 10,000 metres\",\n",
       "       \"Cross Country Skiing Women's Team Sprint\",\n",
       "       \"Boxing Women's Middleweight\", \"Sailing Men's Skiff\",\n",
       "       \"Athletics Men's Pentathlon\",\n",
       "       \"Swimming Men's 1,200 metres Freestyle\", \"Shooting Women's Skeet\",\n",
       "       \"Biathlon Men's 15 kilometres Mass Start\",\n",
       "       \"Cross Country Skiing Men's 30 km Skiathlon\",\n",
       "       \"Cycling Men's 1/4 mile\", \"Cycling Men's 1/2 mile\",\n",
       "       \"Cycling Men's 5 mile\", \"Cycling Men's 25 mile\",\n",
       "       \"Shooting Men's Small-Bore Rifle, Standing, 50 metres\",\n",
       "       \"Shooting Men's Small Bore-Rifle, Standing, 50 metres, Team\",\n",
       "       \"Speed Skating Men's Team Pursuit (8 laps)\",\n",
       "       \"Shooting Men's Free Rifle, 1,000 Yards\",\n",
       "       \"Cycling Women's Team Pursuit\",\n",
       "       \"Speed Skating Women's 5,000 metres\",\n",
       "       \"Athletics Men's 3,000 metres Walk\",\n",
       "       \"Snowboarding Women's Boardercross\",\n",
       "       'Shooting Mixed Running Target, 50 metres',\n",
       "       'Luge Mixed Team Relay', \"Cycling Women's Individual Time Trial\",\n",
       "       \"Fencing Women's Sabre, Individual\",\n",
       "       \"Fencing Men's Sabre, Individual, Three Hits\",\n",
       "       \"Archery Women's Double National Round\", \"Cycling Men's Omnium\",\n",
       "       'Equestrianism Mixed Hacks And Hunter Combined',\n",
       "       'Sailing Mixed 10 metres', \"Shooting Men's Trap, Team\",\n",
       "       \"Cycling Women's Individual Pursuit, 3,000 metres\",\n",
       "       \"Cycling Women's Points Race\", \"Sailing Men's Two Person Keelboat\",\n",
       "       \"Cycling Men's Keirin\", \"Cycling Men's Team Sprint\",\n",
       "       \"Athletics Men's 5 mile\",\n",
       "       \"Shooting Men's Running Target, Single Shot, Team\",\n",
       "       \"Bobsleigh Women's Two\", \"Racquets Men's Singles\",\n",
       "       \"Racquets Men's Doubles\",\n",
       "       'Art Competitions Mixed Literature, Lyric Works',\n",
       "       'Motorboating Mixed A-Class (Open)',\n",
       "       \"Archery Men's Continental Style\",\n",
       "       \"Military Ski Patrol Men's Military Ski Patrol\",\n",
       "       'Art Competitions Mixed Painting, Graphic Arts',\n",
       "       \"Wrestling Women's Flyweight, Freestyle\",\n",
       "       'Art Competitions Mixed Literature, Unknown Event',\n",
       "       'Sailing Mixed 0.5-1 Ton',\n",
       "       'Art Competitions Mixed Painting, Applied Arts',\n",
       "       'Croquet Mixed Singles, One Ball', 'Croquet Mixed Doubles',\n",
       "       \"Shooting Men's Running Target, Double Shot, Team\",\n",
       "       \"Shooting Men's Free Pistol, 50 yards\",\n",
       "       \"Shooting Men's Free Pistol, 50 yards, Team\",\n",
       "       \"Fencing Men's epee, Masters and Amateurs, Individual\",\n",
       "       \"Swimming Men's 10 kilometres Open Water\",\n",
       "       'Art Competitions Mixed Music, Compositions For Orchestra',\n",
       "       \"Archery Men's Double York Round\",\n",
       "       \"Wrestling Women's Middleweight, Freestyle\",\n",
       "       \"Equestrianism Men's Vaulting, Individual\",\n",
       "       \"Swimming Men's 4 x 250 metres Freestyle Relay\",\n",
       "       \"Freestyle Skiing Women's Slopestyle\", \"Table Tennis Women's Team\",\n",
       "       \"Athletics Women's Hammer Throw\",\n",
       "       \"Canoeing Men's Kayak Singles, 200 metres\",\n",
       "       \"Short Track Speed Skating Women's 500 metres\",\n",
       "       \"Shooting Women's Double Trap\",\n",
       "       \"Rowing Men's 6-Man Naval Rowing Boats\",\n",
       "       'Art Competitions Mixed Music',\n",
       "       \"Shooting Men's Free Rifle, Kneeling, 300 metres\",\n",
       "       \"Shooting Men's Free Rifle, Prone, 300 metres\",\n",
       "       \"Shooting Men's Free Rifle, Standing, 300 metres\",\n",
       "       \"Short Track Speed Skating Women's 1,000 metres\",\n",
       "       \"Athletics Men's 3,200 metres Steeplechase\",\n",
       "       \"Rowing Women's Coxless Fours\",\n",
       "       \"Freestyle Skiing Women's Ski Cross\",\n",
       "       \"Freestyle Skiing Men's Ski Cross\",\n",
       "       \"Tennis Men's Doubles, Covered Courts\",\n",
       "       \"Tennis Men's Singles, Covered Courts\",\n",
       "       \"Cycling Men's 25 kilometres\",\n",
       "       \"Nordic Combined Men's Normal Hill / 10 km, Individual\",\n",
       "       \"Nordic Combined Men's Large Hill / 10 km, Individual\",\n",
       "       \"Shooting Men's Military Rifle, 200 metres\",\n",
       "       \"Short Track Speed Skating Women's 1,500 metres\",\n",
       "       \"Athletics Men's Standing Triple Jump\",\n",
       "       \"Rowing Men's Coxed Pairs (1 kilometres)\",\n",
       "       \"Shooting Men's Military Pistol, 30 metres\",\n",
       "       \"Cycling Women's Keirin\",\n",
       "       \"Archery Men's Au Cordon Dore, 50 metres\",\n",
       "       \"Swimming Women's 300 metres Freestyle\",\n",
       "       \"Snowboarding Women's Giant Slalom\",\n",
       "       \"Canoeing Men's Canadian Singles, 200 metres\",\n",
       "       'Sailing Mixed 30 metres',\n",
       "       \"Athletics Men's 4,000 metres Steeplechase\",\n",
       "       \"Athletics Men's 5,000 metres, Team\",\n",
       "       \"Snowboarding Men's Slopestyle\",\n",
       "       \"Rowing Men's Coxed Pairs (1 mile)\",\n",
       "       'Art Competitions Mixed Unknown Event', \"Cycling Women's Omnium\",\n",
       "       \"Freestyle Skiing Men's Halfpipe\",\n",
       "       \"Swimming Men's 200 metres Obstacle Course\",\n",
       "       \"Swimming Men's 200 metres Team Swimming\", 'Sailing Mixed 12 foot',\n",
       "       'Art Competitions Mixed Music, Instrumental And Chamber',\n",
       "       'Art Competitions Mixed Music, Vocals',\n",
       "       'Art Competitions Mixed Literature, Dramatic Works',\n",
       "       \"Jeu De Paume Men's Singles\", 'Sailing Mixed 10-20 Ton',\n",
       "       \"Cycling Men's 1/3 mile\", \"Cycling Men's 1 mile\",\n",
       "       \"Cycling Men's 2 mile\",\n",
       "       'Art Competitions Mixed Sculpturing, Medals And Plaques',\n",
       "       \"Athletics Men's 1,600 metres Medley Relay\",\n",
       "       'Croquet Mixed Singles, Two Balls',\n",
       "       \"Canoeing Men's Folding Kayak Doubles, 10 kilometres\",\n",
       "       \"Athletics Men's 60 metres\",\n",
       "       \"Snowboarding Women's Parallel Giant Slalom\",\n",
       "       'Sailing Mixed 2-3 Ton', \"Speed Skating Men's Allround\",\n",
       "       \"Shooting Men's Military Rifle, Prone, 600 metres\",\n",
       "       \"Canoeing Men's Canadian Doubles, 10,000 metres\",\n",
       "       \"Snowboarding Women's Parallel Slalom\",\n",
       "       \"Shooting Men's Dueling Pistol, 30 metres, Team\",\n",
       "       \"Gymnastics Men's Parallel Bars, Teams\",\n",
       "       \"Gymnastics Men's Horizontal Bar, Teams\",\n",
       "       \"Shooting Men's Small-Bore Rifle, Disappearing Target, 25 metres, Team\",\n",
       "       'Art Competitions Mixed Sculpturing, Medals And Reliefs',\n",
       "       \"Athletics Men's 1,500 metres Walk\",\n",
       "       \"Athletics Men's 3 mile, Team\",\n",
       "       'Art Competitions Mixed Sculpturing, Medals',\n",
       "       \"Shooting Men's Military Rifle, Kneeling Or Standing, 300 metres\",\n",
       "       \"Equestrianism Men's Vaulting, Team\",\n",
       "       \"Shooting Men's Free Rifle, Any Position, 300 metres\",\n",
       "       \"Shooting Men's Military Rifle, 1873-1874 Gras Model, Kneeling Or Standing, 200 metres\",\n",
       "       \"Swimming Men's 100 Yard Backstroke\",\n",
       "       \"Swimming Men's 440 Yard Breaststroke\",\n",
       "       'Art Competitions Mixed Literature, Epic Works',\n",
       "       'Art Competitions Mixed Architecture',\n",
       "       \"Athletics Men's 3,500 metres Walk\", \"Roque Men's Singles\",\n",
       "       \"Gymnastics Men's Side Horse\", 'Alpinism Mixed Alpinism',\n",
       "       \"Archery Men's Double American Round\", \"Archery Men's Team Round\",\n",
       "       \"Archery Men's Target Archery, 33 metres, Individual\",\n",
       "       \"Archery Men's Target Archery, 50 metres, Individual\",\n",
       "       \"Swimming Men's 1,000 metres Freestyle\",\n",
       "       \"Athletics Men's 10 mile Walk\",\n",
       "       \"Athletics Men's Discus Throw, Both Hands\", \"Golf Men's Team\",\n",
       "       'Sailing Mixed 0-0.5 Ton', 'Sailing Mixed 20+ Ton',\n",
       "       \"Cycling Women's Team Sprint\",\n",
       "       \"Weightlifting Men's Unlimited, Two Hands\",\n",
       "       \"Shooting Men's Free Pistol, 25 metres\",\n",
       "       \"Shooting Men's Military Revolver, 1873-1874 Gras Model, 20 metres\",\n",
       "       \"Shooting Men's Military Revolver, 20 metres\",\n",
       "       \"Shooting Men's Dueling Pistol Au Vise 20 metres\",\n",
       "       \"Shooting Men's Dueling Pistol Au Commandement, 25 metres\",\n",
       "       \"Shooting Men's Small-Bore Rifle, Prone, 50 metres, Team\",\n",
       "       'Sailing Mixed 6.5 metres', \"Athletics Men's 200 metres Hurdles\",\n",
       "       \"Athletics Men's 56-pound Weight Throw\",\n",
       "       'Equestrianism Mixed Four-In-Hand Competition',\n",
       "       \"Athletics Men's 2,500 metres Steeplechase\",\n",
       "       'Art Competitions Mixed Music, Unknown Event',\n",
       "       \"Athletics Men's All-Around Championship\",\n",
       "       \"Archery Men's Pole Archery, Small Birds, Individual\",\n",
       "       \"Archery Men's Pole Archery, Large Birds, Individual\",\n",
       "       \"Archery Men's Pole Archery, Small Birds, Team\",\n",
       "       \"Archery Men's Pole Archery, Large Birds, Team\",\n",
       "       \"Athletics Men's 2,590 metres Steeplechase\",\n",
       "       \"Archery Women's Double Columbia Round\",\n",
       "       \"Athletics Men's 4 mile, Team\",\n",
       "       \"Figure Skating Men's Special Figures\",\n",
       "       \"Shooting Men's Military Rifle, Standing, 300 metres\",\n",
       "       \"Swimming Men's 50 yard Freestyle\",\n",
       "       \"Swimming Men's 100 yard Freestyle\",\n",
       "       \"Swimming Men's 440 yard Freestyle\",\n",
       "       \"Basque Pelota Men's Two-Man Teams With Cesta\",\n",
       "       \"Shooting Men's Trap, Single Shot, 16 metres\",\n",
       "       \"Shooting Men's Trap, Double Shot, 14 metres\",\n",
       "       'Equestrianism Mixed Long Jump',\n",
       "       \"Canoeing Men's Folding Kayak Singles, 10 kilometres\",\n",
       "       \"Shooting Men's Free Pistol, 30 metres\",\n",
       "       \"Shooting Men's Military Pistol, 25 metres\",\n",
       "       \"Swimming Men's 100 metres Freestyle For Sailors\",\n",
       "       \"Archery Men's Sur La Perche a La Herse\", 'Sailing Mixed 3-10 Ton',\n",
       "       \"Gymnastics Men's Individual All-Around, 4 Events\",\n",
       "       \"Wrestling Men's Unlimited Class, Greco-Roman\",\n",
       "       'Motorboating Mixed B-Class (Under 60 Feet)',\n",
       "       'Motorboating Mixed C-Class', \"Cycling Men's 10,000 metres\",\n",
       "       'Art Competitions Mixed Sculpturing, Reliefs',\n",
       "       \"Shooting Men's Muzzle-Loading Pistol, 25 metres\",\n",
       "       'Equestrianism Mixed High Jump',\n",
       "       \"Archery Men's Sur La Perche a La Pyramide\",\n",
       "       \"Fencing Men's Single Sticks, Individual\",\n",
       "       \"Gymnastics Men's Tumbling\", \"Shooting Men's Unknown Event\",\n",
       "       'Sailing Mixed 18 foot', \"Archery Men's Unknown Event\",\n",
       "       \"Archery Men's Au Chapelet, 50 metres\",\n",
       "       \"Archery Men's Championnat Du Monde\", \"Archery Women's Team Round\",\n",
       "       \"Wrestling Men's All-Around, Greco-Roman\",\n",
       "       \"Cycling Men's 12-Hours Race\",\n",
       "       \"Swimming Men's 500 metres Freestyle\",\n",
       "       \"Weightlifting Men's All-Around Dumbbell Contest\",\n",
       "       \"Archery Men's Au Chapelet, 33 metres\",\n",
       "       \"Archery Men's Au Cordon Dore, 33 metres\",\n",
       "       \"Archery Men's Target Archery, 28 metres, Individual\",\n",
       "       'Aeronautics Mixed Aeronautics'], dtype=object)"
      ]
     },
     "execution_count": 72,
     "metadata": {},
     "output_type": "execute_result"
    }
   ],
   "source": [
    "event_df = df.Event.unique()\n",
    "event_df"
   ]
  },
  {
   "cell_type": "code",
   "execution_count": 73,
   "metadata": {},
   "outputs": [
    {
     "data": {
      "text/html": [
       "<div>\n",
       "<style scoped>\n",
       "    .dataframe tbody tr th:only-of-type {\n",
       "        vertical-align: middle;\n",
       "    }\n",
       "\n",
       "    .dataframe tbody tr th {\n",
       "        vertical-align: top;\n",
       "    }\n",
       "\n",
       "    .dataframe thead th {\n",
       "        text-align: right;\n",
       "    }\n",
       "</style>\n",
       "<table border=\"1\" class=\"dataframe\">\n",
       "  <thead>\n",
       "    <tr style=\"text-align: right;\">\n",
       "      <th></th>\n",
       "      <th>ID</th>\n",
       "      <th>Name</th>\n",
       "      <th>Sex</th>\n",
       "      <th>Age</th>\n",
       "      <th>Height</th>\n",
       "      <th>Weight</th>\n",
       "      <th>Team</th>\n",
       "      <th>NOC</th>\n",
       "      <th>Games</th>\n",
       "      <th>Year</th>\n",
       "      <th>Season</th>\n",
       "      <th>City</th>\n",
       "      <th>Sport</th>\n",
       "      <th>Event</th>\n",
       "      <th>Medal</th>\n",
       "      <th>region</th>\n",
       "      <th>notes</th>\n",
       "    </tr>\n",
       "  </thead>\n",
       "  <tbody>\n",
       "    <tr>\n",
       "      <th>10</th>\n",
       "      <td>6</td>\n",
       "      <td>Per Knut Aaland</td>\n",
       "      <td>M</td>\n",
       "      <td>31.0</td>\n",
       "      <td>188.0</td>\n",
       "      <td>75.0</td>\n",
       "      <td>United States</td>\n",
       "      <td>USA</td>\n",
       "      <td>1992 Winter</td>\n",
       "      <td>1992</td>\n",
       "      <td>Winter</td>\n",
       "      <td>Albertville</td>\n",
       "      <td>Cross Country Skiing</td>\n",
       "      <td>Cross Country Skiing Men's 10 kilometres</td>\n",
       "      <td>NaN</td>\n",
       "      <td>USA</td>\n",
       "      <td>NaN</td>\n",
       "    </tr>\n",
       "    <tr>\n",
       "      <th>11</th>\n",
       "      <td>6</td>\n",
       "      <td>Per Knut Aaland</td>\n",
       "      <td>M</td>\n",
       "      <td>31.0</td>\n",
       "      <td>188.0</td>\n",
       "      <td>75.0</td>\n",
       "      <td>United States</td>\n",
       "      <td>USA</td>\n",
       "      <td>1992 Winter</td>\n",
       "      <td>1992</td>\n",
       "      <td>Winter</td>\n",
       "      <td>Albertville</td>\n",
       "      <td>Cross Country Skiing</td>\n",
       "      <td>Cross Country Skiing Men's 50 kilometres</td>\n",
       "      <td>NaN</td>\n",
       "      <td>USA</td>\n",
       "      <td>NaN</td>\n",
       "    </tr>\n",
       "    <tr>\n",
       "      <th>12</th>\n",
       "      <td>6</td>\n",
       "      <td>Per Knut Aaland</td>\n",
       "      <td>M</td>\n",
       "      <td>31.0</td>\n",
       "      <td>188.0</td>\n",
       "      <td>75.0</td>\n",
       "      <td>United States</td>\n",
       "      <td>USA</td>\n",
       "      <td>1992 Winter</td>\n",
       "      <td>1992</td>\n",
       "      <td>Winter</td>\n",
       "      <td>Albertville</td>\n",
       "      <td>Cross Country Skiing</td>\n",
       "      <td>Cross Country Skiing Men's 10/15 kilometres Pu...</td>\n",
       "      <td>NaN</td>\n",
       "      <td>USA</td>\n",
       "      <td>NaN</td>\n",
       "    </tr>\n",
       "    <tr>\n",
       "      <th>13</th>\n",
       "      <td>6</td>\n",
       "      <td>Per Knut Aaland</td>\n",
       "      <td>M</td>\n",
       "      <td>31.0</td>\n",
       "      <td>188.0</td>\n",
       "      <td>75.0</td>\n",
       "      <td>United States</td>\n",
       "      <td>USA</td>\n",
       "      <td>1992 Winter</td>\n",
       "      <td>1992</td>\n",
       "      <td>Winter</td>\n",
       "      <td>Albertville</td>\n",
       "      <td>Cross Country Skiing</td>\n",
       "      <td>Cross Country Skiing Men's 4 x 10 kilometres R...</td>\n",
       "      <td>NaN</td>\n",
       "      <td>USA</td>\n",
       "      <td>NaN</td>\n",
       "    </tr>\n",
       "    <tr>\n",
       "      <th>14</th>\n",
       "      <td>6</td>\n",
       "      <td>Per Knut Aaland</td>\n",
       "      <td>M</td>\n",
       "      <td>33.0</td>\n",
       "      <td>188.0</td>\n",
       "      <td>75.0</td>\n",
       "      <td>United States</td>\n",
       "      <td>USA</td>\n",
       "      <td>1994 Winter</td>\n",
       "      <td>1994</td>\n",
       "      <td>Winter</td>\n",
       "      <td>Lillehammer</td>\n",
       "      <td>Cross Country Skiing</td>\n",
       "      <td>Cross Country Skiing Men's 10 kilometres</td>\n",
       "      <td>NaN</td>\n",
       "      <td>USA</td>\n",
       "      <td>NaN</td>\n",
       "    </tr>\n",
       "  </tbody>\n",
       "</table>\n",
       "</div>"
      ],
      "text/plain": [
       "    ID             Name Sex   Age  Height  Weight           Team  NOC  \\\n",
       "10   6  Per Knut Aaland   M  31.0   188.0    75.0  United States  USA   \n",
       "11   6  Per Knut Aaland   M  31.0   188.0    75.0  United States  USA   \n",
       "12   6  Per Knut Aaland   M  31.0   188.0    75.0  United States  USA   \n",
       "13   6  Per Knut Aaland   M  31.0   188.0    75.0  United States  USA   \n",
       "14   6  Per Knut Aaland   M  33.0   188.0    75.0  United States  USA   \n",
       "\n",
       "          Games  Year  Season         City                 Sport  \\\n",
       "10  1992 Winter  1992  Winter  Albertville  Cross Country Skiing   \n",
       "11  1992 Winter  1992  Winter  Albertville  Cross Country Skiing   \n",
       "12  1992 Winter  1992  Winter  Albertville  Cross Country Skiing   \n",
       "13  1992 Winter  1992  Winter  Albertville  Cross Country Skiing   \n",
       "14  1994 Winter  1994  Winter  Lillehammer  Cross Country Skiing   \n",
       "\n",
       "                                                Event Medal region notes  \n",
       "10           Cross Country Skiing Men's 10 kilometres   NaN    USA   NaN  \n",
       "11           Cross Country Skiing Men's 50 kilometres   NaN    USA   NaN  \n",
       "12  Cross Country Skiing Men's 10/15 kilometres Pu...   NaN    USA   NaN  \n",
       "13  Cross Country Skiing Men's 4 x 10 kilometres R...   NaN    USA   NaN  \n",
       "14           Cross Country Skiing Men's 10 kilometres   NaN    USA   NaN  "
      ]
     },
     "execution_count": 73,
     "metadata": {},
     "output_type": "execute_result"
    }
   ],
   "source": [
    "# cross country skiing only dataframe\n",
    "xcs_df = df[df[\"Sport\"] == \"Cross Country Skiing\"]\n",
    "xcs_df.head()"
   ]
  },
  {
   "cell_type": "code",
   "execution_count": 74,
   "metadata": {},
   "outputs": [
    {
     "name": "stderr",
     "output_type": "stream",
     "text": [
      "C:\\Users\\jonas\\AppData\\Local\\Temp\\ipykernel_18656\\1444089458.py:4: SettingWithCopyWarning: \n",
      "A value is trying to be set on a copy of a slice from a DataFrame\n",
      "\n",
      "See the caveats in the documentation: https://pandas.pydata.org/pandas-docs/stable/user_guide/indexing.html#returning-a-view-versus-a-copy\n",
      "  xcs_10kilometres.dropna(subset='Medal', inplace=True)\n"
     ]
    }
   ],
   "source": [
    "xcs_10kilometres = xcs_df[xcs_df[\"Event\"] == \"Cross Country Skiing Men's 10 kilometres\"]\n",
    "\n",
    "# this should drop any any row where Medal = NaN\n",
    "xcs_10kilometres.dropna(subset='Medal', inplace=True)"
   ]
  },
  {
   "cell_type": "code",
   "execution_count": 75,
   "metadata": {},
   "outputs": [
    {
     "data": {
      "text/html": [
       "<div>\n",
       "<style scoped>\n",
       "    .dataframe tbody tr th:only-of-type {\n",
       "        vertical-align: middle;\n",
       "    }\n",
       "\n",
       "    .dataframe tbody tr th {\n",
       "        vertical-align: top;\n",
       "    }\n",
       "\n",
       "    .dataframe thead th {\n",
       "        text-align: right;\n",
       "    }\n",
       "</style>\n",
       "<table border=\"1\" class=\"dataframe\">\n",
       "  <thead>\n",
       "    <tr style=\"text-align: right;\">\n",
       "      <th></th>\n",
       "      <th>index</th>\n",
       "      <th>Medal</th>\n",
       "    </tr>\n",
       "  </thead>\n",
       "  <tbody>\n",
       "    <tr>\n",
       "      <th>0</th>\n",
       "      <td>Germany</td>\n",
       "      <td>619</td>\n",
       "    </tr>\n",
       "    <tr>\n",
       "      <th>1</th>\n",
       "      <td>Sweden</td>\n",
       "      <td>596</td>\n",
       "    </tr>\n",
       "    <tr>\n",
       "      <th>2</th>\n",
       "      <td>Finland</td>\n",
       "      <td>590</td>\n",
       "    </tr>\n",
       "    <tr>\n",
       "      <th>3</th>\n",
       "      <td>Norway</td>\n",
       "      <td>578</td>\n",
       "    </tr>\n",
       "    <tr>\n",
       "      <th>4</th>\n",
       "      <td>Russia</td>\n",
       "      <td>542</td>\n",
       "    </tr>\n",
       "  </tbody>\n",
       "</table>\n",
       "</div>"
      ],
      "text/plain": [
       "     index  Medal\n",
       "0  Germany    619\n",
       "1   Sweden    596\n",
       "2  Finland    590\n",
       "3   Norway    578\n",
       "4   Russia    542"
      ]
     },
     "execution_count": 75,
     "metadata": {},
     "output_type": "execute_result"
    }
   ],
   "source": [
    "xcs_df.region.value_counts().reset_index(name='Medal').head()"
   ]
  },
  {
   "cell_type": "code",
   "execution_count": 86,
   "metadata": {},
   "outputs": [
    {
     "data": {
      "text/html": [
       "<div>\n",
       "<style scoped>\n",
       "    .dataframe tbody tr th:only-of-type {\n",
       "        vertical-align: middle;\n",
       "    }\n",
       "\n",
       "    .dataframe tbody tr th {\n",
       "        vertical-align: top;\n",
       "    }\n",
       "\n",
       "    .dataframe thead th {\n",
       "        text-align: right;\n",
       "    }\n",
       "</style>\n",
       "<table border=\"1\" class=\"dataframe\">\n",
       "  <thead>\n",
       "    <tr style=\"text-align: right;\">\n",
       "      <th></th>\n",
       "      <th>ID</th>\n",
       "      <th>Name</th>\n",
       "      <th>Sex</th>\n",
       "      <th>Age</th>\n",
       "      <th>Height</th>\n",
       "      <th>Weight</th>\n",
       "      <th>Team</th>\n",
       "      <th>NOC</th>\n",
       "      <th>Games</th>\n",
       "      <th>Year</th>\n",
       "      <th>Season</th>\n",
       "      <th>City</th>\n",
       "      <th>Sport</th>\n",
       "      <th>Event</th>\n",
       "      <th>Medal</th>\n",
       "      <th>region</th>\n",
       "      <th>notes</th>\n",
       "    </tr>\n",
       "  </thead>\n",
       "  <tbody>\n",
       "    <tr>\n",
       "      <th>3969</th>\n",
       "      <td>2296</td>\n",
       "      <td>Marco Albarello</td>\n",
       "      <td>M</td>\n",
       "      <td>31.0</td>\n",
       "      <td>187.0</td>\n",
       "      <td>84.0</td>\n",
       "      <td>Italy</td>\n",
       "      <td>ITA</td>\n",
       "      <td>1992 Winter</td>\n",
       "      <td>1992</td>\n",
       "      <td>Winter</td>\n",
       "      <td>Albertville</td>\n",
       "      <td>Cross Country Skiing</td>\n",
       "      <td>Cross Country Skiing Men's 10 kilometres</td>\n",
       "      <td>Silver</td>\n",
       "      <td>Italy</td>\n",
       "      <td>NaN</td>\n",
       "    </tr>\n",
       "    <tr>\n",
       "      <th>3973</th>\n",
       "      <td>2296</td>\n",
       "      <td>Marco Albarello</td>\n",
       "      <td>M</td>\n",
       "      <td>33.0</td>\n",
       "      <td>187.0</td>\n",
       "      <td>84.0</td>\n",
       "      <td>Italy</td>\n",
       "      <td>ITA</td>\n",
       "      <td>1994 Winter</td>\n",
       "      <td>1994</td>\n",
       "      <td>Winter</td>\n",
       "      <td>Lillehammer</td>\n",
       "      <td>Cross Country Skiing</td>\n",
       "      <td>Cross Country Skiing Men's 10 kilometres</td>\n",
       "      <td>Bronze</td>\n",
       "      <td>Italy</td>\n",
       "      <td>NaN</td>\n",
       "    </tr>\n",
       "    <tr>\n",
       "      <th>75408</th>\n",
       "      <td>38284</td>\n",
       "      <td>Markus Gandler</td>\n",
       "      <td>M</td>\n",
       "      <td>32.0</td>\n",
       "      <td>178.0</td>\n",
       "      <td>72.0</td>\n",
       "      <td>Austria</td>\n",
       "      <td>AUT</td>\n",
       "      <td>1998 Winter</td>\n",
       "      <td>1998</td>\n",
       "      <td>Winter</td>\n",
       "      <td>Nagano</td>\n",
       "      <td>Cross Country Skiing</td>\n",
       "      <td>Cross Country Skiing Men's 10 kilometres</td>\n",
       "      <td>Silver</td>\n",
       "      <td>Austria</td>\n",
       "      <td>NaN</td>\n",
       "    </tr>\n",
       "    <tr>\n",
       "      <th>146897</th>\n",
       "      <td>73732</td>\n",
       "      <td>Sven Christer Majbck</td>\n",
       "      <td>M</td>\n",
       "      <td>28.0</td>\n",
       "      <td>184.0</td>\n",
       "      <td>72.0</td>\n",
       "      <td>Sweden</td>\n",
       "      <td>SWE</td>\n",
       "      <td>1992 Winter</td>\n",
       "      <td>1992</td>\n",
       "      <td>Winter</td>\n",
       "      <td>Albertville</td>\n",
       "      <td>Cross Country Skiing</td>\n",
       "      <td>Cross Country Skiing Men's 10 kilometres</td>\n",
       "      <td>Bronze</td>\n",
       "      <td>Sweden</td>\n",
       "      <td>NaN</td>\n",
       "    </tr>\n",
       "    <tr>\n",
       "      <th>167003</th>\n",
       "      <td>83902</td>\n",
       "      <td>Mika Kristian Myllyl</td>\n",
       "      <td>M</td>\n",
       "      <td>28.0</td>\n",
       "      <td>183.0</td>\n",
       "      <td>74.0</td>\n",
       "      <td>Finland</td>\n",
       "      <td>FIN</td>\n",
       "      <td>1998 Winter</td>\n",
       "      <td>1998</td>\n",
       "      <td>Winter</td>\n",
       "      <td>Nagano</td>\n",
       "      <td>Cross Country Skiing</td>\n",
       "      <td>Cross Country Skiing Men's 10 kilometres</td>\n",
       "      <td>Bronze</td>\n",
       "      <td>Finland</td>\n",
       "      <td>NaN</td>\n",
       "    </tr>\n",
       "    <tr>\n",
       "      <th>223318</th>\n",
       "      <td>112152</td>\n",
       "      <td>Vladimir Mikhaylovich Smirnov</td>\n",
       "      <td>M</td>\n",
       "      <td>29.0</td>\n",
       "      <td>185.0</td>\n",
       "      <td>85.0</td>\n",
       "      <td>Kazakhstan</td>\n",
       "      <td>KAZ</td>\n",
       "      <td>1994 Winter</td>\n",
       "      <td>1994</td>\n",
       "      <td>Winter</td>\n",
       "      <td>Lillehammer</td>\n",
       "      <td>Cross Country Skiing</td>\n",
       "      <td>Cross Country Skiing Men's 10 kilometres</td>\n",
       "      <td>Silver</td>\n",
       "      <td>Kazakhstan</td>\n",
       "      <td>NaN</td>\n",
       "    </tr>\n",
       "    <tr>\n",
       "      <th>246201</th>\n",
       "      <td>123284</td>\n",
       "      <td>Vegard Ulvang</td>\n",
       "      <td>M</td>\n",
       "      <td>28.0</td>\n",
       "      <td>180.0</td>\n",
       "      <td>73.0</td>\n",
       "      <td>Norway</td>\n",
       "      <td>NOR</td>\n",
       "      <td>1992 Winter</td>\n",
       "      <td>1992</td>\n",
       "      <td>Winter</td>\n",
       "      <td>Albertville</td>\n",
       "      <td>Cross Country Skiing</td>\n",
       "      <td>Cross Country Skiing Men's 10 kilometres</td>\n",
       "      <td>Gold</td>\n",
       "      <td>Norway</td>\n",
       "      <td>NaN</td>\n",
       "    </tr>\n",
       "  </tbody>\n",
       "</table>\n",
       "</div>"
      ],
      "text/plain": [
       "            ID                           Name Sex   Age  Height  Weight  \\\n",
       "3969      2296                Marco Albarello   M  31.0   187.0    84.0   \n",
       "3973      2296                Marco Albarello   M  33.0   187.0    84.0   \n",
       "75408    38284                 Markus Gandler   M  32.0   178.0    72.0   \n",
       "146897   73732           Sven Christer Majbck   M  28.0   184.0    72.0   \n",
       "167003   83902           Mika Kristian Myllyl   M  28.0   183.0    74.0   \n",
       "223318  112152  Vladimir Mikhaylovich Smirnov   M  29.0   185.0    85.0   \n",
       "246201  123284                  Vegard Ulvang   M  28.0   180.0    73.0   \n",
       "\n",
       "              Team  NOC        Games  Year  Season         City  \\\n",
       "3969         Italy  ITA  1992 Winter  1992  Winter  Albertville   \n",
       "3973         Italy  ITA  1994 Winter  1994  Winter  Lillehammer   \n",
       "75408      Austria  AUT  1998 Winter  1998  Winter       Nagano   \n",
       "146897      Sweden  SWE  1992 Winter  1992  Winter  Albertville   \n",
       "167003     Finland  FIN  1998 Winter  1998  Winter       Nagano   \n",
       "223318  Kazakhstan  KAZ  1994 Winter  1994  Winter  Lillehammer   \n",
       "246201      Norway  NOR  1992 Winter  1992  Winter  Albertville   \n",
       "\n",
       "                       Sport                                     Event  \\\n",
       "3969    Cross Country Skiing  Cross Country Skiing Men's 10 kilometres   \n",
       "3973    Cross Country Skiing  Cross Country Skiing Men's 10 kilometres   \n",
       "75408   Cross Country Skiing  Cross Country Skiing Men's 10 kilometres   \n",
       "146897  Cross Country Skiing  Cross Country Skiing Men's 10 kilometres   \n",
       "167003  Cross Country Skiing  Cross Country Skiing Men's 10 kilometres   \n",
       "223318  Cross Country Skiing  Cross Country Skiing Men's 10 kilometres   \n",
       "246201  Cross Country Skiing  Cross Country Skiing Men's 10 kilometres   \n",
       "\n",
       "         Medal      region notes  \n",
       "3969    Silver       Italy   NaN  \n",
       "3973    Bronze       Italy   NaN  \n",
       "75408   Silver     Austria   NaN  \n",
       "146897  Bronze      Sweden   NaN  \n",
       "167003  Bronze     Finland   NaN  \n",
       "223318  Silver  Kazakhstan   NaN  \n",
       "246201    Gold      Norway   NaN  "
      ]
     },
     "execution_count": 86,
     "metadata": {},
     "output_type": "execute_result"
    }
   ],
   "source": [
    "xcs_10kilometres"
   ]
  },
  {
   "cell_type": "code",
   "execution_count": 77,
   "metadata": {},
   "outputs": [
    {
     "name": "stderr",
     "output_type": "stream",
     "text": [
      "C:\\Users\\jonas\\AppData\\Local\\Temp\\ipykernel_18656\\2912556420.py:8: SettingWithCopyWarning: \n",
      "A value is trying to be set on a copy of a slice from a DataFrame\n",
      "\n",
      "See the caveats in the documentation: https://pandas.pydata.org/pandas-docs/stable/user_guide/indexing.html#returning-a-view-versus-a-copy\n",
      "  xcs_df_relay10km.dropna(subset='Medal', inplace=True)\n"
     ]
    },
    {
     "data": {
      "text/html": [
       "<div>\n",
       "<style scoped>\n",
       "    .dataframe tbody tr th:only-of-type {\n",
       "        vertical-align: middle;\n",
       "    }\n",
       "\n",
       "    .dataframe tbody tr th {\n",
       "        vertical-align: top;\n",
       "    }\n",
       "\n",
       "    .dataframe thead th {\n",
       "        text-align: right;\n",
       "    }\n",
       "</style>\n",
       "<table border=\"1\" class=\"dataframe\">\n",
       "  <thead>\n",
       "    <tr style=\"text-align: right;\">\n",
       "      <th></th>\n",
       "      <th>ID</th>\n",
       "      <th>Name</th>\n",
       "      <th>Sex</th>\n",
       "      <th>Age</th>\n",
       "      <th>Height</th>\n",
       "      <th>Weight</th>\n",
       "      <th>Team</th>\n",
       "      <th>NOC</th>\n",
       "      <th>Games</th>\n",
       "      <th>Year</th>\n",
       "      <th>Season</th>\n",
       "      <th>City</th>\n",
       "      <th>Sport</th>\n",
       "      <th>Event</th>\n",
       "      <th>Medal</th>\n",
       "      <th>region</th>\n",
       "      <th>notes</th>\n",
       "    </tr>\n",
       "  </thead>\n",
       "  <tbody>\n",
       "    <tr>\n",
       "      <th>3972</th>\n",
       "      <td>2296</td>\n",
       "      <td>Marco Albarello</td>\n",
       "      <td>M</td>\n",
       "      <td>31.0</td>\n",
       "      <td>187.0</td>\n",
       "      <td>84.0</td>\n",
       "      <td>Italy</td>\n",
       "      <td>ITA</td>\n",
       "      <td>1992 Winter</td>\n",
       "      <td>1992</td>\n",
       "      <td>Winter</td>\n",
       "      <td>Albertville</td>\n",
       "      <td>Cross Country Skiing</td>\n",
       "      <td>Cross Country Skiing Men's 4 x 10 kilometres R...</td>\n",
       "      <td>Silver</td>\n",
       "      <td>Italy</td>\n",
       "      <td>NaN</td>\n",
       "    </tr>\n",
       "  </tbody>\n",
       "</table>\n",
       "</div>"
      ],
      "text/plain": [
       "        ID             Name Sex   Age  Height  Weight   Team  NOC  \\\n",
       "3972  2296  Marco Albarello   M  31.0   187.0    84.0  Italy  ITA   \n",
       "\n",
       "            Games  Year  Season         City                 Sport  \\\n",
       "3972  1992 Winter  1992  Winter  Albertville  Cross Country Skiing   \n",
       "\n",
       "                                                  Event   Medal region notes  \n",
       "3972  Cross Country Skiing Men's 4 x 10 kilometres R...  Silver  Italy   NaN  "
      ]
     },
     "execution_count": 77,
     "metadata": {},
     "output_type": "execute_result"
    }
   ],
   "source": [
    "## What im trying to do:\n",
    "# create a df containg only medal winners in cross country skiiing\n",
    "# pick out any event with relays, aka a team sport\n",
    "# i want this to only count as ONE count of medal, not however many participated in the relay\n",
    "\n",
    "\n",
    "xcs_df_relay10km = xcs_df[xcs_df[\"Event\"] == \"Cross Country Skiing Men's 4 x 10 kilometres Relay\"]\n",
    "xcs_df_relay10km.dropna(subset='Medal', inplace=True)\n",
    "#xcs_df_relay10km\n",
    "\n",
    "xcs_df_relay10km = xcs_df_relay10km[xcs_df_relay10km[\"Team\"] == \"Italy\"] # count = 20\n",
    "xcs_df_relay10km = xcs_df_relay10km.drop_duplicates()\n",
    "xcs_df_relay10km.head(1)"
   ]
  },
  {
   "cell_type": "markdown",
   "metadata": {},
   "source": [
    "___\n",
    "## Maybe it's easier to drop ID, Name, Age, Height and Weight columns from the DataFrame?\n",
    "## All of the other columns should have the same value, meaning .drop_duplicates() _should_ work."
   ]
  },
  {
   "cell_type": "code",
   "execution_count": 78,
   "metadata": {},
   "outputs": [],
   "source": [
    "# Maybe it's easier to drop ID, Name, Age, Height and Weight columns from the DataFrame?\n",
    "# All of the other columns should have the same value, meaning .drop_duplicates() _should_ work.\n",
    "\n",
    "\n",
    "# Only run this one ONCE\n",
    "xcs_df_relay10km.drop(columns=['ID','Name', 'Age', 'Height','Weight'], inplace=True)\n"
   ]
  },
  {
   "cell_type": "code",
   "execution_count": 81,
   "metadata": {},
   "outputs": [
    {
     "data": {
      "text/html": [
       "<div>\n",
       "<style scoped>\n",
       "    .dataframe tbody tr th:only-of-type {\n",
       "        vertical-align: middle;\n",
       "    }\n",
       "\n",
       "    .dataframe tbody tr th {\n",
       "        vertical-align: top;\n",
       "    }\n",
       "\n",
       "    .dataframe thead th {\n",
       "        text-align: right;\n",
       "    }\n",
       "</style>\n",
       "<table border=\"1\" class=\"dataframe\">\n",
       "  <thead>\n",
       "    <tr style=\"text-align: right;\">\n",
       "      <th></th>\n",
       "      <th>Sex</th>\n",
       "      <th>Team</th>\n",
       "      <th>NOC</th>\n",
       "      <th>Games</th>\n",
       "      <th>Year</th>\n",
       "      <th>Season</th>\n",
       "      <th>City</th>\n",
       "      <th>Sport</th>\n",
       "      <th>Event</th>\n",
       "      <th>Medal</th>\n",
       "      <th>region</th>\n",
       "      <th>notes</th>\n",
       "    </tr>\n",
       "  </thead>\n",
       "  <tbody>\n",
       "    <tr>\n",
       "      <th>3972</th>\n",
       "      <td>M</td>\n",
       "      <td>Italy</td>\n",
       "      <td>ITA</td>\n",
       "      <td>1992 Winter</td>\n",
       "      <td>1992</td>\n",
       "      <td>Winter</td>\n",
       "      <td>Albertville</td>\n",
       "      <td>Cross Country Skiing</td>\n",
       "      <td>Cross Country Skiing Men's 4 x 10 kilometres R...</td>\n",
       "      <td>Silver</td>\n",
       "      <td>Italy</td>\n",
       "      <td>NaN</td>\n",
       "    </tr>\n",
       "    <tr>\n",
       "      <th>3975</th>\n",
       "      <td>M</td>\n",
       "      <td>Italy</td>\n",
       "      <td>ITA</td>\n",
       "      <td>1994 Winter</td>\n",
       "      <td>1994</td>\n",
       "      <td>Winter</td>\n",
       "      <td>Lillehammer</td>\n",
       "      <td>Cross Country Skiing</td>\n",
       "      <td>Cross Country Skiing Men's 4 x 10 kilometres R...</td>\n",
       "      <td>Gold</td>\n",
       "      <td>Italy</td>\n",
       "      <td>NaN</td>\n",
       "    </tr>\n",
       "    <tr>\n",
       "      <th>3978</th>\n",
       "      <td>M</td>\n",
       "      <td>Italy</td>\n",
       "      <td>ITA</td>\n",
       "      <td>1998 Winter</td>\n",
       "      <td>1998</td>\n",
       "      <td>Winter</td>\n",
       "      <td>Nagano</td>\n",
       "      <td>Cross Country Skiing</td>\n",
       "      <td>Cross Country Skiing Men's 4 x 10 kilometres R...</td>\n",
       "      <td>Silver</td>\n",
       "      <td>Italy</td>\n",
       "      <td>NaN</td>\n",
       "    </tr>\n",
       "    <tr>\n",
       "      <th>52176</th>\n",
       "      <td>M</td>\n",
       "      <td>Italy</td>\n",
       "      <td>ITA</td>\n",
       "      <td>1994 Winter</td>\n",
       "      <td>1994</td>\n",
       "      <td>Winter</td>\n",
       "      <td>Lillehammer</td>\n",
       "      <td>Cross Country Skiing</td>\n",
       "      <td>Cross Country Skiing Men's 4 x 10 kilometres R...</td>\n",
       "      <td>Gold</td>\n",
       "      <td>Italy</td>\n",
       "      <td>NaN</td>\n",
       "    </tr>\n",
       "    <tr>\n",
       "      <th>54737</th>\n",
       "      <td>M</td>\n",
       "      <td>Italy</td>\n",
       "      <td>ITA</td>\n",
       "      <td>2002 Winter</td>\n",
       "      <td>2002</td>\n",
       "      <td>Winter</td>\n",
       "      <td>Salt Lake City</td>\n",
       "      <td>Cross Country Skiing</td>\n",
       "      <td>Cross Country Skiing Men's 4 x 10 kilometres R...</td>\n",
       "      <td>Silver</td>\n",
       "      <td>Italy</td>\n",
       "      <td>NaN</td>\n",
       "    </tr>\n",
       "  </tbody>\n",
       "</table>\n",
       "</div>"
      ],
      "text/plain": [
       "      Sex   Team  NOC        Games  Year  Season            City  \\\n",
       "3972    M  Italy  ITA  1992 Winter  1992  Winter     Albertville   \n",
       "3975    M  Italy  ITA  1994 Winter  1994  Winter     Lillehammer   \n",
       "3978    M  Italy  ITA  1998 Winter  1998  Winter          Nagano   \n",
       "52176   M  Italy  ITA  1994 Winter  1994  Winter     Lillehammer   \n",
       "54737   M  Italy  ITA  2002 Winter  2002  Winter  Salt Lake City   \n",
       "\n",
       "                      Sport  \\\n",
       "3972   Cross Country Skiing   \n",
       "3975   Cross Country Skiing   \n",
       "3978   Cross Country Skiing   \n",
       "52176  Cross Country Skiing   \n",
       "54737  Cross Country Skiing   \n",
       "\n",
       "                                                   Event   Medal region notes  \n",
       "3972   Cross Country Skiing Men's 4 x 10 kilometres R...  Silver  Italy   NaN  \n",
       "3975   Cross Country Skiing Men's 4 x 10 kilometres R...    Gold  Italy   NaN  \n",
       "3978   Cross Country Skiing Men's 4 x 10 kilometres R...  Silver  Italy   NaN  \n",
       "52176  Cross Country Skiing Men's 4 x 10 kilometres R...    Gold  Italy   NaN  \n",
       "54737  Cross Country Skiing Men's 4 x 10 kilometres R...  Silver  Italy   NaN  "
      ]
     },
     "execution_count": 81,
     "metadata": {},
     "output_type": "execute_result"
    }
   ],
   "source": [
    "xcs_df_relay10km.count() # count = 20 before drop_duplicates()\n",
    "xcs_df_relay10km.head()\n",
    "\n",
    "\n"
   ]
  },
  {
   "cell_type": "code",
   "execution_count": 84,
   "metadata": {},
   "outputs": [
    {
     "data": {
      "text/plain": [
       "Sex       5\n",
       "Team      5\n",
       "NOC       5\n",
       "Games     5\n",
       "Year      5\n",
       "Season    5\n",
       "City      5\n",
       "Sport     5\n",
       "Event     5\n",
       "Medal     5\n",
       "region    5\n",
       "notes     0\n",
       "dtype: int64"
      ]
     },
     "execution_count": 84,
     "metadata": {},
     "output_type": "execute_result"
    }
   ],
   "source": [
    "xcs_df_relay10km.drop_duplicates(inplace=True) # only run this one once\n",
    "xcs_df_relay10km.count() # count = 5 after drop_duplicates()"
   ]
  },
  {
   "cell_type": "code",
   "execution_count": 85,
   "metadata": {},
   "outputs": [
    {
     "data": {
      "text/html": [
       "<div>\n",
       "<style scoped>\n",
       "    .dataframe tbody tr th:only-of-type {\n",
       "        vertical-align: middle;\n",
       "    }\n",
       "\n",
       "    .dataframe tbody tr th {\n",
       "        vertical-align: top;\n",
       "    }\n",
       "\n",
       "    .dataframe thead th {\n",
       "        text-align: right;\n",
       "    }\n",
       "</style>\n",
       "<table border=\"1\" class=\"dataframe\">\n",
       "  <thead>\n",
       "    <tr style=\"text-align: right;\">\n",
       "      <th></th>\n",
       "      <th>Sex</th>\n",
       "      <th>Team</th>\n",
       "      <th>NOC</th>\n",
       "      <th>Games</th>\n",
       "      <th>Year</th>\n",
       "      <th>Season</th>\n",
       "      <th>City</th>\n",
       "      <th>Sport</th>\n",
       "      <th>Event</th>\n",
       "      <th>Medal</th>\n",
       "      <th>region</th>\n",
       "      <th>notes</th>\n",
       "    </tr>\n",
       "  </thead>\n",
       "  <tbody>\n",
       "    <tr>\n",
       "      <th>3972</th>\n",
       "      <td>M</td>\n",
       "      <td>Italy</td>\n",
       "      <td>ITA</td>\n",
       "      <td>1992 Winter</td>\n",
       "      <td>1992</td>\n",
       "      <td>Winter</td>\n",
       "      <td>Albertville</td>\n",
       "      <td>Cross Country Skiing</td>\n",
       "      <td>Cross Country Skiing Men's 4 x 10 kilometres R...</td>\n",
       "      <td>Silver</td>\n",
       "      <td>Italy</td>\n",
       "      <td>NaN</td>\n",
       "    </tr>\n",
       "    <tr>\n",
       "      <th>3975</th>\n",
       "      <td>M</td>\n",
       "      <td>Italy</td>\n",
       "      <td>ITA</td>\n",
       "      <td>1994 Winter</td>\n",
       "      <td>1994</td>\n",
       "      <td>Winter</td>\n",
       "      <td>Lillehammer</td>\n",
       "      <td>Cross Country Skiing</td>\n",
       "      <td>Cross Country Skiing Men's 4 x 10 kilometres R...</td>\n",
       "      <td>Gold</td>\n",
       "      <td>Italy</td>\n",
       "      <td>NaN</td>\n",
       "    </tr>\n",
       "    <tr>\n",
       "      <th>3978</th>\n",
       "      <td>M</td>\n",
       "      <td>Italy</td>\n",
       "      <td>ITA</td>\n",
       "      <td>1998 Winter</td>\n",
       "      <td>1998</td>\n",
       "      <td>Winter</td>\n",
       "      <td>Nagano</td>\n",
       "      <td>Cross Country Skiing</td>\n",
       "      <td>Cross Country Skiing Men's 4 x 10 kilometres R...</td>\n",
       "      <td>Silver</td>\n",
       "      <td>Italy</td>\n",
       "      <td>NaN</td>\n",
       "    </tr>\n",
       "    <tr>\n",
       "      <th>54737</th>\n",
       "      <td>M</td>\n",
       "      <td>Italy</td>\n",
       "      <td>ITA</td>\n",
       "      <td>2002 Winter</td>\n",
       "      <td>2002</td>\n",
       "      <td>Winter</td>\n",
       "      <td>Salt Lake City</td>\n",
       "      <td>Cross Country Skiing</td>\n",
       "      <td>Cross Country Skiing Men's 4 x 10 kilometres R...</td>\n",
       "      <td>Silver</td>\n",
       "      <td>Italy</td>\n",
       "      <td>NaN</td>\n",
       "    </tr>\n",
       "    <tr>\n",
       "      <th>54740</th>\n",
       "      <td>M</td>\n",
       "      <td>Italy</td>\n",
       "      <td>ITA</td>\n",
       "      <td>2006 Winter</td>\n",
       "      <td>2006</td>\n",
       "      <td>Winter</td>\n",
       "      <td>Torino</td>\n",
       "      <td>Cross Country Skiing</td>\n",
       "      <td>Cross Country Skiing Men's 4 x 10 kilometres R...</td>\n",
       "      <td>Gold</td>\n",
       "      <td>Italy</td>\n",
       "      <td>NaN</td>\n",
       "    </tr>\n",
       "  </tbody>\n",
       "</table>\n",
       "</div>"
      ],
      "text/plain": [
       "      Sex   Team  NOC        Games  Year  Season            City  \\\n",
       "3972    M  Italy  ITA  1992 Winter  1992  Winter     Albertville   \n",
       "3975    M  Italy  ITA  1994 Winter  1994  Winter     Lillehammer   \n",
       "3978    M  Italy  ITA  1998 Winter  1998  Winter          Nagano   \n",
       "54737   M  Italy  ITA  2002 Winter  2002  Winter  Salt Lake City   \n",
       "54740   M  Italy  ITA  2006 Winter  2006  Winter          Torino   \n",
       "\n",
       "                      Sport  \\\n",
       "3972   Cross Country Skiing   \n",
       "3975   Cross Country Skiing   \n",
       "3978   Cross Country Skiing   \n",
       "54737  Cross Country Skiing   \n",
       "54740  Cross Country Skiing   \n",
       "\n",
       "                                                   Event   Medal region notes  \n",
       "3972   Cross Country Skiing Men's 4 x 10 kilometres R...  Silver  Italy   NaN  \n",
       "3975   Cross Country Skiing Men's 4 x 10 kilometres R...    Gold  Italy   NaN  \n",
       "3978   Cross Country Skiing Men's 4 x 10 kilometres R...  Silver  Italy   NaN  \n",
       "54737  Cross Country Skiing Men's 4 x 10 kilometres R...  Silver  Italy   NaN  \n",
       "54740  Cross Country Skiing Men's 4 x 10 kilometres R...    Gold  Italy   NaN  "
      ]
     },
     "execution_count": 85,
     "metadata": {},
     "output_type": "execute_result"
    }
   ],
   "source": [
    "xcs_df_relay10km"
   ]
  },
  {
   "cell_type": "markdown",
   "metadata": {},
   "source": [
    "___\n",
    "### More tests"
   ]
  },
  {
   "cell_type": "code",
   "execution_count": 225,
   "metadata": {},
   "outputs": [
    {
     "data": {
      "text/html": [
       "<div>\n",
       "<style scoped>\n",
       "    .dataframe tbody tr th:only-of-type {\n",
       "        vertical-align: middle;\n",
       "    }\n",
       "\n",
       "    .dataframe tbody tr th {\n",
       "        vertical-align: top;\n",
       "    }\n",
       "\n",
       "    .dataframe thead th {\n",
       "        text-align: right;\n",
       "    }\n",
       "</style>\n",
       "<table border=\"1\" class=\"dataframe\">\n",
       "  <thead>\n",
       "    <tr style=\"text-align: right;\">\n",
       "      <th></th>\n",
       "      <th>Sex</th>\n",
       "      <th>Team</th>\n",
       "      <th>NOC</th>\n",
       "      <th>Games</th>\n",
       "      <th>Year</th>\n",
       "      <th>Season</th>\n",
       "      <th>City</th>\n",
       "      <th>Sport</th>\n",
       "      <th>Event</th>\n",
       "      <th>Medal</th>\n",
       "      <th>region</th>\n",
       "      <th>notes</th>\n",
       "    </tr>\n",
       "  </thead>\n",
       "  <tbody>\n",
       "    <tr>\n",
       "      <th>3940</th>\n",
       "      <td>M</td>\n",
       "      <td>Finland</td>\n",
       "      <td>FIN</td>\n",
       "      <td>1960 Winter</td>\n",
       "      <td>1960</td>\n",
       "      <td>Winter</td>\n",
       "      <td>Squaw Valley</td>\n",
       "      <td>Cross Country Skiing</td>\n",
       "      <td>Cross Country Skiing Men's 4 x 10 kilometres R...</td>\n",
       "      <td>Gold</td>\n",
       "      <td>Finland</td>\n",
       "      <td>NaN</td>\n",
       "    </tr>\n",
       "    <tr>\n",
       "      <th>3972</th>\n",
       "      <td>M</td>\n",
       "      <td>Italy</td>\n",
       "      <td>ITA</td>\n",
       "      <td>1992 Winter</td>\n",
       "      <td>1992</td>\n",
       "      <td>Winter</td>\n",
       "      <td>Albertville</td>\n",
       "      <td>Cross Country Skiing</td>\n",
       "      <td>Cross Country Skiing Men's 4 x 10 kilometres R...</td>\n",
       "      <td>Silver</td>\n",
       "      <td>Italy</td>\n",
       "      <td>NaN</td>\n",
       "    </tr>\n",
       "  </tbody>\n",
       "</table>\n",
       "</div>"
      ],
      "text/plain": [
       "     Sex     Team  NOC        Games  Year  Season          City  \\\n",
       "3940   M  Finland  FIN  1960 Winter  1960  Winter  Squaw Valley   \n",
       "3972   M    Italy  ITA  1992 Winter  1992  Winter   Albertville   \n",
       "\n",
       "                     Sport                                              Event  \\\n",
       "3940  Cross Country Skiing  Cross Country Skiing Men's 4 x 10 kilometres R...   \n",
       "3972  Cross Country Skiing  Cross Country Skiing Men's 4 x 10 kilometres R...   \n",
       "\n",
       "       Medal   region notes  \n",
       "3940    Gold  Finland   NaN  \n",
       "3972  Silver    Italy   NaN  "
      ]
     },
     "execution_count": 225,
     "metadata": {},
     "output_type": "execute_result"
    }
   ],
   "source": [
    "xcs_df_relay10km = xcs_df[xcs_df[\"Event\"] == \"Cross Country Skiing Men's 4 x 10 kilometres Relay\"]\n",
    "xcs_df_relay10km_medals = xcs_df_relay10km.dropna(subset='Medal')\n",
    "xcs_df_relay10km_medals_drop_columns = xcs_df_relay10km_medals.drop(columns=['ID','Name', 'Age', 'Height','Weight'])\n",
    "xcs_df_relay10km_medals_drop_columns.count() # count = 224 before drop duplicates\n",
    "xcs_df_relay10km_medals_drop_columns.head(2)"
   ]
  },
  {
   "cell_type": "code",
   "execution_count": 226,
   "metadata": {},
   "outputs": [
    {
     "data": {
      "text/plain": [
       "Sex       57\n",
       "Team      57\n",
       "NOC       57\n",
       "Games     57\n",
       "Year      57\n",
       "Season    57\n",
       "City      57\n",
       "Sport     57\n",
       "Event     57\n",
       "Medal     57\n",
       "region    57\n",
       "notes      0\n",
       "dtype: int64"
      ]
     },
     "execution_count": 226,
     "metadata": {},
     "output_type": "execute_result"
    }
   ],
   "source": [
    "xcs_usable_dataframe = xcs_df_relay10km_medals_drop_columns.drop_duplicates()\n",
    "xcs_usable_dataframe.count() # count = 57 after drop_duplicates()"
   ]
  },
  {
   "cell_type": "code",
   "execution_count": 227,
   "metadata": {},
   "outputs": [
    {
     "data": {
      "text/html": [
       "<div>\n",
       "<style scoped>\n",
       "    .dataframe tbody tr th:only-of-type {\n",
       "        vertical-align: middle;\n",
       "    }\n",
       "\n",
       "    .dataframe tbody tr th {\n",
       "        vertical-align: top;\n",
       "    }\n",
       "\n",
       "    .dataframe thead th {\n",
       "        text-align: right;\n",
       "    }\n",
       "</style>\n",
       "<table border=\"1\" class=\"dataframe\">\n",
       "  <thead>\n",
       "    <tr style=\"text-align: right;\">\n",
       "      <th></th>\n",
       "      <th>Sex</th>\n",
       "      <th>Team</th>\n",
       "      <th>NOC</th>\n",
       "      <th>Games</th>\n",
       "      <th>Year</th>\n",
       "      <th>Season</th>\n",
       "      <th>City</th>\n",
       "      <th>Sport</th>\n",
       "      <th>Event</th>\n",
       "      <th>Medal</th>\n",
       "      <th>region</th>\n",
       "      <th>notes</th>\n",
       "    </tr>\n",
       "  </thead>\n",
       "  <tbody>\n",
       "    <tr>\n",
       "      <th>3940</th>\n",
       "      <td>M</td>\n",
       "      <td>Finland</td>\n",
       "      <td>FIN</td>\n",
       "      <td>1960 Winter</td>\n",
       "      <td>1960</td>\n",
       "      <td>Winter</td>\n",
       "      <td>Squaw Valley</td>\n",
       "      <td>Cross Country Skiing</td>\n",
       "      <td>Cross Country Skiing Men's 4 x 10 kilometres R...</td>\n",
       "      <td>Gold</td>\n",
       "      <td>Finland</td>\n",
       "      <td>NaN</td>\n",
       "    </tr>\n",
       "  </tbody>\n",
       "</table>\n",
       "</div>"
      ],
      "text/plain": [
       "     Sex     Team  NOC        Games  Year  Season          City  \\\n",
       "3940   M  Finland  FIN  1960 Winter  1960  Winter  Squaw Valley   \n",
       "\n",
       "                     Sport                                              Event  \\\n",
       "3940  Cross Country Skiing  Cross Country Skiing Men's 4 x 10 kilometres R...   \n",
       "\n",
       "     Medal   region notes  \n",
       "3940  Gold  Finland   NaN  "
      ]
     },
     "execution_count": 227,
     "metadata": {},
     "output_type": "execute_result"
    }
   ],
   "source": [
    "xcs_usable_dataframe.head(1)"
   ]
  },
  {
   "cell_type": "code",
   "execution_count": 240,
   "metadata": {},
   "outputs": [
    {
     "data": {
      "text/html": [
       "<div>\n",
       "<style scoped>\n",
       "    .dataframe tbody tr th:only-of-type {\n",
       "        vertical-align: middle;\n",
       "    }\n",
       "\n",
       "    .dataframe tbody tr th {\n",
       "        vertical-align: top;\n",
       "    }\n",
       "\n",
       "    .dataframe thead th {\n",
       "        text-align: right;\n",
       "    }\n",
       "</style>\n",
       "<table border=\"1\" class=\"dataframe\">\n",
       "  <thead>\n",
       "    <tr style=\"text-align: right;\">\n",
       "      <th></th>\n",
       "      <th>Sex</th>\n",
       "      <th>Team</th>\n",
       "      <th>NOC</th>\n",
       "      <th>Games</th>\n",
       "      <th>Year</th>\n",
       "      <th>Season</th>\n",
       "      <th>City</th>\n",
       "      <th>Sport</th>\n",
       "      <th>Event</th>\n",
       "      <th>Medal</th>\n",
       "      <th>region</th>\n",
       "      <th>notes</th>\n",
       "    </tr>\n",
       "  </thead>\n",
       "  <tbody>\n",
       "    <tr>\n",
       "      <th>3940</th>\n",
       "      <td>M</td>\n",
       "      <td>Finland</td>\n",
       "      <td>FIN</td>\n",
       "      <td>1960 Winter</td>\n",
       "      <td>1960</td>\n",
       "      <td>Winter</td>\n",
       "      <td>Squaw Valley</td>\n",
       "      <td>Cross Country Skiing</td>\n",
       "      <td>Cross Country Skiing Men's 4 x 10 kilometres R...</td>\n",
       "      <td>Gold</td>\n",
       "      <td>Finland</td>\n",
       "      <td>NaN</td>\n",
       "    </tr>\n",
       "    <tr>\n",
       "      <th>3972</th>\n",
       "      <td>M</td>\n",
       "      <td>Italy</td>\n",
       "      <td>ITA</td>\n",
       "      <td>1992 Winter</td>\n",
       "      <td>1992</td>\n",
       "      <td>Winter</td>\n",
       "      <td>Albertville</td>\n",
       "      <td>Cross Country Skiing</td>\n",
       "      <td>Cross Country Skiing Men's 4 x 10 kilometres R...</td>\n",
       "      <td>Silver</td>\n",
       "      <td>Italy</td>\n",
       "      <td>NaN</td>\n",
       "    </tr>\n",
       "    <tr>\n",
       "      <th>3975</th>\n",
       "      <td>M</td>\n",
       "      <td>Italy</td>\n",
       "      <td>ITA</td>\n",
       "      <td>1994 Winter</td>\n",
       "      <td>1994</td>\n",
       "      <td>Winter</td>\n",
       "      <td>Lillehammer</td>\n",
       "      <td>Cross Country Skiing</td>\n",
       "      <td>Cross Country Skiing Men's 4 x 10 kilometres R...</td>\n",
       "      <td>Gold</td>\n",
       "      <td>Italy</td>\n",
       "      <td>NaN</td>\n",
       "    </tr>\n",
       "    <tr>\n",
       "      <th>3978</th>\n",
       "      <td>M</td>\n",
       "      <td>Italy</td>\n",
       "      <td>ITA</td>\n",
       "      <td>1998 Winter</td>\n",
       "      <td>1998</td>\n",
       "      <td>Winter</td>\n",
       "      <td>Nagano</td>\n",
       "      <td>Cross Country Skiing</td>\n",
       "      <td>Cross Country Skiing Men's 4 x 10 kilometres R...</td>\n",
       "      <td>Silver</td>\n",
       "      <td>Italy</td>\n",
       "      <td>NaN</td>\n",
       "    </tr>\n",
       "    <tr>\n",
       "      <th>5423</th>\n",
       "      <td>M</td>\n",
       "      <td>Norway</td>\n",
       "      <td>NOR</td>\n",
       "      <td>1994 Winter</td>\n",
       "      <td>1994</td>\n",
       "      <td>Winter</td>\n",
       "      <td>Lillehammer</td>\n",
       "      <td>Cross Country Skiing</td>\n",
       "      <td>Cross Country Skiing Men's 4 x 10 kilometres R...</td>\n",
       "      <td>Silver</td>\n",
       "      <td>Norway</td>\n",
       "      <td>NaN</td>\n",
       "    </tr>\n",
       "  </tbody>\n",
       "</table>\n",
       "</div>"
      ],
      "text/plain": [
       "     Sex     Team  NOC        Games  Year  Season          City  \\\n",
       "3940   M  Finland  FIN  1960 Winter  1960  Winter  Squaw Valley   \n",
       "3972   M    Italy  ITA  1992 Winter  1992  Winter   Albertville   \n",
       "3975   M    Italy  ITA  1994 Winter  1994  Winter   Lillehammer   \n",
       "3978   M    Italy  ITA  1998 Winter  1998  Winter        Nagano   \n",
       "5423   M   Norway  NOR  1994 Winter  1994  Winter   Lillehammer   \n",
       "\n",
       "                     Sport                                              Event  \\\n",
       "3940  Cross Country Skiing  Cross Country Skiing Men's 4 x 10 kilometres R...   \n",
       "3972  Cross Country Skiing  Cross Country Skiing Men's 4 x 10 kilometres R...   \n",
       "3975  Cross Country Skiing  Cross Country Skiing Men's 4 x 10 kilometres R...   \n",
       "3978  Cross Country Skiing  Cross Country Skiing Men's 4 x 10 kilometres R...   \n",
       "5423  Cross Country Skiing  Cross Country Skiing Men's 4 x 10 kilometres R...   \n",
       "\n",
       "       Medal   region notes  \n",
       "3940    Gold  Finland   NaN  \n",
       "3972  Silver    Italy   NaN  \n",
       "3975    Gold    Italy   NaN  \n",
       "3978  Silver    Italy   NaN  \n",
       "5423  Silver   Norway   NaN  "
      ]
     },
     "execution_count": 240,
     "metadata": {},
     "output_type": "execute_result"
    }
   ],
   "source": [
    "relay = xcs_usable_dataframe[xcs_usable_dataframe[\"Sport\"] == \"Cross Country Skiing\"]\n",
    "relay.head()"
   ]
  },
  {
   "cell_type": "code",
   "execution_count": 234,
   "metadata": {},
   "outputs": [
    {
     "data": {
      "text/html": [
       "<div>\n",
       "<style scoped>\n",
       "    .dataframe tbody tr th:only-of-type {\n",
       "        vertical-align: middle;\n",
       "    }\n",
       "\n",
       "    .dataframe tbody tr th {\n",
       "        vertical-align: top;\n",
       "    }\n",
       "\n",
       "    .dataframe thead th {\n",
       "        text-align: right;\n",
       "    }\n",
       "</style>\n",
       "<table border=\"1\" class=\"dataframe\">\n",
       "  <thead>\n",
       "    <tr style=\"text-align: right;\">\n",
       "      <th></th>\n",
       "      <th>Event</th>\n",
       "      <th>region</th>\n",
       "      <th>Medal</th>\n",
       "      <th>0</th>\n",
       "    </tr>\n",
       "  </thead>\n",
       "  <tbody>\n",
       "    <tr>\n",
       "      <th>0</th>\n",
       "      <td>Cross Country Skiing Men's 4 x 10 kilometres R...</td>\n",
       "      <td>Czech Republic</td>\n",
       "      <td>Bronze</td>\n",
       "      <td>2</td>\n",
       "    </tr>\n",
       "    <tr>\n",
       "      <th>1</th>\n",
       "      <td>Cross Country Skiing Men's 4 x 10 kilometres R...</td>\n",
       "      <td>Finland</td>\n",
       "      <td>Bronze</td>\n",
       "      <td>6</td>\n",
       "    </tr>\n",
       "    <tr>\n",
       "      <th>2</th>\n",
       "      <td>Cross Country Skiing Men's 4 x 10 kilometres R...</td>\n",
       "      <td>Finland</td>\n",
       "      <td>Gold</td>\n",
       "      <td>4</td>\n",
       "    </tr>\n",
       "    <tr>\n",
       "      <th>3</th>\n",
       "      <td>Cross Country Skiing Men's 4 x 10 kilometres R...</td>\n",
       "      <td>Finland</td>\n",
       "      <td>Silver</td>\n",
       "      <td>3</td>\n",
       "    </tr>\n",
       "    <tr>\n",
       "      <th>4</th>\n",
       "      <td>Cross Country Skiing Men's 4 x 10 kilometres R...</td>\n",
       "      <td>France</td>\n",
       "      <td>Bronze</td>\n",
       "      <td>1</td>\n",
       "    </tr>\n",
       "    <tr>\n",
       "      <th>5</th>\n",
       "      <td>Cross Country Skiing Men's 4 x 10 kilometres R...</td>\n",
       "      <td>Germany</td>\n",
       "      <td>Silver</td>\n",
       "      <td>1</td>\n",
       "    </tr>\n",
       "    <tr>\n",
       "      <th>6</th>\n",
       "      <td>Cross Country Skiing Men's 4 x 10 kilometres R...</td>\n",
       "      <td>Germany</td>\n",
       "      <td>Bronze</td>\n",
       "      <td>1</td>\n",
       "    </tr>\n",
       "    <tr>\n",
       "      <th>7</th>\n",
       "      <td>Cross Country Skiing Men's 4 x 10 kilometres R...</td>\n",
       "      <td>Italy</td>\n",
       "      <td>Silver</td>\n",
       "      <td>3</td>\n",
       "    </tr>\n",
       "    <tr>\n",
       "      <th>8</th>\n",
       "      <td>Cross Country Skiing Men's 4 x 10 kilometres R...</td>\n",
       "      <td>Italy</td>\n",
       "      <td>Gold</td>\n",
       "      <td>2</td>\n",
       "    </tr>\n",
       "    <tr>\n",
       "      <th>9</th>\n",
       "      <td>Cross Country Skiing Men's 4 x 10 kilometres R...</td>\n",
       "      <td>Norway</td>\n",
       "      <td>Silver</td>\n",
       "      <td>8</td>\n",
       "    </tr>\n",
       "    <tr>\n",
       "      <th>10</th>\n",
       "      <td>Cross Country Skiing Men's 4 x 10 kilometres R...</td>\n",
       "      <td>Norway</td>\n",
       "      <td>Gold</td>\n",
       "      <td>4</td>\n",
       "    </tr>\n",
       "    <tr>\n",
       "      <th>11</th>\n",
       "      <td>Cross Country Skiing Men's 4 x 10 kilometres R...</td>\n",
       "      <td>Norway</td>\n",
       "      <td>Bronze</td>\n",
       "      <td>1</td>\n",
       "    </tr>\n",
       "    <tr>\n",
       "      <th>12</th>\n",
       "      <td>Cross Country Skiing Men's 4 x 10 kilometres R...</td>\n",
       "      <td>Russia</td>\n",
       "      <td>Silver</td>\n",
       "      <td>3</td>\n",
       "    </tr>\n",
       "    <tr>\n",
       "      <th>13</th>\n",
       "      <td>Cross Country Skiing Men's 4 x 10 kilometres R...</td>\n",
       "      <td>Russia</td>\n",
       "      <td>Bronze</td>\n",
       "      <td>3</td>\n",
       "    </tr>\n",
       "    <tr>\n",
       "      <th>14</th>\n",
       "      <td>Cross Country Skiing Men's 4 x 10 kilometres R...</td>\n",
       "      <td>Russia</td>\n",
       "      <td>Gold</td>\n",
       "      <td>3</td>\n",
       "    </tr>\n",
       "    <tr>\n",
       "      <th>15</th>\n",
       "      <td>Cross Country Skiing Men's 4 x 10 kilometres R...</td>\n",
       "      <td>Sweden</td>\n",
       "      <td>Gold</td>\n",
       "      <td>6</td>\n",
       "    </tr>\n",
       "    <tr>\n",
       "      <th>16</th>\n",
       "      <td>Cross Country Skiing Men's 4 x 10 kilometres R...</td>\n",
       "      <td>Sweden</td>\n",
       "      <td>Bronze</td>\n",
       "      <td>4</td>\n",
       "    </tr>\n",
       "    <tr>\n",
       "      <th>17</th>\n",
       "      <td>Cross Country Skiing Men's 4 x 10 kilometres R...</td>\n",
       "      <td>Sweden</td>\n",
       "      <td>Silver</td>\n",
       "      <td>1</td>\n",
       "    </tr>\n",
       "    <tr>\n",
       "      <th>18</th>\n",
       "      <td>Cross Country Skiing Men's 4 x 10 kilometres R...</td>\n",
       "      <td>Switzerland</td>\n",
       "      <td>Bronze</td>\n",
       "      <td>1</td>\n",
       "    </tr>\n",
       "  </tbody>\n",
       "</table>\n",
       "</div>"
      ],
      "text/plain": [
       "                                                Event          region   Medal  \\\n",
       "0   Cross Country Skiing Men's 4 x 10 kilometres R...  Czech Republic  Bronze   \n",
       "1   Cross Country Skiing Men's 4 x 10 kilometres R...         Finland  Bronze   \n",
       "2   Cross Country Skiing Men's 4 x 10 kilometres R...         Finland    Gold   \n",
       "3   Cross Country Skiing Men's 4 x 10 kilometres R...         Finland  Silver   \n",
       "4   Cross Country Skiing Men's 4 x 10 kilometres R...          France  Bronze   \n",
       "5   Cross Country Skiing Men's 4 x 10 kilometres R...         Germany  Silver   \n",
       "6   Cross Country Skiing Men's 4 x 10 kilometres R...         Germany  Bronze   \n",
       "7   Cross Country Skiing Men's 4 x 10 kilometres R...           Italy  Silver   \n",
       "8   Cross Country Skiing Men's 4 x 10 kilometres R...           Italy    Gold   \n",
       "9   Cross Country Skiing Men's 4 x 10 kilometres R...          Norway  Silver   \n",
       "10  Cross Country Skiing Men's 4 x 10 kilometres R...          Norway    Gold   \n",
       "11  Cross Country Skiing Men's 4 x 10 kilometres R...          Norway  Bronze   \n",
       "12  Cross Country Skiing Men's 4 x 10 kilometres R...          Russia  Silver   \n",
       "13  Cross Country Skiing Men's 4 x 10 kilometres R...          Russia  Bronze   \n",
       "14  Cross Country Skiing Men's 4 x 10 kilometres R...          Russia    Gold   \n",
       "15  Cross Country Skiing Men's 4 x 10 kilometres R...          Sweden    Gold   \n",
       "16  Cross Country Skiing Men's 4 x 10 kilometres R...          Sweden  Bronze   \n",
       "17  Cross Country Skiing Men's 4 x 10 kilometres R...          Sweden  Silver   \n",
       "18  Cross Country Skiing Men's 4 x 10 kilometres R...     Switzerland  Bronze   \n",
       "\n",
       "    0  \n",
       "0   2  \n",
       "1   6  \n",
       "2   4  \n",
       "3   3  \n",
       "4   1  \n",
       "5   1  \n",
       "6   1  \n",
       "7   3  \n",
       "8   2  \n",
       "9   8  \n",
       "10  4  \n",
       "11  1  \n",
       "12  3  \n",
       "13  3  \n",
       "14  3  \n",
       "15  6  \n",
       "16  4  \n",
       "17  1  \n",
       "18  1  "
      ]
     },
     "execution_count": 234,
     "metadata": {},
     "output_type": "execute_result"
    }
   ],
   "source": [
    "df_test = relay.groupby([\"Event\", \"region\"])[[\"Medal\"]].value_counts().to_frame().reset_index()\n",
    "df_test"
   ]
  },
  {
   "cell_type": "code",
   "execution_count": 235,
   "metadata": {},
   "outputs": [
    {
     "data": {
      "text/html": [
       "<div>\n",
       "<style scoped>\n",
       "    .dataframe tbody tr th:only-of-type {\n",
       "        vertical-align: middle;\n",
       "    }\n",
       "\n",
       "    .dataframe tbody tr th {\n",
       "        vertical-align: top;\n",
       "    }\n",
       "\n",
       "    .dataframe thead th {\n",
       "        text-align: right;\n",
       "    }\n",
       "</style>\n",
       "<table border=\"1\" class=\"dataframe\">\n",
       "  <thead>\n",
       "    <tr style=\"text-align: right;\">\n",
       "      <th></th>\n",
       "      <th>Event</th>\n",
       "      <th>region</th>\n",
       "      <th>Medal</th>\n",
       "      <th>0</th>\n",
       "    </tr>\n",
       "  </thead>\n",
       "  <tbody>\n",
       "    <tr>\n",
       "      <th>0</th>\n",
       "      <td>Cross Country Skiing Men's 4 x 10 kilometres R...</td>\n",
       "      <td>Czech Republic</td>\n",
       "      <td>Bronze</td>\n",
       "      <td>2</td>\n",
       "    </tr>\n",
       "    <tr>\n",
       "      <th>1</th>\n",
       "      <td>Cross Country Skiing Men's 4 x 10 kilometres R...</td>\n",
       "      <td>Finland</td>\n",
       "      <td>Bronze</td>\n",
       "      <td>6</td>\n",
       "    </tr>\n",
       "    <tr>\n",
       "      <th>2</th>\n",
       "      <td>Cross Country Skiing Men's 4 x 10 kilometres R...</td>\n",
       "      <td>Finland</td>\n",
       "      <td>Gold</td>\n",
       "      <td>4</td>\n",
       "    </tr>\n",
       "    <tr>\n",
       "      <th>3</th>\n",
       "      <td>Cross Country Skiing Men's 4 x 10 kilometres R...</td>\n",
       "      <td>Finland</td>\n",
       "      <td>Silver</td>\n",
       "      <td>3</td>\n",
       "    </tr>\n",
       "    <tr>\n",
       "      <th>4</th>\n",
       "      <td>Cross Country Skiing Men's 4 x 10 kilometres R...</td>\n",
       "      <td>France</td>\n",
       "      <td>Bronze</td>\n",
       "      <td>1</td>\n",
       "    </tr>\n",
       "  </tbody>\n",
       "</table>\n",
       "</div>"
      ],
      "text/plain": [
       "                                               Event          region   Medal  \\\n",
       "0  Cross Country Skiing Men's 4 x 10 kilometres R...  Czech Republic  Bronze   \n",
       "1  Cross Country Skiing Men's 4 x 10 kilometres R...         Finland  Bronze   \n",
       "2  Cross Country Skiing Men's 4 x 10 kilometres R...         Finland    Gold   \n",
       "3  Cross Country Skiing Men's 4 x 10 kilometres R...         Finland  Silver   \n",
       "4  Cross Country Skiing Men's 4 x 10 kilometres R...          France  Bronze   \n",
       "\n",
       "   0  \n",
       "0  2  \n",
       "1  6  \n",
       "2  4  \n",
       "3  3  \n",
       "4  1  "
      ]
     },
     "execution_count": 235,
     "metadata": {},
     "output_type": "execute_result"
    }
   ],
   "source": [
    "sport_test = df_test[df_test[\"Event\"] == \"Cross Country Skiing Men's 4 x 10 kilometres Relay\"]\n",
    "sport_test.head()"
   ]
  },
  {
   "cell_type": "code",
   "execution_count": 238,
   "metadata": {},
   "outputs": [
    {
     "data": {
      "application/vnd.plotly.v1+json": {
       "config": {
        "plotlyServerURL": "https://plot.ly"
       },
       "data": [
        {
         "alignmentgroup": "True",
         "hovertemplate": "Medal=Bronze<br>region=%{x}<br>Number of medals=%{y}<extra></extra>",
         "legendgroup": "Bronze",
         "marker": {
          "color": "#636efa",
          "pattern": {
           "shape": ""
          }
         },
         "name": "Bronze",
         "offsetgroup": "Bronze",
         "orientation": "v",
         "showlegend": true,
         "textposition": "auto",
         "type": "bar",
         "x": [
          "Czech Republic",
          "Finland",
          "France",
          "Germany",
          "Norway",
          "Russia",
          "Sweden",
          "Switzerland"
         ],
         "xaxis": "x",
         "y": [
          2,
          6,
          1,
          1,
          1,
          3,
          4,
          1
         ],
         "yaxis": "y"
        },
        {
         "alignmentgroup": "True",
         "hovertemplate": "Medal=Gold<br>region=%{x}<br>Number of medals=%{y}<extra></extra>",
         "legendgroup": "Gold",
         "marker": {
          "color": "#EF553B",
          "pattern": {
           "shape": ""
          }
         },
         "name": "Gold",
         "offsetgroup": "Gold",
         "orientation": "v",
         "showlegend": true,
         "textposition": "auto",
         "type": "bar",
         "x": [
          "Finland",
          "Italy",
          "Norway",
          "Russia",
          "Sweden"
         ],
         "xaxis": "x",
         "y": [
          4,
          2,
          4,
          3,
          6
         ],
         "yaxis": "y"
        },
        {
         "alignmentgroup": "True",
         "hovertemplate": "Medal=Silver<br>region=%{x}<br>Number of medals=%{y}<extra></extra>",
         "legendgroup": "Silver",
         "marker": {
          "color": "#00cc96",
          "pattern": {
           "shape": ""
          }
         },
         "name": "Silver",
         "offsetgroup": "Silver",
         "orientation": "v",
         "showlegend": true,
         "textposition": "auto",
         "type": "bar",
         "x": [
          "Finland",
          "Germany",
          "Italy",
          "Norway",
          "Russia",
          "Sweden"
         ],
         "xaxis": "x",
         "y": [
          3,
          1,
          3,
          8,
          3,
          1
         ],
         "yaxis": "y"
        }
       ],
       "layout": {
        "barmode": "relative",
        "legend": {
         "title": {
          "text": "Medal"
         },
         "tracegroupgap": 0
        },
        "template": {
         "data": {
          "bar": [
           {
            "error_x": {
             "color": "#2a3f5f"
            },
            "error_y": {
             "color": "#2a3f5f"
            },
            "marker": {
             "line": {
              "color": "#E5ECF6",
              "width": 0.5
             },
             "pattern": {
              "fillmode": "overlay",
              "size": 10,
              "solidity": 0.2
             }
            },
            "type": "bar"
           }
          ],
          "barpolar": [
           {
            "marker": {
             "line": {
              "color": "#E5ECF6",
              "width": 0.5
             },
             "pattern": {
              "fillmode": "overlay",
              "size": 10,
              "solidity": 0.2
             }
            },
            "type": "barpolar"
           }
          ],
          "carpet": [
           {
            "aaxis": {
             "endlinecolor": "#2a3f5f",
             "gridcolor": "white",
             "linecolor": "white",
             "minorgridcolor": "white",
             "startlinecolor": "#2a3f5f"
            },
            "baxis": {
             "endlinecolor": "#2a3f5f",
             "gridcolor": "white",
             "linecolor": "white",
             "minorgridcolor": "white",
             "startlinecolor": "#2a3f5f"
            },
            "type": "carpet"
           }
          ],
          "choropleth": [
           {
            "colorbar": {
             "outlinewidth": 0,
             "ticks": ""
            },
            "type": "choropleth"
           }
          ],
          "contour": [
           {
            "colorbar": {
             "outlinewidth": 0,
             "ticks": ""
            },
            "colorscale": [
             [
              0,
              "#0d0887"
             ],
             [
              0.1111111111111111,
              "#46039f"
             ],
             [
              0.2222222222222222,
              "#7201a8"
             ],
             [
              0.3333333333333333,
              "#9c179e"
             ],
             [
              0.4444444444444444,
              "#bd3786"
             ],
             [
              0.5555555555555556,
              "#d8576b"
             ],
             [
              0.6666666666666666,
              "#ed7953"
             ],
             [
              0.7777777777777778,
              "#fb9f3a"
             ],
             [
              0.8888888888888888,
              "#fdca26"
             ],
             [
              1,
              "#f0f921"
             ]
            ],
            "type": "contour"
           }
          ],
          "contourcarpet": [
           {
            "colorbar": {
             "outlinewidth": 0,
             "ticks": ""
            },
            "type": "contourcarpet"
           }
          ],
          "heatmap": [
           {
            "colorbar": {
             "outlinewidth": 0,
             "ticks": ""
            },
            "colorscale": [
             [
              0,
              "#0d0887"
             ],
             [
              0.1111111111111111,
              "#46039f"
             ],
             [
              0.2222222222222222,
              "#7201a8"
             ],
             [
              0.3333333333333333,
              "#9c179e"
             ],
             [
              0.4444444444444444,
              "#bd3786"
             ],
             [
              0.5555555555555556,
              "#d8576b"
             ],
             [
              0.6666666666666666,
              "#ed7953"
             ],
             [
              0.7777777777777778,
              "#fb9f3a"
             ],
             [
              0.8888888888888888,
              "#fdca26"
             ],
             [
              1,
              "#f0f921"
             ]
            ],
            "type": "heatmap"
           }
          ],
          "heatmapgl": [
           {
            "colorbar": {
             "outlinewidth": 0,
             "ticks": ""
            },
            "colorscale": [
             [
              0,
              "#0d0887"
             ],
             [
              0.1111111111111111,
              "#46039f"
             ],
             [
              0.2222222222222222,
              "#7201a8"
             ],
             [
              0.3333333333333333,
              "#9c179e"
             ],
             [
              0.4444444444444444,
              "#bd3786"
             ],
             [
              0.5555555555555556,
              "#d8576b"
             ],
             [
              0.6666666666666666,
              "#ed7953"
             ],
             [
              0.7777777777777778,
              "#fb9f3a"
             ],
             [
              0.8888888888888888,
              "#fdca26"
             ],
             [
              1,
              "#f0f921"
             ]
            ],
            "type": "heatmapgl"
           }
          ],
          "histogram": [
           {
            "marker": {
             "pattern": {
              "fillmode": "overlay",
              "size": 10,
              "solidity": 0.2
             }
            },
            "type": "histogram"
           }
          ],
          "histogram2d": [
           {
            "colorbar": {
             "outlinewidth": 0,
             "ticks": ""
            },
            "colorscale": [
             [
              0,
              "#0d0887"
             ],
             [
              0.1111111111111111,
              "#46039f"
             ],
             [
              0.2222222222222222,
              "#7201a8"
             ],
             [
              0.3333333333333333,
              "#9c179e"
             ],
             [
              0.4444444444444444,
              "#bd3786"
             ],
             [
              0.5555555555555556,
              "#d8576b"
             ],
             [
              0.6666666666666666,
              "#ed7953"
             ],
             [
              0.7777777777777778,
              "#fb9f3a"
             ],
             [
              0.8888888888888888,
              "#fdca26"
             ],
             [
              1,
              "#f0f921"
             ]
            ],
            "type": "histogram2d"
           }
          ],
          "histogram2dcontour": [
           {
            "colorbar": {
             "outlinewidth": 0,
             "ticks": ""
            },
            "colorscale": [
             [
              0,
              "#0d0887"
             ],
             [
              0.1111111111111111,
              "#46039f"
             ],
             [
              0.2222222222222222,
              "#7201a8"
             ],
             [
              0.3333333333333333,
              "#9c179e"
             ],
             [
              0.4444444444444444,
              "#bd3786"
             ],
             [
              0.5555555555555556,
              "#d8576b"
             ],
             [
              0.6666666666666666,
              "#ed7953"
             ],
             [
              0.7777777777777778,
              "#fb9f3a"
             ],
             [
              0.8888888888888888,
              "#fdca26"
             ],
             [
              1,
              "#f0f921"
             ]
            ],
            "type": "histogram2dcontour"
           }
          ],
          "mesh3d": [
           {
            "colorbar": {
             "outlinewidth": 0,
             "ticks": ""
            },
            "type": "mesh3d"
           }
          ],
          "parcoords": [
           {
            "line": {
             "colorbar": {
              "outlinewidth": 0,
              "ticks": ""
             }
            },
            "type": "parcoords"
           }
          ],
          "pie": [
           {
            "automargin": true,
            "type": "pie"
           }
          ],
          "scatter": [
           {
            "fillpattern": {
             "fillmode": "overlay",
             "size": 10,
             "solidity": 0.2
            },
            "type": "scatter"
           }
          ],
          "scatter3d": [
           {
            "line": {
             "colorbar": {
              "outlinewidth": 0,
              "ticks": ""
             }
            },
            "marker": {
             "colorbar": {
              "outlinewidth": 0,
              "ticks": ""
             }
            },
            "type": "scatter3d"
           }
          ],
          "scattercarpet": [
           {
            "marker": {
             "colorbar": {
              "outlinewidth": 0,
              "ticks": ""
             }
            },
            "type": "scattercarpet"
           }
          ],
          "scattergeo": [
           {
            "marker": {
             "colorbar": {
              "outlinewidth": 0,
              "ticks": ""
             }
            },
            "type": "scattergeo"
           }
          ],
          "scattergl": [
           {
            "marker": {
             "colorbar": {
              "outlinewidth": 0,
              "ticks": ""
             }
            },
            "type": "scattergl"
           }
          ],
          "scattermapbox": [
           {
            "marker": {
             "colorbar": {
              "outlinewidth": 0,
              "ticks": ""
             }
            },
            "type": "scattermapbox"
           }
          ],
          "scatterpolar": [
           {
            "marker": {
             "colorbar": {
              "outlinewidth": 0,
              "ticks": ""
             }
            },
            "type": "scatterpolar"
           }
          ],
          "scatterpolargl": [
           {
            "marker": {
             "colorbar": {
              "outlinewidth": 0,
              "ticks": ""
             }
            },
            "type": "scatterpolargl"
           }
          ],
          "scatterternary": [
           {
            "marker": {
             "colorbar": {
              "outlinewidth": 0,
              "ticks": ""
             }
            },
            "type": "scatterternary"
           }
          ],
          "surface": [
           {
            "colorbar": {
             "outlinewidth": 0,
             "ticks": ""
            },
            "colorscale": [
             [
              0,
              "#0d0887"
             ],
             [
              0.1111111111111111,
              "#46039f"
             ],
             [
              0.2222222222222222,
              "#7201a8"
             ],
             [
              0.3333333333333333,
              "#9c179e"
             ],
             [
              0.4444444444444444,
              "#bd3786"
             ],
             [
              0.5555555555555556,
              "#d8576b"
             ],
             [
              0.6666666666666666,
              "#ed7953"
             ],
             [
              0.7777777777777778,
              "#fb9f3a"
             ],
             [
              0.8888888888888888,
              "#fdca26"
             ],
             [
              1,
              "#f0f921"
             ]
            ],
            "type": "surface"
           }
          ],
          "table": [
           {
            "cells": {
             "fill": {
              "color": "#EBF0F8"
             },
             "line": {
              "color": "white"
             }
            },
            "header": {
             "fill": {
              "color": "#C8D4E3"
             },
             "line": {
              "color": "white"
             }
            },
            "type": "table"
           }
          ]
         },
         "layout": {
          "annotationdefaults": {
           "arrowcolor": "#2a3f5f",
           "arrowhead": 0,
           "arrowwidth": 1
          },
          "autotypenumbers": "strict",
          "coloraxis": {
           "colorbar": {
            "outlinewidth": 0,
            "ticks": ""
           }
          },
          "colorscale": {
           "diverging": [
            [
             0,
             "#8e0152"
            ],
            [
             0.1,
             "#c51b7d"
            ],
            [
             0.2,
             "#de77ae"
            ],
            [
             0.3,
             "#f1b6da"
            ],
            [
             0.4,
             "#fde0ef"
            ],
            [
             0.5,
             "#f7f7f7"
            ],
            [
             0.6,
             "#e6f5d0"
            ],
            [
             0.7,
             "#b8e186"
            ],
            [
             0.8,
             "#7fbc41"
            ],
            [
             0.9,
             "#4d9221"
            ],
            [
             1,
             "#276419"
            ]
           ],
           "sequential": [
            [
             0,
             "#0d0887"
            ],
            [
             0.1111111111111111,
             "#46039f"
            ],
            [
             0.2222222222222222,
             "#7201a8"
            ],
            [
             0.3333333333333333,
             "#9c179e"
            ],
            [
             0.4444444444444444,
             "#bd3786"
            ],
            [
             0.5555555555555556,
             "#d8576b"
            ],
            [
             0.6666666666666666,
             "#ed7953"
            ],
            [
             0.7777777777777778,
             "#fb9f3a"
            ],
            [
             0.8888888888888888,
             "#fdca26"
            ],
            [
             1,
             "#f0f921"
            ]
           ],
           "sequentialminus": [
            [
             0,
             "#0d0887"
            ],
            [
             0.1111111111111111,
             "#46039f"
            ],
            [
             0.2222222222222222,
             "#7201a8"
            ],
            [
             0.3333333333333333,
             "#9c179e"
            ],
            [
             0.4444444444444444,
             "#bd3786"
            ],
            [
             0.5555555555555556,
             "#d8576b"
            ],
            [
             0.6666666666666666,
             "#ed7953"
            ],
            [
             0.7777777777777778,
             "#fb9f3a"
            ],
            [
             0.8888888888888888,
             "#fdca26"
            ],
            [
             1,
             "#f0f921"
            ]
           ]
          },
          "colorway": [
           "#636efa",
           "#EF553B",
           "#00cc96",
           "#ab63fa",
           "#FFA15A",
           "#19d3f3",
           "#FF6692",
           "#B6E880",
           "#FF97FF",
           "#FECB52"
          ],
          "font": {
           "color": "#2a3f5f"
          },
          "geo": {
           "bgcolor": "white",
           "lakecolor": "white",
           "landcolor": "#E5ECF6",
           "showlakes": true,
           "showland": true,
           "subunitcolor": "white"
          },
          "hoverlabel": {
           "align": "left"
          },
          "hovermode": "closest",
          "mapbox": {
           "style": "light"
          },
          "paper_bgcolor": "white",
          "plot_bgcolor": "#E5ECF6",
          "polar": {
           "angularaxis": {
            "gridcolor": "white",
            "linecolor": "white",
            "ticks": ""
           },
           "bgcolor": "#E5ECF6",
           "radialaxis": {
            "gridcolor": "white",
            "linecolor": "white",
            "ticks": ""
           }
          },
          "scene": {
           "xaxis": {
            "backgroundcolor": "#E5ECF6",
            "gridcolor": "white",
            "gridwidth": 2,
            "linecolor": "white",
            "showbackground": true,
            "ticks": "",
            "zerolinecolor": "white"
           },
           "yaxis": {
            "backgroundcolor": "#E5ECF6",
            "gridcolor": "white",
            "gridwidth": 2,
            "linecolor": "white",
            "showbackground": true,
            "ticks": "",
            "zerolinecolor": "white"
           },
           "zaxis": {
            "backgroundcolor": "#E5ECF6",
            "gridcolor": "white",
            "gridwidth": 2,
            "linecolor": "white",
            "showbackground": true,
            "ticks": "",
            "zerolinecolor": "white"
           }
          },
          "shapedefaults": {
           "line": {
            "color": "#2a3f5f"
           }
          },
          "ternary": {
           "aaxis": {
            "gridcolor": "white",
            "linecolor": "white",
            "ticks": ""
           },
           "baxis": {
            "gridcolor": "white",
            "linecolor": "white",
            "ticks": ""
           },
           "bgcolor": "#E5ECF6",
           "caxis": {
            "gridcolor": "white",
            "linecolor": "white",
            "ticks": ""
           }
          },
          "title": {
           "x": 0.05
          },
          "xaxis": {
           "automargin": true,
           "gridcolor": "white",
           "linecolor": "white",
           "ticks": "",
           "title": {
            "standoff": 15
           },
           "zerolinecolor": "white",
           "zerolinewidth": 2
          },
          "yaxis": {
           "automargin": true,
           "gridcolor": "white",
           "linecolor": "white",
           "ticks": "",
           "title": {
            "standoff": 15
           },
           "zerolinecolor": "white",
           "zerolinewidth": 2
          }
         }
        },
        "title": {
         "text": "blablabla"
        },
        "xaxis": {
         "anchor": "y",
         "domain": [
          0,
          1
         ],
         "title": {
          "text": "region"
         }
        },
        "yaxis": {
         "anchor": "x",
         "domain": [
          0,
          1
         ],
         "title": {
          "text": "Number of medals"
         }
        }
       }
      }
     },
     "metadata": {},
     "output_type": "display_data"
    }
   ],
   "source": [
    "import plotly_express as px\n",
    "\n",
    "fig = px.bar(\n",
    "    df_test,\n",
    "    x=\"region\",\n",
    "    y=0,\n",
    "    color=\"Medal\",\n",
    "    labels={\"Sport\": \"Sport\", \"0\": \"Number of medals\"},\n",
    "    title=\"blablabla\",\n",
    ")\n",
    "fig.show()"
   ]
  },
  {
   "cell_type": "code",
   "execution_count": 118,
   "metadata": {},
   "outputs": [
    {
     "data": {
      "text/html": [
       "<div>\n",
       "<style scoped>\n",
       "    .dataframe tbody tr th:only-of-type {\n",
       "        vertical-align: middle;\n",
       "    }\n",
       "\n",
       "    .dataframe tbody tr th {\n",
       "        vertical-align: top;\n",
       "    }\n",
       "\n",
       "    .dataframe thead th {\n",
       "        text-align: right;\n",
       "    }\n",
       "</style>\n",
       "<table border=\"1\" class=\"dataframe\">\n",
       "  <thead>\n",
       "    <tr style=\"text-align: right;\">\n",
       "      <th></th>\n",
       "      <th>Sex</th>\n",
       "      <th>Team</th>\n",
       "      <th>NOC</th>\n",
       "      <th>Games</th>\n",
       "      <th>Year</th>\n",
       "      <th>Season</th>\n",
       "      <th>City</th>\n",
       "      <th>Sport</th>\n",
       "      <th>Event</th>\n",
       "      <th>Medal</th>\n",
       "      <th>region</th>\n",
       "      <th>notes</th>\n",
       "    </tr>\n",
       "  </thead>\n",
       "  <tbody>\n",
       "    <tr>\n",
       "      <th>6946</th>\n",
       "      <td>M</td>\n",
       "      <td>Sweden</td>\n",
       "      <td>SWE</td>\n",
       "      <td>1968 Winter</td>\n",
       "      <td>1968</td>\n",
       "      <td>Winter</td>\n",
       "      <td>Grenoble</td>\n",
       "      <td>Cross Country Skiing</td>\n",
       "      <td>Cross Country Skiing Men's 4 x 10 kilometres R...</td>\n",
       "      <td>Silver</td>\n",
       "      <td>Sweden</td>\n",
       "      <td>NaN</td>\n",
       "    </tr>\n",
       "  </tbody>\n",
       "</table>\n",
       "</div>"
      ],
      "text/plain": [
       "     Sex    Team  NOC        Games  Year  Season      City  \\\n",
       "6946   M  Sweden  SWE  1968 Winter  1968  Winter  Grenoble   \n",
       "\n",
       "                     Sport                                              Event  \\\n",
       "6946  Cross Country Skiing  Cross Country Skiing Men's 4 x 10 kilometres R...   \n",
       "\n",
       "       Medal  region notes  \n",
       "6946  Silver  Sweden   NaN  "
      ]
     },
     "execution_count": 118,
     "metadata": {},
     "output_type": "execute_result"
    }
   ],
   "source": [
    "relay_sweden = relay[relay[\"Medal\"] == \"Silver\"]\n",
    "relay_sweden = relay_sweden[relay_sweden[\"region\"] == \"Sweden\"]\n",
    "relay_sweden\n",
    "\n",
    "# Guld = 6\n",
    "# Silver = 1\n",
    "# Bronze = 4\n"
   ]
  },
  {
   "cell_type": "code",
   "execution_count": 164,
   "metadata": {},
   "outputs": [
    {
     "data": {
      "text/html": [
       "<div>\n",
       "<style scoped>\n",
       "    .dataframe tbody tr th:only-of-type {\n",
       "        vertical-align: middle;\n",
       "    }\n",
       "\n",
       "    .dataframe tbody tr th {\n",
       "        vertical-align: top;\n",
       "    }\n",
       "\n",
       "    .dataframe thead th {\n",
       "        text-align: right;\n",
       "    }\n",
       "</style>\n",
       "<table border=\"1\" class=\"dataframe\">\n",
       "  <thead>\n",
       "    <tr style=\"text-align: right;\">\n",
       "      <th></th>\n",
       "      <th>index</th>\n",
       "      <th>Medal</th>\n",
       "    </tr>\n",
       "  </thead>\n",
       "  <tbody>\n",
       "    <tr>\n",
       "      <th>0</th>\n",
       "      <td>Finland</td>\n",
       "      <td>13</td>\n",
       "    </tr>\n",
       "    <tr>\n",
       "      <th>1</th>\n",
       "      <td>Norway</td>\n",
       "      <td>13</td>\n",
       "    </tr>\n",
       "    <tr>\n",
       "      <th>2</th>\n",
       "      <td>Sweden</td>\n",
       "      <td>11</td>\n",
       "    </tr>\n",
       "    <tr>\n",
       "      <th>3</th>\n",
       "      <td>Russia</td>\n",
       "      <td>9</td>\n",
       "    </tr>\n",
       "    <tr>\n",
       "      <th>4</th>\n",
       "      <td>Italy</td>\n",
       "      <td>5</td>\n",
       "    </tr>\n",
       "    <tr>\n",
       "      <th>5</th>\n",
       "      <td>Germany</td>\n",
       "      <td>2</td>\n",
       "    </tr>\n",
       "    <tr>\n",
       "      <th>6</th>\n",
       "      <td>Czech Republic</td>\n",
       "      <td>2</td>\n",
       "    </tr>\n",
       "    <tr>\n",
       "      <th>7</th>\n",
       "      <td>France</td>\n",
       "      <td>1</td>\n",
       "    </tr>\n",
       "    <tr>\n",
       "      <th>8</th>\n",
       "      <td>Switzerland</td>\n",
       "      <td>1</td>\n",
       "    </tr>\n",
       "  </tbody>\n",
       "</table>\n",
       "</div>"
      ],
      "text/plain": [
       "            index  Medal\n",
       "0         Finland     13\n",
       "1          Norway     13\n",
       "2          Sweden     11\n",
       "3          Russia      9\n",
       "4           Italy      5\n",
       "5         Germany      2\n",
       "6  Czech Republic      2\n",
       "7          France      1\n",
       "8     Switzerland      1"
      ]
     },
     "execution_count": 164,
     "metadata": {},
     "output_type": "execute_result"
    }
   ],
   "source": [
    "relay.region.value_counts().reset_index(name='Medal')\n"
   ]
  },
  {
   "cell_type": "code",
   "execution_count": 171,
   "metadata": {},
   "outputs": [
    {
     "name": "stdout",
     "output_type": "stream",
     "text": [
      "<class 'pandas.core.frame.DataFrame'>\n",
      "Int64Index: 57 entries, 3940 to 220266\n",
      "Data columns (total 12 columns):\n",
      " #   Column  Non-Null Count  Dtype \n",
      "---  ------  --------------  ----- \n",
      " 0   Sex     57 non-null     object\n",
      " 1   Team    57 non-null     object\n",
      " 2   NOC     57 non-null     object\n",
      " 3   Games   57 non-null     object\n",
      " 4   Year    57 non-null     int64 \n",
      " 5   Season  57 non-null     object\n",
      " 6   City    57 non-null     object\n",
      " 7   Sport   57 non-null     object\n",
      " 8   Event   57 non-null     object\n",
      " 9   Medal   57 non-null     object\n",
      " 10  region  57 non-null     object\n",
      " 11  notes   0 non-null      object\n",
      "dtypes: int64(1), object(11)\n",
      "memory usage: 5.8+ KB\n"
     ]
    }
   ],
   "source": [
    "relay.info()"
   ]
  },
  {
   "cell_type": "markdown",
   "metadata": {},
   "source": [
    "Cross Country Skiing Men's 4 x 10 kilometres Relay"
   ]
  },
  {
   "cell_type": "code",
   "execution_count": 173,
   "metadata": {},
   "outputs": [
    {
     "data": {
      "text/html": [
       "<div>\n",
       "<style scoped>\n",
       "    .dataframe tbody tr th:only-of-type {\n",
       "        vertical-align: middle;\n",
       "    }\n",
       "\n",
       "    .dataframe tbody tr th {\n",
       "        vertical-align: top;\n",
       "    }\n",
       "\n",
       "    .dataframe thead th {\n",
       "        text-align: right;\n",
       "    }\n",
       "</style>\n",
       "<table border=\"1\" class=\"dataframe\">\n",
       "  <thead>\n",
       "    <tr style=\"text-align: right;\">\n",
       "      <th></th>\n",
       "      <th>Event</th>\n",
       "      <th>region</th>\n",
       "      <th>Medal</th>\n",
       "      <th>0</th>\n",
       "    </tr>\n",
       "  </thead>\n",
       "  <tbody>\n",
       "    <tr>\n",
       "      <th>0</th>\n",
       "      <td>Aeronautics Mixed Aeronautics</td>\n",
       "      <td>Switzerland</td>\n",
       "      <td>Gold</td>\n",
       "      <td>1</td>\n",
       "    </tr>\n",
       "    <tr>\n",
       "      <th>1</th>\n",
       "      <td>Alpine Skiing Men's Combined</td>\n",
       "      <td>Austria</td>\n",
       "      <td>Bronze</td>\n",
       "      <td>3</td>\n",
       "    </tr>\n",
       "    <tr>\n",
       "      <th>2</th>\n",
       "      <td>Alpine Skiing Men's Combined</td>\n",
       "      <td>Austria</td>\n",
       "      <td>Gold</td>\n",
       "      <td>2</td>\n",
       "    </tr>\n",
       "    <tr>\n",
       "      <th>3</th>\n",
       "      <td>Alpine Skiing Men's Combined</td>\n",
       "      <td>Austria</td>\n",
       "      <td>Silver</td>\n",
       "      <td>1</td>\n",
       "    </tr>\n",
       "    <tr>\n",
       "      <th>4</th>\n",
       "      <td>Alpine Skiing Men's Combined</td>\n",
       "      <td>Croatia</td>\n",
       "      <td>Silver</td>\n",
       "      <td>3</td>\n",
       "    </tr>\n",
       "    <tr>\n",
       "      <th>...</th>\n",
       "      <td>...</td>\n",
       "      <td>...</td>\n",
       "      <td>...</td>\n",
       "      <td>...</td>\n",
       "    </tr>\n",
       "    <tr>\n",
       "      <th>10593</th>\n",
       "      <td>Wrestling Women's Middleweight, Freestyle</td>\n",
       "      <td>Poland</td>\n",
       "      <td>Bronze</td>\n",
       "      <td>1</td>\n",
       "    </tr>\n",
       "    <tr>\n",
       "      <th>10594</th>\n",
       "      <td>Wrestling Women's Middleweight, Freestyle</td>\n",
       "      <td>Russia</td>\n",
       "      <td>Silver</td>\n",
       "      <td>1</td>\n",
       "    </tr>\n",
       "    <tr>\n",
       "      <th>10595</th>\n",
       "      <td>Wrestling Women's Middleweight, Freestyle</td>\n",
       "      <td>Russia</td>\n",
       "      <td>Bronze</td>\n",
       "      <td>1</td>\n",
       "    </tr>\n",
       "    <tr>\n",
       "      <th>10596</th>\n",
       "      <td>Wrestling Women's Middleweight, Freestyle</td>\n",
       "      <td>USA</td>\n",
       "      <td>Bronze</td>\n",
       "      <td>1</td>\n",
       "    </tr>\n",
       "    <tr>\n",
       "      <th>10597</th>\n",
       "      <td>Wrestling Women's Middleweight, Freestyle</td>\n",
       "      <td>USA</td>\n",
       "      <td>Silver</td>\n",
       "      <td>1</td>\n",
       "    </tr>\n",
       "  </tbody>\n",
       "</table>\n",
       "<p>10598 rows × 4 columns</p>\n",
       "</div>"
      ],
      "text/plain": [
       "                                           Event       region   Medal  0\n",
       "0                  Aeronautics Mixed Aeronautics  Switzerland    Gold  1\n",
       "1                   Alpine Skiing Men's Combined      Austria  Bronze  3\n",
       "2                   Alpine Skiing Men's Combined      Austria    Gold  2\n",
       "3                   Alpine Skiing Men's Combined      Austria  Silver  1\n",
       "4                   Alpine Skiing Men's Combined      Croatia  Silver  3\n",
       "...                                          ...          ...     ... ..\n",
       "10593  Wrestling Women's Middleweight, Freestyle       Poland  Bronze  1\n",
       "10594  Wrestling Women's Middleweight, Freestyle       Russia  Silver  1\n",
       "10595  Wrestling Women's Middleweight, Freestyle       Russia  Bronze  1\n",
       "10596  Wrestling Women's Middleweight, Freestyle          USA  Bronze  1\n",
       "10597  Wrestling Women's Middleweight, Freestyle          USA  Silver  1\n",
       "\n",
       "[10598 rows x 4 columns]"
      ]
     },
     "execution_count": 173,
     "metadata": {},
     "output_type": "execute_result"
    }
   ],
   "source": [
    "df_relay = df.groupby([\"Event\", \"region\"])[[\"Medal\"]].value_counts().to_frame().reset_index()\n",
    "df_relay"
   ]
  },
  {
   "cell_type": "code",
   "execution_count": 144,
   "metadata": {},
   "outputs": [
    {
     "data": {
      "text/html": [
       "<div>\n",
       "<style scoped>\n",
       "    .dataframe tbody tr th:only-of-type {\n",
       "        vertical-align: middle;\n",
       "    }\n",
       "\n",
       "    .dataframe tbody tr th {\n",
       "        vertical-align: top;\n",
       "    }\n",
       "\n",
       "    .dataframe thead th {\n",
       "        text-align: right;\n",
       "    }\n",
       "</style>\n",
       "<table border=\"1\" class=\"dataframe\">\n",
       "  <thead>\n",
       "    <tr style=\"text-align: right;\">\n",
       "      <th></th>\n",
       "      <th>Event</th>\n",
       "      <th>region</th>\n",
       "      <th>Medal</th>\n",
       "      <th>0</th>\n",
       "    </tr>\n",
       "  </thead>\n",
       "  <tbody>\n",
       "    <tr>\n",
       "      <th>3367</th>\n",
       "      <td>Cross Country Skiing Men's 4 x 10 kilometres R...</td>\n",
       "      <td>Czech Republic</td>\n",
       "      <td>Bronze</td>\n",
       "      <td>8</td>\n",
       "    </tr>\n",
       "    <tr>\n",
       "      <th>3368</th>\n",
       "      <td>Cross Country Skiing Men's 4 x 10 kilometres R...</td>\n",
       "      <td>Finland</td>\n",
       "      <td>Bronze</td>\n",
       "      <td>24</td>\n",
       "    </tr>\n",
       "    <tr>\n",
       "      <th>3369</th>\n",
       "      <td>Cross Country Skiing Men's 4 x 10 kilometres R...</td>\n",
       "      <td>Finland</td>\n",
       "      <td>Gold</td>\n",
       "      <td>16</td>\n",
       "    </tr>\n",
       "    <tr>\n",
       "      <th>3370</th>\n",
       "      <td>Cross Country Skiing Men's 4 x 10 kilometres R...</td>\n",
       "      <td>Finland</td>\n",
       "      <td>Silver</td>\n",
       "      <td>12</td>\n",
       "    </tr>\n",
       "    <tr>\n",
       "      <th>3371</th>\n",
       "      <td>Cross Country Skiing Men's 4 x 10 kilometres R...</td>\n",
       "      <td>France</td>\n",
       "      <td>Bronze</td>\n",
       "      <td>4</td>\n",
       "    </tr>\n",
       "    <tr>\n",
       "      <th>3372</th>\n",
       "      <td>Cross Country Skiing Men's 4 x 10 kilometres R...</td>\n",
       "      <td>Germany</td>\n",
       "      <td>Silver</td>\n",
       "      <td>4</td>\n",
       "    </tr>\n",
       "    <tr>\n",
       "      <th>3373</th>\n",
       "      <td>Cross Country Skiing Men's 4 x 10 kilometres R...</td>\n",
       "      <td>Germany</td>\n",
       "      <td>Bronze</td>\n",
       "      <td>4</td>\n",
       "    </tr>\n",
       "    <tr>\n",
       "      <th>3374</th>\n",
       "      <td>Cross Country Skiing Men's 4 x 10 kilometres R...</td>\n",
       "      <td>Italy</td>\n",
       "      <td>Silver</td>\n",
       "      <td>12</td>\n",
       "    </tr>\n",
       "    <tr>\n",
       "      <th>3375</th>\n",
       "      <td>Cross Country Skiing Men's 4 x 10 kilometres R...</td>\n",
       "      <td>Italy</td>\n",
       "      <td>Gold</td>\n",
       "      <td>8</td>\n",
       "    </tr>\n",
       "    <tr>\n",
       "      <th>3376</th>\n",
       "      <td>Cross Country Skiing Men's 4 x 10 kilometres R...</td>\n",
       "      <td>Norway</td>\n",
       "      <td>Silver</td>\n",
       "      <td>30</td>\n",
       "    </tr>\n",
       "    <tr>\n",
       "      <th>3377</th>\n",
       "      <td>Cross Country Skiing Men's 4 x 10 kilometres R...</td>\n",
       "      <td>Norway</td>\n",
       "      <td>Gold</td>\n",
       "      <td>14</td>\n",
       "    </tr>\n",
       "    <tr>\n",
       "      <th>3378</th>\n",
       "      <td>Cross Country Skiing Men's 4 x 10 kilometres R...</td>\n",
       "      <td>Norway</td>\n",
       "      <td>Bronze</td>\n",
       "      <td>4</td>\n",
       "    </tr>\n",
       "    <tr>\n",
       "      <th>3379</th>\n",
       "      <td>Cross Country Skiing Men's 4 x 10 kilometres R...</td>\n",
       "      <td>Russia</td>\n",
       "      <td>Gold</td>\n",
       "      <td>12</td>\n",
       "    </tr>\n",
       "    <tr>\n",
       "      <th>3380</th>\n",
       "      <td>Cross Country Skiing Men's 4 x 10 kilometres R...</td>\n",
       "      <td>Russia</td>\n",
       "      <td>Bronze</td>\n",
       "      <td>12</td>\n",
       "    </tr>\n",
       "    <tr>\n",
       "      <th>3381</th>\n",
       "      <td>Cross Country Skiing Men's 4 x 10 kilometres R...</td>\n",
       "      <td>Russia</td>\n",
       "      <td>Silver</td>\n",
       "      <td>12</td>\n",
       "    </tr>\n",
       "    <tr>\n",
       "      <th>3382</th>\n",
       "      <td>Cross Country Skiing Men's 4 x 10 kilometres R...</td>\n",
       "      <td>Sweden</td>\n",
       "      <td>Gold</td>\n",
       "      <td>24</td>\n",
       "    </tr>\n",
       "    <tr>\n",
       "      <th>3383</th>\n",
       "      <td>Cross Country Skiing Men's 4 x 10 kilometres R...</td>\n",
       "      <td>Sweden</td>\n",
       "      <td>Bronze</td>\n",
       "      <td>16</td>\n",
       "    </tr>\n",
       "    <tr>\n",
       "      <th>3384</th>\n",
       "      <td>Cross Country Skiing Men's 4 x 10 kilometres R...</td>\n",
       "      <td>Sweden</td>\n",
       "      <td>Silver</td>\n",
       "      <td>4</td>\n",
       "    </tr>\n",
       "    <tr>\n",
       "      <th>3385</th>\n",
       "      <td>Cross Country Skiing Men's 4 x 10 kilometres R...</td>\n",
       "      <td>Switzerland</td>\n",
       "      <td>Bronze</td>\n",
       "      <td>4</td>\n",
       "    </tr>\n",
       "  </tbody>\n",
       "</table>\n",
       "</div>"
      ],
      "text/plain": [
       "                                                  Event          region  \\\n",
       "3367  Cross Country Skiing Men's 4 x 10 kilometres R...  Czech Republic   \n",
       "3368  Cross Country Skiing Men's 4 x 10 kilometres R...         Finland   \n",
       "3369  Cross Country Skiing Men's 4 x 10 kilometres R...         Finland   \n",
       "3370  Cross Country Skiing Men's 4 x 10 kilometres R...         Finland   \n",
       "3371  Cross Country Skiing Men's 4 x 10 kilometres R...          France   \n",
       "3372  Cross Country Skiing Men's 4 x 10 kilometres R...         Germany   \n",
       "3373  Cross Country Skiing Men's 4 x 10 kilometres R...         Germany   \n",
       "3374  Cross Country Skiing Men's 4 x 10 kilometres R...           Italy   \n",
       "3375  Cross Country Skiing Men's 4 x 10 kilometres R...           Italy   \n",
       "3376  Cross Country Skiing Men's 4 x 10 kilometres R...          Norway   \n",
       "3377  Cross Country Skiing Men's 4 x 10 kilometres R...          Norway   \n",
       "3378  Cross Country Skiing Men's 4 x 10 kilometres R...          Norway   \n",
       "3379  Cross Country Skiing Men's 4 x 10 kilometres R...          Russia   \n",
       "3380  Cross Country Skiing Men's 4 x 10 kilometres R...          Russia   \n",
       "3381  Cross Country Skiing Men's 4 x 10 kilometres R...          Russia   \n",
       "3382  Cross Country Skiing Men's 4 x 10 kilometres R...          Sweden   \n",
       "3383  Cross Country Skiing Men's 4 x 10 kilometres R...          Sweden   \n",
       "3384  Cross Country Skiing Men's 4 x 10 kilometres R...          Sweden   \n",
       "3385  Cross Country Skiing Men's 4 x 10 kilometres R...     Switzerland   \n",
       "\n",
       "       Medal   0  \n",
       "3367  Bronze   8  \n",
       "3368  Bronze  24  \n",
       "3369    Gold  16  \n",
       "3370  Silver  12  \n",
       "3371  Bronze   4  \n",
       "3372  Silver   4  \n",
       "3373  Bronze   4  \n",
       "3374  Silver  12  \n",
       "3375    Gold   8  \n",
       "3376  Silver  30  \n",
       "3377    Gold  14  \n",
       "3378  Bronze   4  \n",
       "3379    Gold  12  \n",
       "3380  Bronze  12  \n",
       "3381  Silver  12  \n",
       "3382    Gold  24  \n",
       "3383  Bronze  16  \n",
       "3384  Silver   4  \n",
       "3385  Bronze   4  "
      ]
     },
     "execution_count": 144,
     "metadata": {},
     "output_type": "execute_result"
    }
   ],
   "source": [
    "df_relay_complete = df_relay[df_relay[\"Event\"] == \"Cross Country Skiing Men's 4 x 10 kilometres Relay\"]\n",
    "df_relay_complete"
   ]
  },
  {
   "cell_type": "code",
   "execution_count": 141,
   "metadata": {},
   "outputs": [
    {
     "data": {
      "text/html": [
       "<div>\n",
       "<style scoped>\n",
       "    .dataframe tbody tr th:only-of-type {\n",
       "        vertical-align: middle;\n",
       "    }\n",
       "\n",
       "    .dataframe tbody tr th {\n",
       "        vertical-align: top;\n",
       "    }\n",
       "\n",
       "    .dataframe thead th {\n",
       "        text-align: right;\n",
       "    }\n",
       "</style>\n",
       "<table border=\"1\" class=\"dataframe\">\n",
       "  <thead>\n",
       "    <tr style=\"text-align: right;\">\n",
       "      <th></th>\n",
       "      <th>Sport</th>\n",
       "      <th>region</th>\n",
       "      <th>Medal</th>\n",
       "      <th>0</th>\n",
       "    </tr>\n",
       "  </thead>\n",
       "  <tbody>\n",
       "    <tr>\n",
       "      <th>0</th>\n",
       "      <td>Aeronautics</td>\n",
       "      <td>Switzerland</td>\n",
       "      <td>Gold</td>\n",
       "      <td>1</td>\n",
       "    </tr>\n",
       "    <tr>\n",
       "      <th>1</th>\n",
       "      <td>Alpine Skiing</td>\n",
       "      <td>Australia</td>\n",
       "      <td>Bronze</td>\n",
       "      <td>1</td>\n",
       "    </tr>\n",
       "    <tr>\n",
       "      <th>2</th>\n",
       "      <td>Alpine Skiing</td>\n",
       "      <td>Austria</td>\n",
       "      <td>Bronze</td>\n",
       "      <td>41</td>\n",
       "    </tr>\n",
       "    <tr>\n",
       "      <th>3</th>\n",
       "      <td>Alpine Skiing</td>\n",
       "      <td>Austria</td>\n",
       "      <td>Silver</td>\n",
       "      <td>39</td>\n",
       "    </tr>\n",
       "    <tr>\n",
       "      <th>4</th>\n",
       "      <td>Alpine Skiing</td>\n",
       "      <td>Austria</td>\n",
       "      <td>Gold</td>\n",
       "      <td>34</td>\n",
       "    </tr>\n",
       "    <tr>\n",
       "      <th>...</th>\n",
       "      <td>...</td>\n",
       "      <td>...</td>\n",
       "      <td>...</td>\n",
       "      <td>...</td>\n",
       "    </tr>\n",
       "    <tr>\n",
       "      <th>2833</th>\n",
       "      <td>Wrestling</td>\n",
       "      <td>Ukraine</td>\n",
       "      <td>Bronze</td>\n",
       "      <td>6</td>\n",
       "    </tr>\n",
       "    <tr>\n",
       "      <th>2834</th>\n",
       "      <td>Wrestling</td>\n",
       "      <td>Ukraine</td>\n",
       "      <td>Gold</td>\n",
       "      <td>3</td>\n",
       "    </tr>\n",
       "    <tr>\n",
       "      <th>2835</th>\n",
       "      <td>Wrestling</td>\n",
       "      <td>Uzbekistan</td>\n",
       "      <td>Gold</td>\n",
       "      <td>4</td>\n",
       "    </tr>\n",
       "    <tr>\n",
       "      <th>2836</th>\n",
       "      <td>Wrestling</td>\n",
       "      <td>Uzbekistan</td>\n",
       "      <td>Bronze</td>\n",
       "      <td>3</td>\n",
       "    </tr>\n",
       "    <tr>\n",
       "      <th>2837</th>\n",
       "      <td>Wrestling</td>\n",
       "      <td>Uzbekistan</td>\n",
       "      <td>Silver</td>\n",
       "      <td>3</td>\n",
       "    </tr>\n",
       "  </tbody>\n",
       "</table>\n",
       "<p>2838 rows × 4 columns</p>\n",
       "</div>"
      ],
      "text/plain": [
       "              Sport       region   Medal   0\n",
       "0       Aeronautics  Switzerland    Gold   1\n",
       "1     Alpine Skiing    Australia  Bronze   1\n",
       "2     Alpine Skiing      Austria  Bronze  41\n",
       "3     Alpine Skiing      Austria  Silver  39\n",
       "4     Alpine Skiing      Austria    Gold  34\n",
       "...             ...          ...     ...  ..\n",
       "2833      Wrestling      Ukraine  Bronze   6\n",
       "2834      Wrestling      Ukraine    Gold   3\n",
       "2835      Wrestling   Uzbekistan    Gold   4\n",
       "2836      Wrestling   Uzbekistan  Bronze   3\n",
       "2837      Wrestling   Uzbekistan  Silver   3\n",
       "\n",
       "[2838 rows x 4 columns]"
      ]
     },
     "execution_count": 141,
     "metadata": {},
     "output_type": "execute_result"
    }
   ],
   "source": [
    "df_relay = df.groupby([\"Sport\", \"region\"])[[\"Medal\"]].value_counts().to_frame().reset_index()\n",
    "df_relay"
   ]
  },
  {
   "cell_type": "code",
   "execution_count": null,
   "metadata": {},
   "outputs": [],
   "source": [
    "df_relay2 = df_relay[df_relay[\"Sport\"] == \"Cross Country Skiing\"]\n",
    "df_relay2.head()"
   ]
  },
  {
   "cell_type": "code",
   "execution_count": 208,
   "metadata": {},
   "outputs": [
    {
     "data": {
      "application/vnd.plotly.v1+json": {
       "config": {
        "plotlyServerURL": "https://plot.ly"
       },
       "data": [
        {
         "alignmentgroup": "True",
         "hovertemplate": "Medal=%{y}<br>region=%{x}<extra></extra>",
         "legendgroup": "Gold",
         "marker": {
          "color": "#636efa",
          "pattern": {
           "shape": ""
          }
         },
         "name": "Gold",
         "offsetgroup": "Gold",
         "orientation": "v",
         "showlegend": true,
         "textposition": "auto",
         "type": "bar",
         "x": [
          "Finland",
          "Italy",
          "Norway",
          "Norway",
          "Russia",
          "Sweden",
          "Russia",
          "Italy",
          "Norway",
          "Sweden",
          "Finland",
          "Sweden",
          "Sweden",
          "Finland",
          "Sweden",
          "Finland",
          "Norway",
          "Sweden",
          "Russia"
         ],
         "xaxis": "x",
         "y": [
          "Gold",
          "Gold",
          "Gold",
          "Gold",
          "Gold",
          "Gold",
          "Gold",
          "Gold",
          "Gold",
          "Gold",
          "Gold",
          "Gold",
          "Gold",
          "Gold",
          "Gold",
          "Gold",
          "Gold",
          "Gold",
          "Gold"
         ],
         "yaxis": "y"
        },
        {
         "alignmentgroup": "True",
         "hovertemplate": "Medal=%{y}<br>region=%{x}<extra></extra>",
         "legendgroup": "Silver",
         "marker": {
          "color": "#EF553B",
          "pattern": {
           "shape": ""
          }
         },
         "name": "Silver",
         "offsetgroup": "Silver",
         "orientation": "v",
         "showlegend": true,
         "textposition": "auto",
         "type": "bar",
         "x": [
          "Italy",
          "Italy",
          "Norway",
          "Sweden",
          "Germany",
          "Norway",
          "Russia",
          "Norway",
          "Russia",
          "Norway",
          "Norway",
          "Norway",
          "Norway",
          "Russia",
          "Italy",
          "Norway",
          "Finland",
          "Finland",
          "Finland"
         ],
         "xaxis": "x",
         "y": [
          "Silver",
          "Silver",
          "Silver",
          "Silver",
          "Silver",
          "Silver",
          "Silver",
          "Silver",
          "Silver",
          "Silver",
          "Silver",
          "Silver",
          "Silver",
          "Silver",
          "Silver",
          "Silver",
          "Silver",
          "Silver",
          "Silver"
         ],
         "yaxis": "y"
        },
        {
         "alignmentgroup": "True",
         "hovertemplate": "Medal=%{y}<br>region=%{x}<extra></extra>",
         "legendgroup": "Bronze",
         "marker": {
          "color": "#00cc96",
          "pattern": {
           "shape": ""
          }
         },
         "name": "Bronze",
         "offsetgroup": "Bronze",
         "orientation": "v",
         "showlegend": true,
         "textposition": "auto",
         "type": "bar",
         "x": [
          "Sweden",
          "Germany",
          "Russia",
          "Czech Republic",
          "Russia",
          "Czech Republic",
          "Sweden",
          "France",
          "Norway",
          "Sweden",
          "Switzerland",
          "Finland",
          "Finland",
          "Finland",
          "Sweden",
          "Finland",
          "Finland",
          "Russia",
          "Finland"
         ],
         "xaxis": "x",
         "y": [
          "Bronze",
          "Bronze",
          "Bronze",
          "Bronze",
          "Bronze",
          "Bronze",
          "Bronze",
          "Bronze",
          "Bronze",
          "Bronze",
          "Bronze",
          "Bronze",
          "Bronze",
          "Bronze",
          "Bronze",
          "Bronze",
          "Bronze",
          "Bronze",
          "Bronze"
         ],
         "yaxis": "y"
        }
       ],
       "layout": {
        "barmode": "relative",
        "legend": {
         "title": {
          "text": "Medal"
         },
         "tracegroupgap": 0
        },
        "template": {
         "data": {
          "bar": [
           {
            "error_x": {
             "color": "#2a3f5f"
            },
            "error_y": {
             "color": "#2a3f5f"
            },
            "marker": {
             "line": {
              "color": "#E5ECF6",
              "width": 0.5
             },
             "pattern": {
              "fillmode": "overlay",
              "size": 10,
              "solidity": 0.2
             }
            },
            "type": "bar"
           }
          ],
          "barpolar": [
           {
            "marker": {
             "line": {
              "color": "#E5ECF6",
              "width": 0.5
             },
             "pattern": {
              "fillmode": "overlay",
              "size": 10,
              "solidity": 0.2
             }
            },
            "type": "barpolar"
           }
          ],
          "carpet": [
           {
            "aaxis": {
             "endlinecolor": "#2a3f5f",
             "gridcolor": "white",
             "linecolor": "white",
             "minorgridcolor": "white",
             "startlinecolor": "#2a3f5f"
            },
            "baxis": {
             "endlinecolor": "#2a3f5f",
             "gridcolor": "white",
             "linecolor": "white",
             "minorgridcolor": "white",
             "startlinecolor": "#2a3f5f"
            },
            "type": "carpet"
           }
          ],
          "choropleth": [
           {
            "colorbar": {
             "outlinewidth": 0,
             "ticks": ""
            },
            "type": "choropleth"
           }
          ],
          "contour": [
           {
            "colorbar": {
             "outlinewidth": 0,
             "ticks": ""
            },
            "colorscale": [
             [
              0,
              "#0d0887"
             ],
             [
              0.1111111111111111,
              "#46039f"
             ],
             [
              0.2222222222222222,
              "#7201a8"
             ],
             [
              0.3333333333333333,
              "#9c179e"
             ],
             [
              0.4444444444444444,
              "#bd3786"
             ],
             [
              0.5555555555555556,
              "#d8576b"
             ],
             [
              0.6666666666666666,
              "#ed7953"
             ],
             [
              0.7777777777777778,
              "#fb9f3a"
             ],
             [
              0.8888888888888888,
              "#fdca26"
             ],
             [
              1,
              "#f0f921"
             ]
            ],
            "type": "contour"
           }
          ],
          "contourcarpet": [
           {
            "colorbar": {
             "outlinewidth": 0,
             "ticks": ""
            },
            "type": "contourcarpet"
           }
          ],
          "heatmap": [
           {
            "colorbar": {
             "outlinewidth": 0,
             "ticks": ""
            },
            "colorscale": [
             [
              0,
              "#0d0887"
             ],
             [
              0.1111111111111111,
              "#46039f"
             ],
             [
              0.2222222222222222,
              "#7201a8"
             ],
             [
              0.3333333333333333,
              "#9c179e"
             ],
             [
              0.4444444444444444,
              "#bd3786"
             ],
             [
              0.5555555555555556,
              "#d8576b"
             ],
             [
              0.6666666666666666,
              "#ed7953"
             ],
             [
              0.7777777777777778,
              "#fb9f3a"
             ],
             [
              0.8888888888888888,
              "#fdca26"
             ],
             [
              1,
              "#f0f921"
             ]
            ],
            "type": "heatmap"
           }
          ],
          "heatmapgl": [
           {
            "colorbar": {
             "outlinewidth": 0,
             "ticks": ""
            },
            "colorscale": [
             [
              0,
              "#0d0887"
             ],
             [
              0.1111111111111111,
              "#46039f"
             ],
             [
              0.2222222222222222,
              "#7201a8"
             ],
             [
              0.3333333333333333,
              "#9c179e"
             ],
             [
              0.4444444444444444,
              "#bd3786"
             ],
             [
              0.5555555555555556,
              "#d8576b"
             ],
             [
              0.6666666666666666,
              "#ed7953"
             ],
             [
              0.7777777777777778,
              "#fb9f3a"
             ],
             [
              0.8888888888888888,
              "#fdca26"
             ],
             [
              1,
              "#f0f921"
             ]
            ],
            "type": "heatmapgl"
           }
          ],
          "histogram": [
           {
            "marker": {
             "pattern": {
              "fillmode": "overlay",
              "size": 10,
              "solidity": 0.2
             }
            },
            "type": "histogram"
           }
          ],
          "histogram2d": [
           {
            "colorbar": {
             "outlinewidth": 0,
             "ticks": ""
            },
            "colorscale": [
             [
              0,
              "#0d0887"
             ],
             [
              0.1111111111111111,
              "#46039f"
             ],
             [
              0.2222222222222222,
              "#7201a8"
             ],
             [
              0.3333333333333333,
              "#9c179e"
             ],
             [
              0.4444444444444444,
              "#bd3786"
             ],
             [
              0.5555555555555556,
              "#d8576b"
             ],
             [
              0.6666666666666666,
              "#ed7953"
             ],
             [
              0.7777777777777778,
              "#fb9f3a"
             ],
             [
              0.8888888888888888,
              "#fdca26"
             ],
             [
              1,
              "#f0f921"
             ]
            ],
            "type": "histogram2d"
           }
          ],
          "histogram2dcontour": [
           {
            "colorbar": {
             "outlinewidth": 0,
             "ticks": ""
            },
            "colorscale": [
             [
              0,
              "#0d0887"
             ],
             [
              0.1111111111111111,
              "#46039f"
             ],
             [
              0.2222222222222222,
              "#7201a8"
             ],
             [
              0.3333333333333333,
              "#9c179e"
             ],
             [
              0.4444444444444444,
              "#bd3786"
             ],
             [
              0.5555555555555556,
              "#d8576b"
             ],
             [
              0.6666666666666666,
              "#ed7953"
             ],
             [
              0.7777777777777778,
              "#fb9f3a"
             ],
             [
              0.8888888888888888,
              "#fdca26"
             ],
             [
              1,
              "#f0f921"
             ]
            ],
            "type": "histogram2dcontour"
           }
          ],
          "mesh3d": [
           {
            "colorbar": {
             "outlinewidth": 0,
             "ticks": ""
            },
            "type": "mesh3d"
           }
          ],
          "parcoords": [
           {
            "line": {
             "colorbar": {
              "outlinewidth": 0,
              "ticks": ""
             }
            },
            "type": "parcoords"
           }
          ],
          "pie": [
           {
            "automargin": true,
            "type": "pie"
           }
          ],
          "scatter": [
           {
            "fillpattern": {
             "fillmode": "overlay",
             "size": 10,
             "solidity": 0.2
            },
            "type": "scatter"
           }
          ],
          "scatter3d": [
           {
            "line": {
             "colorbar": {
              "outlinewidth": 0,
              "ticks": ""
             }
            },
            "marker": {
             "colorbar": {
              "outlinewidth": 0,
              "ticks": ""
             }
            },
            "type": "scatter3d"
           }
          ],
          "scattercarpet": [
           {
            "marker": {
             "colorbar": {
              "outlinewidth": 0,
              "ticks": ""
             }
            },
            "type": "scattercarpet"
           }
          ],
          "scattergeo": [
           {
            "marker": {
             "colorbar": {
              "outlinewidth": 0,
              "ticks": ""
             }
            },
            "type": "scattergeo"
           }
          ],
          "scattergl": [
           {
            "marker": {
             "colorbar": {
              "outlinewidth": 0,
              "ticks": ""
             }
            },
            "type": "scattergl"
           }
          ],
          "scattermapbox": [
           {
            "marker": {
             "colorbar": {
              "outlinewidth": 0,
              "ticks": ""
             }
            },
            "type": "scattermapbox"
           }
          ],
          "scatterpolar": [
           {
            "marker": {
             "colorbar": {
              "outlinewidth": 0,
              "ticks": ""
             }
            },
            "type": "scatterpolar"
           }
          ],
          "scatterpolargl": [
           {
            "marker": {
             "colorbar": {
              "outlinewidth": 0,
              "ticks": ""
             }
            },
            "type": "scatterpolargl"
           }
          ],
          "scatterternary": [
           {
            "marker": {
             "colorbar": {
              "outlinewidth": 0,
              "ticks": ""
             }
            },
            "type": "scatterternary"
           }
          ],
          "surface": [
           {
            "colorbar": {
             "outlinewidth": 0,
             "ticks": ""
            },
            "colorscale": [
             [
              0,
              "#0d0887"
             ],
             [
              0.1111111111111111,
              "#46039f"
             ],
             [
              0.2222222222222222,
              "#7201a8"
             ],
             [
              0.3333333333333333,
              "#9c179e"
             ],
             [
              0.4444444444444444,
              "#bd3786"
             ],
             [
              0.5555555555555556,
              "#d8576b"
             ],
             [
              0.6666666666666666,
              "#ed7953"
             ],
             [
              0.7777777777777778,
              "#fb9f3a"
             ],
             [
              0.8888888888888888,
              "#fdca26"
             ],
             [
              1,
              "#f0f921"
             ]
            ],
            "type": "surface"
           }
          ],
          "table": [
           {
            "cells": {
             "fill": {
              "color": "#EBF0F8"
             },
             "line": {
              "color": "white"
             }
            },
            "header": {
             "fill": {
              "color": "#C8D4E3"
             },
             "line": {
              "color": "white"
             }
            },
            "type": "table"
           }
          ]
         },
         "layout": {
          "annotationdefaults": {
           "arrowcolor": "#2a3f5f",
           "arrowhead": 0,
           "arrowwidth": 1
          },
          "autotypenumbers": "strict",
          "coloraxis": {
           "colorbar": {
            "outlinewidth": 0,
            "ticks": ""
           }
          },
          "colorscale": {
           "diverging": [
            [
             0,
             "#8e0152"
            ],
            [
             0.1,
             "#c51b7d"
            ],
            [
             0.2,
             "#de77ae"
            ],
            [
             0.3,
             "#f1b6da"
            ],
            [
             0.4,
             "#fde0ef"
            ],
            [
             0.5,
             "#f7f7f7"
            ],
            [
             0.6,
             "#e6f5d0"
            ],
            [
             0.7,
             "#b8e186"
            ],
            [
             0.8,
             "#7fbc41"
            ],
            [
             0.9,
             "#4d9221"
            ],
            [
             1,
             "#276419"
            ]
           ],
           "sequential": [
            [
             0,
             "#0d0887"
            ],
            [
             0.1111111111111111,
             "#46039f"
            ],
            [
             0.2222222222222222,
             "#7201a8"
            ],
            [
             0.3333333333333333,
             "#9c179e"
            ],
            [
             0.4444444444444444,
             "#bd3786"
            ],
            [
             0.5555555555555556,
             "#d8576b"
            ],
            [
             0.6666666666666666,
             "#ed7953"
            ],
            [
             0.7777777777777778,
             "#fb9f3a"
            ],
            [
             0.8888888888888888,
             "#fdca26"
            ],
            [
             1,
             "#f0f921"
            ]
           ],
           "sequentialminus": [
            [
             0,
             "#0d0887"
            ],
            [
             0.1111111111111111,
             "#46039f"
            ],
            [
             0.2222222222222222,
             "#7201a8"
            ],
            [
             0.3333333333333333,
             "#9c179e"
            ],
            [
             0.4444444444444444,
             "#bd3786"
            ],
            [
             0.5555555555555556,
             "#d8576b"
            ],
            [
             0.6666666666666666,
             "#ed7953"
            ],
            [
             0.7777777777777778,
             "#fb9f3a"
            ],
            [
             0.8888888888888888,
             "#fdca26"
            ],
            [
             1,
             "#f0f921"
            ]
           ]
          },
          "colorway": [
           "#636efa",
           "#EF553B",
           "#00cc96",
           "#ab63fa",
           "#FFA15A",
           "#19d3f3",
           "#FF6692",
           "#B6E880",
           "#FF97FF",
           "#FECB52"
          ],
          "font": {
           "color": "#2a3f5f"
          },
          "geo": {
           "bgcolor": "white",
           "lakecolor": "white",
           "landcolor": "#E5ECF6",
           "showlakes": true,
           "showland": true,
           "subunitcolor": "white"
          },
          "hoverlabel": {
           "align": "left"
          },
          "hovermode": "closest",
          "mapbox": {
           "style": "light"
          },
          "paper_bgcolor": "white",
          "plot_bgcolor": "#E5ECF6",
          "polar": {
           "angularaxis": {
            "gridcolor": "white",
            "linecolor": "white",
            "ticks": ""
           },
           "bgcolor": "#E5ECF6",
           "radialaxis": {
            "gridcolor": "white",
            "linecolor": "white",
            "ticks": ""
           }
          },
          "scene": {
           "xaxis": {
            "backgroundcolor": "#E5ECF6",
            "gridcolor": "white",
            "gridwidth": 2,
            "linecolor": "white",
            "showbackground": true,
            "ticks": "",
            "zerolinecolor": "white"
           },
           "yaxis": {
            "backgroundcolor": "#E5ECF6",
            "gridcolor": "white",
            "gridwidth": 2,
            "linecolor": "white",
            "showbackground": true,
            "ticks": "",
            "zerolinecolor": "white"
           },
           "zaxis": {
            "backgroundcolor": "#E5ECF6",
            "gridcolor": "white",
            "gridwidth": 2,
            "linecolor": "white",
            "showbackground": true,
            "ticks": "",
            "zerolinecolor": "white"
           }
          },
          "shapedefaults": {
           "line": {
            "color": "#2a3f5f"
           }
          },
          "ternary": {
           "aaxis": {
            "gridcolor": "white",
            "linecolor": "white",
            "ticks": ""
           },
           "baxis": {
            "gridcolor": "white",
            "linecolor": "white",
            "ticks": ""
           },
           "bgcolor": "#E5ECF6",
           "caxis": {
            "gridcolor": "white",
            "linecolor": "white",
            "ticks": ""
           }
          },
          "title": {
           "x": 0.05
          },
          "xaxis": {
           "automargin": true,
           "gridcolor": "white",
           "linecolor": "white",
           "ticks": "",
           "title": {
            "standoff": 15
           },
           "zerolinecolor": "white",
           "zerolinewidth": 2
          },
          "yaxis": {
           "automargin": true,
           "gridcolor": "white",
           "linecolor": "white",
           "ticks": "",
           "title": {
            "standoff": 15
           },
           "zerolinecolor": "white",
           "zerolinewidth": 2
          }
         }
        },
        "title": {
         "text": "blablabla"
        },
        "xaxis": {
         "anchor": "y",
         "domain": [
          0,
          1
         ],
         "title": {
          "text": "region"
         }
        },
        "yaxis": {
         "anchor": "x",
         "categoryarray": [
          "Bronze",
          "Silver",
          "Gold"
         ],
         "categoryorder": "array",
         "domain": [
          0,
          1
         ],
         "title": {
          "text": "Medal"
         }
        }
       }
      }
     },
     "metadata": {},
     "output_type": "display_data"
    }
   ],
   "source": [
    "import plotly.express as px\n",
    "\n",
    "fig = px.bar(\n",
    "    relay,\n",
    "    x=\"region\",\n",
    "    y=\"Medal\",\n",
    "    color=\"Medal\",\n",
    "    labels={\"Sport\": \"Sport\", \"0\": \"Number of medals\"},\n",
    "    title=\"blablabla\",\n",
    ")\n",
    "fig.show()\n"
   ]
  },
  {
   "cell_type": "markdown",
   "metadata": {},
   "source": [
    "___\n",
    "### NEW TEST\n",
    "\n",
    "* Going to try to plot induvidual event, rather than team-event, like:\n",
    "Cross Country Skiing Men's 10 kilometres\n",
    "\n",
    "* Skipping Relay for the time being, since I can't get it to show medals properly"
   ]
  },
  {
   "cell_type": "code",
   "execution_count": 175,
   "metadata": {},
   "outputs": [
    {
     "data": {
      "text/html": [
       "<div>\n",
       "<style scoped>\n",
       "    .dataframe tbody tr th:only-of-type {\n",
       "        vertical-align: middle;\n",
       "    }\n",
       "\n",
       "    .dataframe tbody tr th {\n",
       "        vertical-align: top;\n",
       "    }\n",
       "\n",
       "    .dataframe thead th {\n",
       "        text-align: right;\n",
       "    }\n",
       "</style>\n",
       "<table border=\"1\" class=\"dataframe\">\n",
       "  <thead>\n",
       "    <tr style=\"text-align: right;\">\n",
       "      <th></th>\n",
       "      <th>ID</th>\n",
       "      <th>Name</th>\n",
       "      <th>Sex</th>\n",
       "      <th>Age</th>\n",
       "      <th>Height</th>\n",
       "      <th>Weight</th>\n",
       "      <th>Team</th>\n",
       "      <th>NOC</th>\n",
       "      <th>Games</th>\n",
       "      <th>Year</th>\n",
       "      <th>Season</th>\n",
       "      <th>City</th>\n",
       "      <th>Sport</th>\n",
       "      <th>Event</th>\n",
       "      <th>Medal</th>\n",
       "      <th>region</th>\n",
       "      <th>notes</th>\n",
       "    </tr>\n",
       "  </thead>\n",
       "  <tbody>\n",
       "    <tr>\n",
       "      <th>10</th>\n",
       "      <td>6</td>\n",
       "      <td>Per Knut Aaland</td>\n",
       "      <td>M</td>\n",
       "      <td>31.0</td>\n",
       "      <td>188.0</td>\n",
       "      <td>75.0</td>\n",
       "      <td>United States</td>\n",
       "      <td>USA</td>\n",
       "      <td>1992 Winter</td>\n",
       "      <td>1992</td>\n",
       "      <td>Winter</td>\n",
       "      <td>Albertville</td>\n",
       "      <td>Cross Country Skiing</td>\n",
       "      <td>Cross Country Skiing Men's 10 kilometres</td>\n",
       "      <td>NaN</td>\n",
       "      <td>USA</td>\n",
       "      <td>NaN</td>\n",
       "    </tr>\n",
       "  </tbody>\n",
       "</table>\n",
       "</div>"
      ],
      "text/plain": [
       "    ID             Name Sex   Age  Height  Weight           Team  NOC  \\\n",
       "10   6  Per Knut Aaland   M  31.0   188.0    75.0  United States  USA   \n",
       "\n",
       "          Games  Year  Season         City                 Sport  \\\n",
       "10  1992 Winter  1992  Winter  Albertville  Cross Country Skiing   \n",
       "\n",
       "                                       Event Medal region notes  \n",
       "10  Cross Country Skiing Men's 10 kilometres   NaN    USA   NaN  "
      ]
     },
     "execution_count": 175,
     "metadata": {},
     "output_type": "execute_result"
    }
   ],
   "source": [
    "men_10_kilometers = df[df[\"Event\"] == \"Cross Country Skiing Men's 10 kilometres\"]\n",
    "men_10_kilometers.head(1)"
   ]
  },
  {
   "cell_type": "code",
   "execution_count": 176,
   "metadata": {},
   "outputs": [
    {
     "data": {
      "text/html": [
       "<div>\n",
       "<style scoped>\n",
       "    .dataframe tbody tr th:only-of-type {\n",
       "        vertical-align: middle;\n",
       "    }\n",
       "\n",
       "    .dataframe tbody tr th {\n",
       "        vertical-align: top;\n",
       "    }\n",
       "\n",
       "    .dataframe thead th {\n",
       "        text-align: right;\n",
       "    }\n",
       "</style>\n",
       "<table border=\"1\" class=\"dataframe\">\n",
       "  <thead>\n",
       "    <tr style=\"text-align: right;\">\n",
       "      <th></th>\n",
       "      <th>index</th>\n",
       "      <th>Medal</th>\n",
       "    </tr>\n",
       "  </thead>\n",
       "  <tbody>\n",
       "    <tr>\n",
       "      <th>0</th>\n",
       "      <td>USA</td>\n",
       "      <td>14</td>\n",
       "    </tr>\n",
       "    <tr>\n",
       "      <th>1</th>\n",
       "      <td>Czech Republic</td>\n",
       "      <td>12</td>\n",
       "    </tr>\n",
       "    <tr>\n",
       "      <th>2</th>\n",
       "      <td>Italy</td>\n",
       "      <td>12</td>\n",
       "    </tr>\n",
       "    <tr>\n",
       "      <th>3</th>\n",
       "      <td>Finland</td>\n",
       "      <td>12</td>\n",
       "    </tr>\n",
       "    <tr>\n",
       "      <th>4</th>\n",
       "      <td>Estonia</td>\n",
       "      <td>12</td>\n",
       "    </tr>\n",
       "  </tbody>\n",
       "</table>\n",
       "</div>"
      ],
      "text/plain": [
       "            index  Medal\n",
       "0             USA     14\n",
       "1  Czech Republic     12\n",
       "2           Italy     12\n",
       "3         Finland     12\n",
       "4         Estonia     12"
      ]
     },
     "execution_count": 176,
     "metadata": {},
     "output_type": "execute_result"
    }
   ],
   "source": [
    "men_10_kilometers.region.value_counts().reset_index(name='Medal').head()"
   ]
  },
  {
   "cell_type": "code",
   "execution_count": 177,
   "metadata": {},
   "outputs": [
    {
     "data": {
      "text/html": [
       "<div>\n",
       "<style scoped>\n",
       "    .dataframe tbody tr th:only-of-type {\n",
       "        vertical-align: middle;\n",
       "    }\n",
       "\n",
       "    .dataframe tbody tr th {\n",
       "        vertical-align: top;\n",
       "    }\n",
       "\n",
       "    .dataframe thead th {\n",
       "        text-align: right;\n",
       "    }\n",
       "</style>\n",
       "<table border=\"1\" class=\"dataframe\">\n",
       "  <thead>\n",
       "    <tr style=\"text-align: right;\">\n",
       "      <th></th>\n",
       "      <th>Event</th>\n",
       "      <th>region</th>\n",
       "      <th>Medal</th>\n",
       "      <th>0</th>\n",
       "    </tr>\n",
       "  </thead>\n",
       "  <tbody>\n",
       "    <tr>\n",
       "      <th>0</th>\n",
       "      <td>Aeronautics Mixed Aeronautics</td>\n",
       "      <td>Switzerland</td>\n",
       "      <td>Gold</td>\n",
       "      <td>1</td>\n",
       "    </tr>\n",
       "    <tr>\n",
       "      <th>1</th>\n",
       "      <td>Alpine Skiing Men's Combined</td>\n",
       "      <td>Austria</td>\n",
       "      <td>Bronze</td>\n",
       "      <td>3</td>\n",
       "    </tr>\n",
       "    <tr>\n",
       "      <th>2</th>\n",
       "      <td>Alpine Skiing Men's Combined</td>\n",
       "      <td>Austria</td>\n",
       "      <td>Gold</td>\n",
       "      <td>2</td>\n",
       "    </tr>\n",
       "    <tr>\n",
       "      <th>3</th>\n",
       "      <td>Alpine Skiing Men's Combined</td>\n",
       "      <td>Austria</td>\n",
       "      <td>Silver</td>\n",
       "      <td>1</td>\n",
       "    </tr>\n",
       "    <tr>\n",
       "      <th>4</th>\n",
       "      <td>Alpine Skiing Men's Combined</td>\n",
       "      <td>Croatia</td>\n",
       "      <td>Silver</td>\n",
       "      <td>3</td>\n",
       "    </tr>\n",
       "    <tr>\n",
       "      <th>...</th>\n",
       "      <td>...</td>\n",
       "      <td>...</td>\n",
       "      <td>...</td>\n",
       "      <td>...</td>\n",
       "    </tr>\n",
       "    <tr>\n",
       "      <th>10593</th>\n",
       "      <td>Wrestling Women's Middleweight, Freestyle</td>\n",
       "      <td>Poland</td>\n",
       "      <td>Bronze</td>\n",
       "      <td>1</td>\n",
       "    </tr>\n",
       "    <tr>\n",
       "      <th>10594</th>\n",
       "      <td>Wrestling Women's Middleweight, Freestyle</td>\n",
       "      <td>Russia</td>\n",
       "      <td>Silver</td>\n",
       "      <td>1</td>\n",
       "    </tr>\n",
       "    <tr>\n",
       "      <th>10595</th>\n",
       "      <td>Wrestling Women's Middleweight, Freestyle</td>\n",
       "      <td>Russia</td>\n",
       "      <td>Bronze</td>\n",
       "      <td>1</td>\n",
       "    </tr>\n",
       "    <tr>\n",
       "      <th>10596</th>\n",
       "      <td>Wrestling Women's Middleweight, Freestyle</td>\n",
       "      <td>USA</td>\n",
       "      <td>Bronze</td>\n",
       "      <td>1</td>\n",
       "    </tr>\n",
       "    <tr>\n",
       "      <th>10597</th>\n",
       "      <td>Wrestling Women's Middleweight, Freestyle</td>\n",
       "      <td>USA</td>\n",
       "      <td>Silver</td>\n",
       "      <td>1</td>\n",
       "    </tr>\n",
       "  </tbody>\n",
       "</table>\n",
       "<p>10598 rows × 4 columns</p>\n",
       "</div>"
      ],
      "text/plain": [
       "                                           Event       region   Medal  0\n",
       "0                  Aeronautics Mixed Aeronautics  Switzerland    Gold  1\n",
       "1                   Alpine Skiing Men's Combined      Austria  Bronze  3\n",
       "2                   Alpine Skiing Men's Combined      Austria    Gold  2\n",
       "3                   Alpine Skiing Men's Combined      Austria  Silver  1\n",
       "4                   Alpine Skiing Men's Combined      Croatia  Silver  3\n",
       "...                                          ...          ...     ... ..\n",
       "10593  Wrestling Women's Middleweight, Freestyle       Poland  Bronze  1\n",
       "10594  Wrestling Women's Middleweight, Freestyle       Russia  Silver  1\n",
       "10595  Wrestling Women's Middleweight, Freestyle       Russia  Bronze  1\n",
       "10596  Wrestling Women's Middleweight, Freestyle          USA  Bronze  1\n",
       "10597  Wrestling Women's Middleweight, Freestyle          USA  Silver  1\n",
       "\n",
       "[10598 rows x 4 columns]"
      ]
     },
     "execution_count": 177,
     "metadata": {},
     "output_type": "execute_result"
    }
   ],
   "source": [
    "df_10 = df.groupby([\"Event\", \"region\"])[[\"Medal\"]].value_counts().to_frame().reset_index()\n",
    "df_10"
   ]
  },
  {
   "cell_type": "code",
   "execution_count": 184,
   "metadata": {},
   "outputs": [
    {
     "data": {
      "text/html": [
       "<div>\n",
       "<style scoped>\n",
       "    .dataframe tbody tr th:only-of-type {\n",
       "        vertical-align: middle;\n",
       "    }\n",
       "\n",
       "    .dataframe tbody tr th {\n",
       "        vertical-align: top;\n",
       "    }\n",
       "\n",
       "    .dataframe thead th {\n",
       "        text-align: right;\n",
       "    }\n",
       "</style>\n",
       "<table border=\"1\" class=\"dataframe\">\n",
       "  <thead>\n",
       "    <tr style=\"text-align: right;\">\n",
       "      <th></th>\n",
       "      <th>Event</th>\n",
       "      <th>region</th>\n",
       "      <th>Medal</th>\n",
       "      <th>0</th>\n",
       "    </tr>\n",
       "  </thead>\n",
       "  <tbody>\n",
       "    <tr>\n",
       "      <th>3314</th>\n",
       "      <td>Cross Country Skiing Men's 15 kilometres</td>\n",
       "      <td>Czech Republic</td>\n",
       "      <td>Silver</td>\n",
       "      <td>1</td>\n",
       "    </tr>\n",
       "    <tr>\n",
       "      <th>3315</th>\n",
       "      <td>Cross Country Skiing Men's 15 kilometres</td>\n",
       "      <td>Czech Republic</td>\n",
       "      <td>Bronze</td>\n",
       "      <td>1</td>\n",
       "    </tr>\n",
       "    <tr>\n",
       "      <th>3316</th>\n",
       "      <td>Cross Country Skiing Men's 15 kilometres</td>\n",
       "      <td>Estonia</td>\n",
       "      <td>Gold</td>\n",
       "      <td>2</td>\n",
       "    </tr>\n",
       "    <tr>\n",
       "      <th>3317</th>\n",
       "      <td>Cross Country Skiing Men's 15 kilometres</td>\n",
       "      <td>Estonia</td>\n",
       "      <td>Bronze</td>\n",
       "      <td>1</td>\n",
       "    </tr>\n",
       "    <tr>\n",
       "      <th>3318</th>\n",
       "      <td>Cross Country Skiing Men's 15 kilometres</td>\n",
       "      <td>Finland</td>\n",
       "      <td>Silver</td>\n",
       "      <td>3</td>\n",
       "    </tr>\n",
       "  </tbody>\n",
       "</table>\n",
       "</div>"
      ],
      "text/plain": [
       "                                         Event          region   Medal  0\n",
       "3314  Cross Country Skiing Men's 15 kilometres  Czech Republic  Silver  1\n",
       "3315  Cross Country Skiing Men's 15 kilometres  Czech Republic  Bronze  1\n",
       "3316  Cross Country Skiing Men's 15 kilometres         Estonia    Gold  2\n",
       "3317  Cross Country Skiing Men's 15 kilometres         Estonia  Bronze  1\n",
       "3318  Cross Country Skiing Men's 15 kilometres         Finland  Silver  3"
      ]
     },
     "execution_count": 184,
     "metadata": {},
     "output_type": "execute_result"
    }
   ],
   "source": [
    "men_10_kilometers_new_df = df_10[df_10[\"Event\"] == \"Cross Country Skiing Men's 15 kilometres\"]\n",
    "men_10_kilometers_new_df.head()"
   ]
  },
  {
   "cell_type": "code",
   "execution_count": 185,
   "metadata": {},
   "outputs": [
    {
     "data": {
      "application/vnd.plotly.v1+json": {
       "config": {
        "plotlyServerURL": "https://plot.ly"
       },
       "data": [
        {
         "alignmentgroup": "True",
         "hovertemplate": "Medal=Silver<br>region=%{x}<br>0=%{y}<extra></extra>",
         "legendgroup": "Silver",
         "marker": {
          "color": "#636efa",
          "pattern": {
           "shape": ""
          }
         },
         "name": "Silver",
         "offsetgroup": "Silver",
         "orientation": "v",
         "showlegend": true,
         "textposition": "auto",
         "type": "bar",
         "x": [
          "Czech Republic",
          "Finland",
          "Italy",
          "Norway",
          "Russia",
          "Sweden"
         ],
         "xaxis": "x",
         "y": [
          1,
          3,
          1,
          3,
          2,
          3
         ],
         "yaxis": "y"
        },
        {
         "alignmentgroup": "True",
         "hovertemplate": "Medal=Bronze<br>region=%{x}<br>0=%{y}<extra></extra>",
         "legendgroup": "Bronze",
         "marker": {
          "color": "#EF553B",
          "pattern": {
           "shape": ""
          }
         },
         "name": "Bronze",
         "offsetgroup": "Bronze",
         "orientation": "v",
         "showlegend": true,
         "textposition": "auto",
         "type": "bar",
         "x": [
          "Czech Republic",
          "Estonia",
          "Finland",
          "Germany",
          "Norway",
          "Russia",
          "Sweden"
         ],
         "xaxis": "x",
         "y": [
          1,
          1,
          3,
          1,
          2,
          2,
          3
         ],
         "yaxis": "y"
        },
        {
         "alignmentgroup": "True",
         "hovertemplate": "Medal=Gold<br>region=%{x}<br>0=%{y}<extra></extra>",
         "legendgroup": "Gold",
         "marker": {
          "color": "#00cc96",
          "pattern": {
           "shape": ""
          }
         },
         "name": "Gold",
         "offsetgroup": "Gold",
         "orientation": "v",
         "showlegend": true,
         "textposition": "auto",
         "type": "bar",
         "x": [
          "Estonia",
          "Finland",
          "Norway",
          "Russia",
          "Sweden",
          "Switzerland"
         ],
         "xaxis": "x",
         "y": [
          2,
          1,
          3,
          2,
          3,
          2
         ],
         "yaxis": "y"
        }
       ],
       "layout": {
        "barmode": "relative",
        "legend": {
         "title": {
          "text": "Medal"
         },
         "tracegroupgap": 0
        },
        "template": {
         "data": {
          "bar": [
           {
            "error_x": {
             "color": "#2a3f5f"
            },
            "error_y": {
             "color": "#2a3f5f"
            },
            "marker": {
             "line": {
              "color": "#E5ECF6",
              "width": 0.5
             },
             "pattern": {
              "fillmode": "overlay",
              "size": 10,
              "solidity": 0.2
             }
            },
            "type": "bar"
           }
          ],
          "barpolar": [
           {
            "marker": {
             "line": {
              "color": "#E5ECF6",
              "width": 0.5
             },
             "pattern": {
              "fillmode": "overlay",
              "size": 10,
              "solidity": 0.2
             }
            },
            "type": "barpolar"
           }
          ],
          "carpet": [
           {
            "aaxis": {
             "endlinecolor": "#2a3f5f",
             "gridcolor": "white",
             "linecolor": "white",
             "minorgridcolor": "white",
             "startlinecolor": "#2a3f5f"
            },
            "baxis": {
             "endlinecolor": "#2a3f5f",
             "gridcolor": "white",
             "linecolor": "white",
             "minorgridcolor": "white",
             "startlinecolor": "#2a3f5f"
            },
            "type": "carpet"
           }
          ],
          "choropleth": [
           {
            "colorbar": {
             "outlinewidth": 0,
             "ticks": ""
            },
            "type": "choropleth"
           }
          ],
          "contour": [
           {
            "colorbar": {
             "outlinewidth": 0,
             "ticks": ""
            },
            "colorscale": [
             [
              0,
              "#0d0887"
             ],
             [
              0.1111111111111111,
              "#46039f"
             ],
             [
              0.2222222222222222,
              "#7201a8"
             ],
             [
              0.3333333333333333,
              "#9c179e"
             ],
             [
              0.4444444444444444,
              "#bd3786"
             ],
             [
              0.5555555555555556,
              "#d8576b"
             ],
             [
              0.6666666666666666,
              "#ed7953"
             ],
             [
              0.7777777777777778,
              "#fb9f3a"
             ],
             [
              0.8888888888888888,
              "#fdca26"
             ],
             [
              1,
              "#f0f921"
             ]
            ],
            "type": "contour"
           }
          ],
          "contourcarpet": [
           {
            "colorbar": {
             "outlinewidth": 0,
             "ticks": ""
            },
            "type": "contourcarpet"
           }
          ],
          "heatmap": [
           {
            "colorbar": {
             "outlinewidth": 0,
             "ticks": ""
            },
            "colorscale": [
             [
              0,
              "#0d0887"
             ],
             [
              0.1111111111111111,
              "#46039f"
             ],
             [
              0.2222222222222222,
              "#7201a8"
             ],
             [
              0.3333333333333333,
              "#9c179e"
             ],
             [
              0.4444444444444444,
              "#bd3786"
             ],
             [
              0.5555555555555556,
              "#d8576b"
             ],
             [
              0.6666666666666666,
              "#ed7953"
             ],
             [
              0.7777777777777778,
              "#fb9f3a"
             ],
             [
              0.8888888888888888,
              "#fdca26"
             ],
             [
              1,
              "#f0f921"
             ]
            ],
            "type": "heatmap"
           }
          ],
          "heatmapgl": [
           {
            "colorbar": {
             "outlinewidth": 0,
             "ticks": ""
            },
            "colorscale": [
             [
              0,
              "#0d0887"
             ],
             [
              0.1111111111111111,
              "#46039f"
             ],
             [
              0.2222222222222222,
              "#7201a8"
             ],
             [
              0.3333333333333333,
              "#9c179e"
             ],
             [
              0.4444444444444444,
              "#bd3786"
             ],
             [
              0.5555555555555556,
              "#d8576b"
             ],
             [
              0.6666666666666666,
              "#ed7953"
             ],
             [
              0.7777777777777778,
              "#fb9f3a"
             ],
             [
              0.8888888888888888,
              "#fdca26"
             ],
             [
              1,
              "#f0f921"
             ]
            ],
            "type": "heatmapgl"
           }
          ],
          "histogram": [
           {
            "marker": {
             "pattern": {
              "fillmode": "overlay",
              "size": 10,
              "solidity": 0.2
             }
            },
            "type": "histogram"
           }
          ],
          "histogram2d": [
           {
            "colorbar": {
             "outlinewidth": 0,
             "ticks": ""
            },
            "colorscale": [
             [
              0,
              "#0d0887"
             ],
             [
              0.1111111111111111,
              "#46039f"
             ],
             [
              0.2222222222222222,
              "#7201a8"
             ],
             [
              0.3333333333333333,
              "#9c179e"
             ],
             [
              0.4444444444444444,
              "#bd3786"
             ],
             [
              0.5555555555555556,
              "#d8576b"
             ],
             [
              0.6666666666666666,
              "#ed7953"
             ],
             [
              0.7777777777777778,
              "#fb9f3a"
             ],
             [
              0.8888888888888888,
              "#fdca26"
             ],
             [
              1,
              "#f0f921"
             ]
            ],
            "type": "histogram2d"
           }
          ],
          "histogram2dcontour": [
           {
            "colorbar": {
             "outlinewidth": 0,
             "ticks": ""
            },
            "colorscale": [
             [
              0,
              "#0d0887"
             ],
             [
              0.1111111111111111,
              "#46039f"
             ],
             [
              0.2222222222222222,
              "#7201a8"
             ],
             [
              0.3333333333333333,
              "#9c179e"
             ],
             [
              0.4444444444444444,
              "#bd3786"
             ],
             [
              0.5555555555555556,
              "#d8576b"
             ],
             [
              0.6666666666666666,
              "#ed7953"
             ],
             [
              0.7777777777777778,
              "#fb9f3a"
             ],
             [
              0.8888888888888888,
              "#fdca26"
             ],
             [
              1,
              "#f0f921"
             ]
            ],
            "type": "histogram2dcontour"
           }
          ],
          "mesh3d": [
           {
            "colorbar": {
             "outlinewidth": 0,
             "ticks": ""
            },
            "type": "mesh3d"
           }
          ],
          "parcoords": [
           {
            "line": {
             "colorbar": {
              "outlinewidth": 0,
              "ticks": ""
             }
            },
            "type": "parcoords"
           }
          ],
          "pie": [
           {
            "automargin": true,
            "type": "pie"
           }
          ],
          "scatter": [
           {
            "fillpattern": {
             "fillmode": "overlay",
             "size": 10,
             "solidity": 0.2
            },
            "type": "scatter"
           }
          ],
          "scatter3d": [
           {
            "line": {
             "colorbar": {
              "outlinewidth": 0,
              "ticks": ""
             }
            },
            "marker": {
             "colorbar": {
              "outlinewidth": 0,
              "ticks": ""
             }
            },
            "type": "scatter3d"
           }
          ],
          "scattercarpet": [
           {
            "marker": {
             "colorbar": {
              "outlinewidth": 0,
              "ticks": ""
             }
            },
            "type": "scattercarpet"
           }
          ],
          "scattergeo": [
           {
            "marker": {
             "colorbar": {
              "outlinewidth": 0,
              "ticks": ""
             }
            },
            "type": "scattergeo"
           }
          ],
          "scattergl": [
           {
            "marker": {
             "colorbar": {
              "outlinewidth": 0,
              "ticks": ""
             }
            },
            "type": "scattergl"
           }
          ],
          "scattermapbox": [
           {
            "marker": {
             "colorbar": {
              "outlinewidth": 0,
              "ticks": ""
             }
            },
            "type": "scattermapbox"
           }
          ],
          "scatterpolar": [
           {
            "marker": {
             "colorbar": {
              "outlinewidth": 0,
              "ticks": ""
             }
            },
            "type": "scatterpolar"
           }
          ],
          "scatterpolargl": [
           {
            "marker": {
             "colorbar": {
              "outlinewidth": 0,
              "ticks": ""
             }
            },
            "type": "scatterpolargl"
           }
          ],
          "scatterternary": [
           {
            "marker": {
             "colorbar": {
              "outlinewidth": 0,
              "ticks": ""
             }
            },
            "type": "scatterternary"
           }
          ],
          "surface": [
           {
            "colorbar": {
             "outlinewidth": 0,
             "ticks": ""
            },
            "colorscale": [
             [
              0,
              "#0d0887"
             ],
             [
              0.1111111111111111,
              "#46039f"
             ],
             [
              0.2222222222222222,
              "#7201a8"
             ],
             [
              0.3333333333333333,
              "#9c179e"
             ],
             [
              0.4444444444444444,
              "#bd3786"
             ],
             [
              0.5555555555555556,
              "#d8576b"
             ],
             [
              0.6666666666666666,
              "#ed7953"
             ],
             [
              0.7777777777777778,
              "#fb9f3a"
             ],
             [
              0.8888888888888888,
              "#fdca26"
             ],
             [
              1,
              "#f0f921"
             ]
            ],
            "type": "surface"
           }
          ],
          "table": [
           {
            "cells": {
             "fill": {
              "color": "#EBF0F8"
             },
             "line": {
              "color": "white"
             }
            },
            "header": {
             "fill": {
              "color": "#C8D4E3"
             },
             "line": {
              "color": "white"
             }
            },
            "type": "table"
           }
          ]
         },
         "layout": {
          "annotationdefaults": {
           "arrowcolor": "#2a3f5f",
           "arrowhead": 0,
           "arrowwidth": 1
          },
          "autotypenumbers": "strict",
          "coloraxis": {
           "colorbar": {
            "outlinewidth": 0,
            "ticks": ""
           }
          },
          "colorscale": {
           "diverging": [
            [
             0,
             "#8e0152"
            ],
            [
             0.1,
             "#c51b7d"
            ],
            [
             0.2,
             "#de77ae"
            ],
            [
             0.3,
             "#f1b6da"
            ],
            [
             0.4,
             "#fde0ef"
            ],
            [
             0.5,
             "#f7f7f7"
            ],
            [
             0.6,
             "#e6f5d0"
            ],
            [
             0.7,
             "#b8e186"
            ],
            [
             0.8,
             "#7fbc41"
            ],
            [
             0.9,
             "#4d9221"
            ],
            [
             1,
             "#276419"
            ]
           ],
           "sequential": [
            [
             0,
             "#0d0887"
            ],
            [
             0.1111111111111111,
             "#46039f"
            ],
            [
             0.2222222222222222,
             "#7201a8"
            ],
            [
             0.3333333333333333,
             "#9c179e"
            ],
            [
             0.4444444444444444,
             "#bd3786"
            ],
            [
             0.5555555555555556,
             "#d8576b"
            ],
            [
             0.6666666666666666,
             "#ed7953"
            ],
            [
             0.7777777777777778,
             "#fb9f3a"
            ],
            [
             0.8888888888888888,
             "#fdca26"
            ],
            [
             1,
             "#f0f921"
            ]
           ],
           "sequentialminus": [
            [
             0,
             "#0d0887"
            ],
            [
             0.1111111111111111,
             "#46039f"
            ],
            [
             0.2222222222222222,
             "#7201a8"
            ],
            [
             0.3333333333333333,
             "#9c179e"
            ],
            [
             0.4444444444444444,
             "#bd3786"
            ],
            [
             0.5555555555555556,
             "#d8576b"
            ],
            [
             0.6666666666666666,
             "#ed7953"
            ],
            [
             0.7777777777777778,
             "#fb9f3a"
            ],
            [
             0.8888888888888888,
             "#fdca26"
            ],
            [
             1,
             "#f0f921"
            ]
           ]
          },
          "colorway": [
           "#636efa",
           "#EF553B",
           "#00cc96",
           "#ab63fa",
           "#FFA15A",
           "#19d3f3",
           "#FF6692",
           "#B6E880",
           "#FF97FF",
           "#FECB52"
          ],
          "font": {
           "color": "#2a3f5f"
          },
          "geo": {
           "bgcolor": "white",
           "lakecolor": "white",
           "landcolor": "#E5ECF6",
           "showlakes": true,
           "showland": true,
           "subunitcolor": "white"
          },
          "hoverlabel": {
           "align": "left"
          },
          "hovermode": "closest",
          "mapbox": {
           "style": "light"
          },
          "paper_bgcolor": "white",
          "plot_bgcolor": "#E5ECF6",
          "polar": {
           "angularaxis": {
            "gridcolor": "white",
            "linecolor": "white",
            "ticks": ""
           },
           "bgcolor": "#E5ECF6",
           "radialaxis": {
            "gridcolor": "white",
            "linecolor": "white",
            "ticks": ""
           }
          },
          "scene": {
           "xaxis": {
            "backgroundcolor": "#E5ECF6",
            "gridcolor": "white",
            "gridwidth": 2,
            "linecolor": "white",
            "showbackground": true,
            "ticks": "",
            "zerolinecolor": "white"
           },
           "yaxis": {
            "backgroundcolor": "#E5ECF6",
            "gridcolor": "white",
            "gridwidth": 2,
            "linecolor": "white",
            "showbackground": true,
            "ticks": "",
            "zerolinecolor": "white"
           },
           "zaxis": {
            "backgroundcolor": "#E5ECF6",
            "gridcolor": "white",
            "gridwidth": 2,
            "linecolor": "white",
            "showbackground": true,
            "ticks": "",
            "zerolinecolor": "white"
           }
          },
          "shapedefaults": {
           "line": {
            "color": "#2a3f5f"
           }
          },
          "ternary": {
           "aaxis": {
            "gridcolor": "white",
            "linecolor": "white",
            "ticks": ""
           },
           "baxis": {
            "gridcolor": "white",
            "linecolor": "white",
            "ticks": ""
           },
           "bgcolor": "#E5ECF6",
           "caxis": {
            "gridcolor": "white",
            "linecolor": "white",
            "ticks": ""
           }
          },
          "title": {
           "x": 0.05
          },
          "xaxis": {
           "automargin": true,
           "gridcolor": "white",
           "linecolor": "white",
           "ticks": "",
           "title": {
            "standoff": 15
           },
           "zerolinecolor": "white",
           "zerolinewidth": 2
          },
          "yaxis": {
           "automargin": true,
           "gridcolor": "white",
           "linecolor": "white",
           "ticks": "",
           "title": {
            "standoff": 15
           },
           "zerolinecolor": "white",
           "zerolinewidth": 2
          }
         }
        },
        "title": {
         "text": "test"
        },
        "xaxis": {
         "anchor": "y",
         "domain": [
          0,
          1
         ],
         "title": {
          "text": "region"
         }
        },
        "yaxis": {
         "anchor": "x",
         "domain": [
          0,
          1
         ],
         "title": {
          "text": "0"
         }
        }
       }
      }
     },
     "metadata": {},
     "output_type": "display_data"
    }
   ],
   "source": [
    "fig = px.bar(men_10_kilometers_new_df, x=\"region\", y=0, color=\"Medal\", title=\"test\")\n",
    "fig.show()\n"
   ]
  },
  {
   "cell_type": "markdown",
   "metadata": {},
   "source": [
    "___\n",
    "### Testing stuff"
   ]
  },
  {
   "cell_type": "code",
   "execution_count": 197,
   "metadata": {},
   "outputs": [
    {
     "data": {
      "text/html": [
       "<div>\n",
       "<style scoped>\n",
       "    .dataframe tbody tr th:only-of-type {\n",
       "        vertical-align: middle;\n",
       "    }\n",
       "\n",
       "    .dataframe tbody tr th {\n",
       "        vertical-align: top;\n",
       "    }\n",
       "\n",
       "    .dataframe thead th {\n",
       "        text-align: right;\n",
       "    }\n",
       "</style>\n",
       "<table border=\"1\" class=\"dataframe\">\n",
       "  <thead>\n",
       "    <tr style=\"text-align: right;\">\n",
       "      <th></th>\n",
       "      <th>ID</th>\n",
       "      <th>Name</th>\n",
       "      <th>Sex</th>\n",
       "      <th>Age</th>\n",
       "      <th>Height</th>\n",
       "      <th>Weight</th>\n",
       "      <th>Team</th>\n",
       "      <th>NOC</th>\n",
       "      <th>Games</th>\n",
       "      <th>Year</th>\n",
       "      <th>Season</th>\n",
       "      <th>City</th>\n",
       "      <th>Sport</th>\n",
       "      <th>Event</th>\n",
       "      <th>Medal</th>\n",
       "      <th>region</th>\n",
       "      <th>notes</th>\n",
       "    </tr>\n",
       "  </thead>\n",
       "  <tbody>\n",
       "    <tr>\n",
       "      <th>3969</th>\n",
       "      <td>2296</td>\n",
       "      <td>Marco Albarello</td>\n",
       "      <td>M</td>\n",
       "      <td>31.0</td>\n",
       "      <td>187.0</td>\n",
       "      <td>84.0</td>\n",
       "      <td>Italy</td>\n",
       "      <td>ITA</td>\n",
       "      <td>1992 Winter</td>\n",
       "      <td>1992</td>\n",
       "      <td>Winter</td>\n",
       "      <td>Albertville</td>\n",
       "      <td>Cross Country Skiing</td>\n",
       "      <td>Cross Country Skiing Men's 10 kilometres</td>\n",
       "      <td>Silver</td>\n",
       "      <td>Italy</td>\n",
       "      <td>NaN</td>\n",
       "    </tr>\n",
       "    <tr>\n",
       "      <th>3973</th>\n",
       "      <td>2296</td>\n",
       "      <td>Marco Albarello</td>\n",
       "      <td>M</td>\n",
       "      <td>33.0</td>\n",
       "      <td>187.0</td>\n",
       "      <td>84.0</td>\n",
       "      <td>Italy</td>\n",
       "      <td>ITA</td>\n",
       "      <td>1994 Winter</td>\n",
       "      <td>1994</td>\n",
       "      <td>Winter</td>\n",
       "      <td>Lillehammer</td>\n",
       "      <td>Cross Country Skiing</td>\n",
       "      <td>Cross Country Skiing Men's 10 kilometres</td>\n",
       "      <td>Bronze</td>\n",
       "      <td>Italy</td>\n",
       "      <td>NaN</td>\n",
       "    </tr>\n",
       "    <tr>\n",
       "      <th>75408</th>\n",
       "      <td>38284</td>\n",
       "      <td>Markus Gandler</td>\n",
       "      <td>M</td>\n",
       "      <td>32.0</td>\n",
       "      <td>178.0</td>\n",
       "      <td>72.0</td>\n",
       "      <td>Austria</td>\n",
       "      <td>AUT</td>\n",
       "      <td>1998 Winter</td>\n",
       "      <td>1998</td>\n",
       "      <td>Winter</td>\n",
       "      <td>Nagano</td>\n",
       "      <td>Cross Country Skiing</td>\n",
       "      <td>Cross Country Skiing Men's 10 kilometres</td>\n",
       "      <td>Silver</td>\n",
       "      <td>Austria</td>\n",
       "      <td>NaN</td>\n",
       "    </tr>\n",
       "    <tr>\n",
       "      <th>146897</th>\n",
       "      <td>73732</td>\n",
       "      <td>Sven Christer Majbck</td>\n",
       "      <td>M</td>\n",
       "      <td>28.0</td>\n",
       "      <td>184.0</td>\n",
       "      <td>72.0</td>\n",
       "      <td>Sweden</td>\n",
       "      <td>SWE</td>\n",
       "      <td>1992 Winter</td>\n",
       "      <td>1992</td>\n",
       "      <td>Winter</td>\n",
       "      <td>Albertville</td>\n",
       "      <td>Cross Country Skiing</td>\n",
       "      <td>Cross Country Skiing Men's 10 kilometres</td>\n",
       "      <td>Bronze</td>\n",
       "      <td>Sweden</td>\n",
       "      <td>NaN</td>\n",
       "    </tr>\n",
       "    <tr>\n",
       "      <th>167003</th>\n",
       "      <td>83902</td>\n",
       "      <td>Mika Kristian Myllyl</td>\n",
       "      <td>M</td>\n",
       "      <td>28.0</td>\n",
       "      <td>183.0</td>\n",
       "      <td>74.0</td>\n",
       "      <td>Finland</td>\n",
       "      <td>FIN</td>\n",
       "      <td>1998 Winter</td>\n",
       "      <td>1998</td>\n",
       "      <td>Winter</td>\n",
       "      <td>Nagano</td>\n",
       "      <td>Cross Country Skiing</td>\n",
       "      <td>Cross Country Skiing Men's 10 kilometres</td>\n",
       "      <td>Bronze</td>\n",
       "      <td>Finland</td>\n",
       "      <td>NaN</td>\n",
       "    </tr>\n",
       "  </tbody>\n",
       "</table>\n",
       "</div>"
      ],
      "text/plain": [
       "           ID                  Name Sex   Age  Height  Weight     Team  NOC  \\\n",
       "3969     2296       Marco Albarello   M  31.0   187.0    84.0    Italy  ITA   \n",
       "3973     2296       Marco Albarello   M  33.0   187.0    84.0    Italy  ITA   \n",
       "75408   38284        Markus Gandler   M  32.0   178.0    72.0  Austria  AUT   \n",
       "146897  73732  Sven Christer Majbck   M  28.0   184.0    72.0   Sweden  SWE   \n",
       "167003  83902  Mika Kristian Myllyl   M  28.0   183.0    74.0  Finland  FIN   \n",
       "\n",
       "              Games  Year  Season         City                 Sport  \\\n",
       "3969    1992 Winter  1992  Winter  Albertville  Cross Country Skiing   \n",
       "3973    1994 Winter  1994  Winter  Lillehammer  Cross Country Skiing   \n",
       "75408   1998 Winter  1998  Winter       Nagano  Cross Country Skiing   \n",
       "146897  1992 Winter  1992  Winter  Albertville  Cross Country Skiing   \n",
       "167003  1998 Winter  1998  Winter       Nagano  Cross Country Skiing   \n",
       "\n",
       "                                           Event   Medal   region notes  \n",
       "3969    Cross Country Skiing Men's 10 kilometres  Silver    Italy   NaN  \n",
       "3973    Cross Country Skiing Men's 10 kilometres  Bronze    Italy   NaN  \n",
       "75408   Cross Country Skiing Men's 10 kilometres  Silver  Austria   NaN  \n",
       "146897  Cross Country Skiing Men's 10 kilometres  Bronze   Sweden   NaN  \n",
       "167003  Cross Country Skiing Men's 10 kilometres  Bronze  Finland   NaN  "
      ]
     },
     "execution_count": 197,
     "metadata": {},
     "output_type": "execute_result"
    }
   ],
   "source": [
    "gk = df.groupby(\"Event\")\n",
    "gk.get_group(\"Cross Country Skiing Men's 10 kilometres\").dropna(subset='Medal').head()"
   ]
  },
  {
   "cell_type": "code",
   "execution_count": 199,
   "metadata": {},
   "outputs": [
    {
     "data": {
      "text/html": [
       "<div>\n",
       "<style scoped>\n",
       "    .dataframe tbody tr th:only-of-type {\n",
       "        vertical-align: middle;\n",
       "    }\n",
       "\n",
       "    .dataframe tbody tr th {\n",
       "        vertical-align: top;\n",
       "    }\n",
       "\n",
       "    .dataframe thead th {\n",
       "        text-align: right;\n",
       "    }\n",
       "</style>\n",
       "<table border=\"1\" class=\"dataframe\">\n",
       "  <thead>\n",
       "    <tr style=\"text-align: right;\">\n",
       "      <th></th>\n",
       "      <th>Sex</th>\n",
       "      <th>Team</th>\n",
       "      <th>NOC</th>\n",
       "      <th>Games</th>\n",
       "      <th>Year</th>\n",
       "      <th>Season</th>\n",
       "      <th>City</th>\n",
       "      <th>Sport</th>\n",
       "      <th>Event</th>\n",
       "      <th>Medal</th>\n",
       "      <th>region</th>\n",
       "      <th>notes</th>\n",
       "    </tr>\n",
       "  </thead>\n",
       "  <tbody>\n",
       "    <tr>\n",
       "      <th>3940</th>\n",
       "      <td>M</td>\n",
       "      <td>Finland</td>\n",
       "      <td>FIN</td>\n",
       "      <td>1960 Winter</td>\n",
       "      <td>1960</td>\n",
       "      <td>Winter</td>\n",
       "      <td>Squaw Valley</td>\n",
       "      <td>Cross Country Skiing</td>\n",
       "      <td>Cross Country Skiing Men's 4 x 10 kilometres R...</td>\n",
       "      <td>Gold</td>\n",
       "      <td>Finland</td>\n",
       "      <td>NaN</td>\n",
       "    </tr>\n",
       "    <tr>\n",
       "      <th>3972</th>\n",
       "      <td>M</td>\n",
       "      <td>Italy</td>\n",
       "      <td>ITA</td>\n",
       "      <td>1992 Winter</td>\n",
       "      <td>1992</td>\n",
       "      <td>Winter</td>\n",
       "      <td>Albertville</td>\n",
       "      <td>Cross Country Skiing</td>\n",
       "      <td>Cross Country Skiing Men's 4 x 10 kilometres R...</td>\n",
       "      <td>Silver</td>\n",
       "      <td>Italy</td>\n",
       "      <td>NaN</td>\n",
       "    </tr>\n",
       "    <tr>\n",
       "      <th>3975</th>\n",
       "      <td>M</td>\n",
       "      <td>Italy</td>\n",
       "      <td>ITA</td>\n",
       "      <td>1994 Winter</td>\n",
       "      <td>1994</td>\n",
       "      <td>Winter</td>\n",
       "      <td>Lillehammer</td>\n",
       "      <td>Cross Country Skiing</td>\n",
       "      <td>Cross Country Skiing Men's 4 x 10 kilometres R...</td>\n",
       "      <td>Gold</td>\n",
       "      <td>Italy</td>\n",
       "      <td>NaN</td>\n",
       "    </tr>\n",
       "    <tr>\n",
       "      <th>3978</th>\n",
       "      <td>M</td>\n",
       "      <td>Italy</td>\n",
       "      <td>ITA</td>\n",
       "      <td>1998 Winter</td>\n",
       "      <td>1998</td>\n",
       "      <td>Winter</td>\n",
       "      <td>Nagano</td>\n",
       "      <td>Cross Country Skiing</td>\n",
       "      <td>Cross Country Skiing Men's 4 x 10 kilometres R...</td>\n",
       "      <td>Silver</td>\n",
       "      <td>Italy</td>\n",
       "      <td>NaN</td>\n",
       "    </tr>\n",
       "    <tr>\n",
       "      <th>5423</th>\n",
       "      <td>M</td>\n",
       "      <td>Norway</td>\n",
       "      <td>NOR</td>\n",
       "      <td>1994 Winter</td>\n",
       "      <td>1994</td>\n",
       "      <td>Winter</td>\n",
       "      <td>Lillehammer</td>\n",
       "      <td>Cross Country Skiing</td>\n",
       "      <td>Cross Country Skiing Men's 4 x 10 kilometres R...</td>\n",
       "      <td>Silver</td>\n",
       "      <td>Norway</td>\n",
       "      <td>NaN</td>\n",
       "    </tr>\n",
       "  </tbody>\n",
       "</table>\n",
       "</div>"
      ],
      "text/plain": [
       "     Sex     Team  NOC        Games  Year  Season          City  \\\n",
       "3940   M  Finland  FIN  1960 Winter  1960  Winter  Squaw Valley   \n",
       "3972   M    Italy  ITA  1992 Winter  1992  Winter   Albertville   \n",
       "3975   M    Italy  ITA  1994 Winter  1994  Winter   Lillehammer   \n",
       "3978   M    Italy  ITA  1998 Winter  1998  Winter        Nagano   \n",
       "5423   M   Norway  NOR  1994 Winter  1994  Winter   Lillehammer   \n",
       "\n",
       "                     Sport                                              Event  \\\n",
       "3940  Cross Country Skiing  Cross Country Skiing Men's 4 x 10 kilometres R...   \n",
       "3972  Cross Country Skiing  Cross Country Skiing Men's 4 x 10 kilometres R...   \n",
       "3975  Cross Country Skiing  Cross Country Skiing Men's 4 x 10 kilometres R...   \n",
       "3978  Cross Country Skiing  Cross Country Skiing Men's 4 x 10 kilometres R...   \n",
       "5423  Cross Country Skiing  Cross Country Skiing Men's 4 x 10 kilometres R...   \n",
       "\n",
       "       Medal   region notes  \n",
       "3940    Gold  Finland   NaN  \n",
       "3972  Silver    Italy   NaN  \n",
       "3975    Gold    Italy   NaN  \n",
       "3978  Silver    Italy   NaN  \n",
       "5423  Silver   Norway   NaN  "
      ]
     },
     "execution_count": 199,
     "metadata": {},
     "output_type": "execute_result"
    }
   ],
   "source": [
    "xcs_usable_dataframe.head()"
   ]
  },
  {
   "cell_type": "code",
   "execution_count": 207,
   "metadata": {},
   "outputs": [
    {
     "data": {
      "text/html": [
       "<div>\n",
       "<style scoped>\n",
       "    .dataframe tbody tr th:only-of-type {\n",
       "        vertical-align: middle;\n",
       "    }\n",
       "\n",
       "    .dataframe tbody tr th {\n",
       "        vertical-align: top;\n",
       "    }\n",
       "\n",
       "    .dataframe thead th {\n",
       "        text-align: right;\n",
       "    }\n",
       "</style>\n",
       "<table border=\"1\" class=\"dataframe\">\n",
       "  <thead>\n",
       "    <tr style=\"text-align: right;\">\n",
       "      <th></th>\n",
       "      <th>Event</th>\n",
       "      <th>region</th>\n",
       "      <th>Medal</th>\n",
       "      <th>0</th>\n",
       "    </tr>\n",
       "  </thead>\n",
       "  <tbody>\n",
       "    <tr>\n",
       "      <th>0</th>\n",
       "      <td>Aeronautics Mixed Aeronautics</td>\n",
       "      <td>Switzerland</td>\n",
       "      <td>Gold</td>\n",
       "      <td>1</td>\n",
       "    </tr>\n",
       "    <tr>\n",
       "      <th>1</th>\n",
       "      <td>Alpine Skiing Men's Combined</td>\n",
       "      <td>Austria</td>\n",
       "      <td>Bronze</td>\n",
       "      <td>1</td>\n",
       "    </tr>\n",
       "    <tr>\n",
       "      <th>2</th>\n",
       "      <td>Alpine Skiing Men's Combined</td>\n",
       "      <td>Austria</td>\n",
       "      <td>Gold</td>\n",
       "      <td>1</td>\n",
       "    </tr>\n",
       "    <tr>\n",
       "      <th>3</th>\n",
       "      <td>Alpine Skiing Men's Combined</td>\n",
       "      <td>Austria</td>\n",
       "      <td>Silver</td>\n",
       "      <td>1</td>\n",
       "    </tr>\n",
       "    <tr>\n",
       "      <th>4</th>\n",
       "      <td>Alpine Skiing Men's Combined</td>\n",
       "      <td>Croatia</td>\n",
       "      <td>Silver</td>\n",
       "      <td>1</td>\n",
       "    </tr>\n",
       "    <tr>\n",
       "      <th>...</th>\n",
       "      <td>...</td>\n",
       "      <td>...</td>\n",
       "      <td>...</td>\n",
       "      <td>...</td>\n",
       "    </tr>\n",
       "    <tr>\n",
       "      <th>10593</th>\n",
       "      <td>Wrestling Women's Middleweight, Freestyle</td>\n",
       "      <td>Poland</td>\n",
       "      <td>Bronze</td>\n",
       "      <td>1</td>\n",
       "    </tr>\n",
       "    <tr>\n",
       "      <th>10594</th>\n",
       "      <td>Wrestling Women's Middleweight, Freestyle</td>\n",
       "      <td>Russia</td>\n",
       "      <td>Bronze</td>\n",
       "      <td>1</td>\n",
       "    </tr>\n",
       "    <tr>\n",
       "      <th>10595</th>\n",
       "      <td>Wrestling Women's Middleweight, Freestyle</td>\n",
       "      <td>Russia</td>\n",
       "      <td>Silver</td>\n",
       "      <td>1</td>\n",
       "    </tr>\n",
       "    <tr>\n",
       "      <th>10596</th>\n",
       "      <td>Wrestling Women's Middleweight, Freestyle</td>\n",
       "      <td>USA</td>\n",
       "      <td>Bronze</td>\n",
       "      <td>1</td>\n",
       "    </tr>\n",
       "    <tr>\n",
       "      <th>10597</th>\n",
       "      <td>Wrestling Women's Middleweight, Freestyle</td>\n",
       "      <td>USA</td>\n",
       "      <td>Silver</td>\n",
       "      <td>1</td>\n",
       "    </tr>\n",
       "  </tbody>\n",
       "</table>\n",
       "<p>10598 rows × 4 columns</p>\n",
       "</div>"
      ],
      "text/plain": [
       "                                           Event       region   Medal  0\n",
       "0                  Aeronautics Mixed Aeronautics  Switzerland    Gold  1\n",
       "1                   Alpine Skiing Men's Combined      Austria  Bronze  1\n",
       "2                   Alpine Skiing Men's Combined      Austria    Gold  1\n",
       "3                   Alpine Skiing Men's Combined      Austria  Silver  1\n",
       "4                   Alpine Skiing Men's Combined      Croatia  Silver  1\n",
       "...                                          ...          ...     ... ..\n",
       "10593  Wrestling Women's Middleweight, Freestyle       Poland  Bronze  1\n",
       "10594  Wrestling Women's Middleweight, Freestyle       Russia  Bronze  1\n",
       "10595  Wrestling Women's Middleweight, Freestyle       Russia  Silver  1\n",
       "10596  Wrestling Women's Middleweight, Freestyle          USA  Bronze  1\n",
       "10597  Wrestling Women's Middleweight, Freestyle          USA  Silver  1\n",
       "\n",
       "[10598 rows x 4 columns]"
      ]
     },
     "execution_count": 207,
     "metadata": {},
     "output_type": "execute_result"
    }
   ],
   "source": [
    "xcs_usable_dataframe = xcs_usable_dataframe.groupby([\"Event\", \"region\"])[[\"Medal\"]].value_counts().to_frame().reset_index()\n",
    "xcs_usable_dataframe"
   ]
  },
  {
   "cell_type": "code",
   "execution_count": 205,
   "metadata": {},
   "outputs": [
    {
     "data": {
      "text/html": [
       "<div>\n",
       "<style scoped>\n",
       "    .dataframe tbody tr th:only-of-type {\n",
       "        vertical-align: middle;\n",
       "    }\n",
       "\n",
       "    .dataframe tbody tr th {\n",
       "        vertical-align: top;\n",
       "    }\n",
       "\n",
       "    .dataframe thead th {\n",
       "        text-align: right;\n",
       "    }\n",
       "</style>\n",
       "<table border=\"1\" class=\"dataframe\">\n",
       "  <thead>\n",
       "    <tr style=\"text-align: right;\">\n",
       "      <th></th>\n",
       "      <th>Event</th>\n",
       "      <th>region</th>\n",
       "      <th>Medal</th>\n",
       "      <th>0</th>\n",
       "    </tr>\n",
       "  </thead>\n",
       "  <tbody>\n",
       "    <tr>\n",
       "      <th>3367</th>\n",
       "      <td>Cross Country Skiing Men's 4 x 10 kilometres R...</td>\n",
       "      <td>Czech Republic</td>\n",
       "      <td>Bronze</td>\n",
       "      <td>1</td>\n",
       "    </tr>\n",
       "    <tr>\n",
       "      <th>3368</th>\n",
       "      <td>Cross Country Skiing Men's 4 x 10 kilometres R...</td>\n",
       "      <td>Finland</td>\n",
       "      <td>Bronze</td>\n",
       "      <td>1</td>\n",
       "    </tr>\n",
       "    <tr>\n",
       "      <th>3369</th>\n",
       "      <td>Cross Country Skiing Men's 4 x 10 kilometres R...</td>\n",
       "      <td>Finland</td>\n",
       "      <td>Gold</td>\n",
       "      <td>1</td>\n",
       "    </tr>\n",
       "    <tr>\n",
       "      <th>3370</th>\n",
       "      <td>Cross Country Skiing Men's 4 x 10 kilometres R...</td>\n",
       "      <td>Finland</td>\n",
       "      <td>Silver</td>\n",
       "      <td>1</td>\n",
       "    </tr>\n",
       "    <tr>\n",
       "      <th>3371</th>\n",
       "      <td>Cross Country Skiing Men's 4 x 10 kilometres R...</td>\n",
       "      <td>France</td>\n",
       "      <td>Bronze</td>\n",
       "      <td>1</td>\n",
       "    </tr>\n",
       "    <tr>\n",
       "      <th>3372</th>\n",
       "      <td>Cross Country Skiing Men's 4 x 10 kilometres R...</td>\n",
       "      <td>Germany</td>\n",
       "      <td>Silver</td>\n",
       "      <td>1</td>\n",
       "    </tr>\n",
       "    <tr>\n",
       "      <th>3373</th>\n",
       "      <td>Cross Country Skiing Men's 4 x 10 kilometres R...</td>\n",
       "      <td>Germany</td>\n",
       "      <td>Bronze</td>\n",
       "      <td>1</td>\n",
       "    </tr>\n",
       "    <tr>\n",
       "      <th>3374</th>\n",
       "      <td>Cross Country Skiing Men's 4 x 10 kilometres R...</td>\n",
       "      <td>Italy</td>\n",
       "      <td>Silver</td>\n",
       "      <td>1</td>\n",
       "    </tr>\n",
       "    <tr>\n",
       "      <th>3375</th>\n",
       "      <td>Cross Country Skiing Men's 4 x 10 kilometres R...</td>\n",
       "      <td>Italy</td>\n",
       "      <td>Gold</td>\n",
       "      <td>1</td>\n",
       "    </tr>\n",
       "    <tr>\n",
       "      <th>3376</th>\n",
       "      <td>Cross Country Skiing Men's 4 x 10 kilometres R...</td>\n",
       "      <td>Norway</td>\n",
       "      <td>Bronze</td>\n",
       "      <td>1</td>\n",
       "    </tr>\n",
       "    <tr>\n",
       "      <th>3377</th>\n",
       "      <td>Cross Country Skiing Men's 4 x 10 kilometres R...</td>\n",
       "      <td>Norway</td>\n",
       "      <td>Gold</td>\n",
       "      <td>1</td>\n",
       "    </tr>\n",
       "    <tr>\n",
       "      <th>3378</th>\n",
       "      <td>Cross Country Skiing Men's 4 x 10 kilometres R...</td>\n",
       "      <td>Norway</td>\n",
       "      <td>Silver</td>\n",
       "      <td>1</td>\n",
       "    </tr>\n",
       "    <tr>\n",
       "      <th>3379</th>\n",
       "      <td>Cross Country Skiing Men's 4 x 10 kilometres R...</td>\n",
       "      <td>Russia</td>\n",
       "      <td>Bronze</td>\n",
       "      <td>1</td>\n",
       "    </tr>\n",
       "    <tr>\n",
       "      <th>3380</th>\n",
       "      <td>Cross Country Skiing Men's 4 x 10 kilometres R...</td>\n",
       "      <td>Russia</td>\n",
       "      <td>Gold</td>\n",
       "      <td>1</td>\n",
       "    </tr>\n",
       "    <tr>\n",
       "      <th>3381</th>\n",
       "      <td>Cross Country Skiing Men's 4 x 10 kilometres R...</td>\n",
       "      <td>Russia</td>\n",
       "      <td>Silver</td>\n",
       "      <td>1</td>\n",
       "    </tr>\n",
       "    <tr>\n",
       "      <th>3382</th>\n",
       "      <td>Cross Country Skiing Men's 4 x 10 kilometres R...</td>\n",
       "      <td>Sweden</td>\n",
       "      <td>Bronze</td>\n",
       "      <td>1</td>\n",
       "    </tr>\n",
       "    <tr>\n",
       "      <th>3383</th>\n",
       "      <td>Cross Country Skiing Men's 4 x 10 kilometres R...</td>\n",
       "      <td>Sweden</td>\n",
       "      <td>Gold</td>\n",
       "      <td>1</td>\n",
       "    </tr>\n",
       "    <tr>\n",
       "      <th>3384</th>\n",
       "      <td>Cross Country Skiing Men's 4 x 10 kilometres R...</td>\n",
       "      <td>Sweden</td>\n",
       "      <td>Silver</td>\n",
       "      <td>1</td>\n",
       "    </tr>\n",
       "    <tr>\n",
       "      <th>3385</th>\n",
       "      <td>Cross Country Skiing Men's 4 x 10 kilometres R...</td>\n",
       "      <td>Switzerland</td>\n",
       "      <td>Bronze</td>\n",
       "      <td>1</td>\n",
       "    </tr>\n",
       "  </tbody>\n",
       "</table>\n",
       "</div>"
      ],
      "text/plain": [
       "                                                  Event          region  \\\n",
       "3367  Cross Country Skiing Men's 4 x 10 kilometres R...  Czech Republic   \n",
       "3368  Cross Country Skiing Men's 4 x 10 kilometres R...         Finland   \n",
       "3369  Cross Country Skiing Men's 4 x 10 kilometres R...         Finland   \n",
       "3370  Cross Country Skiing Men's 4 x 10 kilometres R...         Finland   \n",
       "3371  Cross Country Skiing Men's 4 x 10 kilometres R...          France   \n",
       "3372  Cross Country Skiing Men's 4 x 10 kilometres R...         Germany   \n",
       "3373  Cross Country Skiing Men's 4 x 10 kilometres R...         Germany   \n",
       "3374  Cross Country Skiing Men's 4 x 10 kilometres R...           Italy   \n",
       "3375  Cross Country Skiing Men's 4 x 10 kilometres R...           Italy   \n",
       "3376  Cross Country Skiing Men's 4 x 10 kilometres R...          Norway   \n",
       "3377  Cross Country Skiing Men's 4 x 10 kilometres R...          Norway   \n",
       "3378  Cross Country Skiing Men's 4 x 10 kilometres R...          Norway   \n",
       "3379  Cross Country Skiing Men's 4 x 10 kilometres R...          Russia   \n",
       "3380  Cross Country Skiing Men's 4 x 10 kilometres R...          Russia   \n",
       "3381  Cross Country Skiing Men's 4 x 10 kilometres R...          Russia   \n",
       "3382  Cross Country Skiing Men's 4 x 10 kilometres R...          Sweden   \n",
       "3383  Cross Country Skiing Men's 4 x 10 kilometres R...          Sweden   \n",
       "3384  Cross Country Skiing Men's 4 x 10 kilometres R...          Sweden   \n",
       "3385  Cross Country Skiing Men's 4 x 10 kilometres R...     Switzerland   \n",
       "\n",
       "       Medal  0  \n",
       "3367  Bronze  1  \n",
       "3368  Bronze  1  \n",
       "3369    Gold  1  \n",
       "3370  Silver  1  \n",
       "3371  Bronze  1  \n",
       "3372  Silver  1  \n",
       "3373  Bronze  1  \n",
       "3374  Silver  1  \n",
       "3375    Gold  1  \n",
       "3376  Bronze  1  \n",
       "3377    Gold  1  \n",
       "3378  Silver  1  \n",
       "3379  Bronze  1  \n",
       "3380    Gold  1  \n",
       "3381  Silver  1  \n",
       "3382  Bronze  1  \n",
       "3383    Gold  1  \n",
       "3384  Silver  1  \n",
       "3385  Bronze  1  "
      ]
     },
     "execution_count": 205,
     "metadata": {},
     "output_type": "execute_result"
    }
   ],
   "source": [
    "sport = xcs_usable_dataframe[xcs_usable_dataframe[\"Event\"] == \"Cross Country Skiing Men's 4 x 10 kilometres Relay\"]\n",
    "sport"
   ]
  },
  {
   "cell_type": "code",
   "execution_count": 206,
   "metadata": {},
   "outputs": [
    {
     "data": {
      "application/vnd.plotly.v1+json": {
       "config": {
        "plotlyServerURL": "https://plot.ly"
       },
       "data": [
        {
         "alignmentgroup": "True",
         "hovertemplate": "Medal=Bronze<br>region=%{x}<br>0=%{y}<extra></extra>",
         "legendgroup": "Bronze",
         "marker": {
          "color": "#636efa",
          "pattern": {
           "shape": ""
          }
         },
         "name": "Bronze",
         "offsetgroup": "Bronze",
         "orientation": "v",
         "showlegend": true,
         "textposition": "auto",
         "type": "bar",
         "x": [
          "Czech Republic",
          "Finland",
          "France",
          "Germany",
          "Norway",
          "Russia",
          "Sweden",
          "Switzerland"
         ],
         "xaxis": "x",
         "y": [
          1,
          1,
          1,
          1,
          1,
          1,
          1,
          1
         ],
         "yaxis": "y"
        },
        {
         "alignmentgroup": "True",
         "hovertemplate": "Medal=Gold<br>region=%{x}<br>0=%{y}<extra></extra>",
         "legendgroup": "Gold",
         "marker": {
          "color": "#EF553B",
          "pattern": {
           "shape": ""
          }
         },
         "name": "Gold",
         "offsetgroup": "Gold",
         "orientation": "v",
         "showlegend": true,
         "textposition": "auto",
         "type": "bar",
         "x": [
          "Finland",
          "Italy",
          "Norway",
          "Russia",
          "Sweden"
         ],
         "xaxis": "x",
         "y": [
          1,
          1,
          1,
          1,
          1
         ],
         "yaxis": "y"
        },
        {
         "alignmentgroup": "True",
         "hovertemplate": "Medal=Silver<br>region=%{x}<br>0=%{y}<extra></extra>",
         "legendgroup": "Silver",
         "marker": {
          "color": "#00cc96",
          "pattern": {
           "shape": ""
          }
         },
         "name": "Silver",
         "offsetgroup": "Silver",
         "orientation": "v",
         "showlegend": true,
         "textposition": "auto",
         "type": "bar",
         "x": [
          "Finland",
          "Germany",
          "Italy",
          "Norway",
          "Russia",
          "Sweden"
         ],
         "xaxis": "x",
         "y": [
          1,
          1,
          1,
          1,
          1,
          1
         ],
         "yaxis": "y"
        }
       ],
       "layout": {
        "barmode": "relative",
        "legend": {
         "title": {
          "text": "Medal"
         },
         "tracegroupgap": 0
        },
        "template": {
         "data": {
          "bar": [
           {
            "error_x": {
             "color": "#2a3f5f"
            },
            "error_y": {
             "color": "#2a3f5f"
            },
            "marker": {
             "line": {
              "color": "#E5ECF6",
              "width": 0.5
             },
             "pattern": {
              "fillmode": "overlay",
              "size": 10,
              "solidity": 0.2
             }
            },
            "type": "bar"
           }
          ],
          "barpolar": [
           {
            "marker": {
             "line": {
              "color": "#E5ECF6",
              "width": 0.5
             },
             "pattern": {
              "fillmode": "overlay",
              "size": 10,
              "solidity": 0.2
             }
            },
            "type": "barpolar"
           }
          ],
          "carpet": [
           {
            "aaxis": {
             "endlinecolor": "#2a3f5f",
             "gridcolor": "white",
             "linecolor": "white",
             "minorgridcolor": "white",
             "startlinecolor": "#2a3f5f"
            },
            "baxis": {
             "endlinecolor": "#2a3f5f",
             "gridcolor": "white",
             "linecolor": "white",
             "minorgridcolor": "white",
             "startlinecolor": "#2a3f5f"
            },
            "type": "carpet"
           }
          ],
          "choropleth": [
           {
            "colorbar": {
             "outlinewidth": 0,
             "ticks": ""
            },
            "type": "choropleth"
           }
          ],
          "contour": [
           {
            "colorbar": {
             "outlinewidth": 0,
             "ticks": ""
            },
            "colorscale": [
             [
              0,
              "#0d0887"
             ],
             [
              0.1111111111111111,
              "#46039f"
             ],
             [
              0.2222222222222222,
              "#7201a8"
             ],
             [
              0.3333333333333333,
              "#9c179e"
             ],
             [
              0.4444444444444444,
              "#bd3786"
             ],
             [
              0.5555555555555556,
              "#d8576b"
             ],
             [
              0.6666666666666666,
              "#ed7953"
             ],
             [
              0.7777777777777778,
              "#fb9f3a"
             ],
             [
              0.8888888888888888,
              "#fdca26"
             ],
             [
              1,
              "#f0f921"
             ]
            ],
            "type": "contour"
           }
          ],
          "contourcarpet": [
           {
            "colorbar": {
             "outlinewidth": 0,
             "ticks": ""
            },
            "type": "contourcarpet"
           }
          ],
          "heatmap": [
           {
            "colorbar": {
             "outlinewidth": 0,
             "ticks": ""
            },
            "colorscale": [
             [
              0,
              "#0d0887"
             ],
             [
              0.1111111111111111,
              "#46039f"
             ],
             [
              0.2222222222222222,
              "#7201a8"
             ],
             [
              0.3333333333333333,
              "#9c179e"
             ],
             [
              0.4444444444444444,
              "#bd3786"
             ],
             [
              0.5555555555555556,
              "#d8576b"
             ],
             [
              0.6666666666666666,
              "#ed7953"
             ],
             [
              0.7777777777777778,
              "#fb9f3a"
             ],
             [
              0.8888888888888888,
              "#fdca26"
             ],
             [
              1,
              "#f0f921"
             ]
            ],
            "type": "heatmap"
           }
          ],
          "heatmapgl": [
           {
            "colorbar": {
             "outlinewidth": 0,
             "ticks": ""
            },
            "colorscale": [
             [
              0,
              "#0d0887"
             ],
             [
              0.1111111111111111,
              "#46039f"
             ],
             [
              0.2222222222222222,
              "#7201a8"
             ],
             [
              0.3333333333333333,
              "#9c179e"
             ],
             [
              0.4444444444444444,
              "#bd3786"
             ],
             [
              0.5555555555555556,
              "#d8576b"
             ],
             [
              0.6666666666666666,
              "#ed7953"
             ],
             [
              0.7777777777777778,
              "#fb9f3a"
             ],
             [
              0.8888888888888888,
              "#fdca26"
             ],
             [
              1,
              "#f0f921"
             ]
            ],
            "type": "heatmapgl"
           }
          ],
          "histogram": [
           {
            "marker": {
             "pattern": {
              "fillmode": "overlay",
              "size": 10,
              "solidity": 0.2
             }
            },
            "type": "histogram"
           }
          ],
          "histogram2d": [
           {
            "colorbar": {
             "outlinewidth": 0,
             "ticks": ""
            },
            "colorscale": [
             [
              0,
              "#0d0887"
             ],
             [
              0.1111111111111111,
              "#46039f"
             ],
             [
              0.2222222222222222,
              "#7201a8"
             ],
             [
              0.3333333333333333,
              "#9c179e"
             ],
             [
              0.4444444444444444,
              "#bd3786"
             ],
             [
              0.5555555555555556,
              "#d8576b"
             ],
             [
              0.6666666666666666,
              "#ed7953"
             ],
             [
              0.7777777777777778,
              "#fb9f3a"
             ],
             [
              0.8888888888888888,
              "#fdca26"
             ],
             [
              1,
              "#f0f921"
             ]
            ],
            "type": "histogram2d"
           }
          ],
          "histogram2dcontour": [
           {
            "colorbar": {
             "outlinewidth": 0,
             "ticks": ""
            },
            "colorscale": [
             [
              0,
              "#0d0887"
             ],
             [
              0.1111111111111111,
              "#46039f"
             ],
             [
              0.2222222222222222,
              "#7201a8"
             ],
             [
              0.3333333333333333,
              "#9c179e"
             ],
             [
              0.4444444444444444,
              "#bd3786"
             ],
             [
              0.5555555555555556,
              "#d8576b"
             ],
             [
              0.6666666666666666,
              "#ed7953"
             ],
             [
              0.7777777777777778,
              "#fb9f3a"
             ],
             [
              0.8888888888888888,
              "#fdca26"
             ],
             [
              1,
              "#f0f921"
             ]
            ],
            "type": "histogram2dcontour"
           }
          ],
          "mesh3d": [
           {
            "colorbar": {
             "outlinewidth": 0,
             "ticks": ""
            },
            "type": "mesh3d"
           }
          ],
          "parcoords": [
           {
            "line": {
             "colorbar": {
              "outlinewidth": 0,
              "ticks": ""
             }
            },
            "type": "parcoords"
           }
          ],
          "pie": [
           {
            "automargin": true,
            "type": "pie"
           }
          ],
          "scatter": [
           {
            "fillpattern": {
             "fillmode": "overlay",
             "size": 10,
             "solidity": 0.2
            },
            "type": "scatter"
           }
          ],
          "scatter3d": [
           {
            "line": {
             "colorbar": {
              "outlinewidth": 0,
              "ticks": ""
             }
            },
            "marker": {
             "colorbar": {
              "outlinewidth": 0,
              "ticks": ""
             }
            },
            "type": "scatter3d"
           }
          ],
          "scattercarpet": [
           {
            "marker": {
             "colorbar": {
              "outlinewidth": 0,
              "ticks": ""
             }
            },
            "type": "scattercarpet"
           }
          ],
          "scattergeo": [
           {
            "marker": {
             "colorbar": {
              "outlinewidth": 0,
              "ticks": ""
             }
            },
            "type": "scattergeo"
           }
          ],
          "scattergl": [
           {
            "marker": {
             "colorbar": {
              "outlinewidth": 0,
              "ticks": ""
             }
            },
            "type": "scattergl"
           }
          ],
          "scattermapbox": [
           {
            "marker": {
             "colorbar": {
              "outlinewidth": 0,
              "ticks": ""
             }
            },
            "type": "scattermapbox"
           }
          ],
          "scatterpolar": [
           {
            "marker": {
             "colorbar": {
              "outlinewidth": 0,
              "ticks": ""
             }
            },
            "type": "scatterpolar"
           }
          ],
          "scatterpolargl": [
           {
            "marker": {
             "colorbar": {
              "outlinewidth": 0,
              "ticks": ""
             }
            },
            "type": "scatterpolargl"
           }
          ],
          "scatterternary": [
           {
            "marker": {
             "colorbar": {
              "outlinewidth": 0,
              "ticks": ""
             }
            },
            "type": "scatterternary"
           }
          ],
          "surface": [
           {
            "colorbar": {
             "outlinewidth": 0,
             "ticks": ""
            },
            "colorscale": [
             [
              0,
              "#0d0887"
             ],
             [
              0.1111111111111111,
              "#46039f"
             ],
             [
              0.2222222222222222,
              "#7201a8"
             ],
             [
              0.3333333333333333,
              "#9c179e"
             ],
             [
              0.4444444444444444,
              "#bd3786"
             ],
             [
              0.5555555555555556,
              "#d8576b"
             ],
             [
              0.6666666666666666,
              "#ed7953"
             ],
             [
              0.7777777777777778,
              "#fb9f3a"
             ],
             [
              0.8888888888888888,
              "#fdca26"
             ],
             [
              1,
              "#f0f921"
             ]
            ],
            "type": "surface"
           }
          ],
          "table": [
           {
            "cells": {
             "fill": {
              "color": "#EBF0F8"
             },
             "line": {
              "color": "white"
             }
            },
            "header": {
             "fill": {
              "color": "#C8D4E3"
             },
             "line": {
              "color": "white"
             }
            },
            "type": "table"
           }
          ]
         },
         "layout": {
          "annotationdefaults": {
           "arrowcolor": "#2a3f5f",
           "arrowhead": 0,
           "arrowwidth": 1
          },
          "autotypenumbers": "strict",
          "coloraxis": {
           "colorbar": {
            "outlinewidth": 0,
            "ticks": ""
           }
          },
          "colorscale": {
           "diverging": [
            [
             0,
             "#8e0152"
            ],
            [
             0.1,
             "#c51b7d"
            ],
            [
             0.2,
             "#de77ae"
            ],
            [
             0.3,
             "#f1b6da"
            ],
            [
             0.4,
             "#fde0ef"
            ],
            [
             0.5,
             "#f7f7f7"
            ],
            [
             0.6,
             "#e6f5d0"
            ],
            [
             0.7,
             "#b8e186"
            ],
            [
             0.8,
             "#7fbc41"
            ],
            [
             0.9,
             "#4d9221"
            ],
            [
             1,
             "#276419"
            ]
           ],
           "sequential": [
            [
             0,
             "#0d0887"
            ],
            [
             0.1111111111111111,
             "#46039f"
            ],
            [
             0.2222222222222222,
             "#7201a8"
            ],
            [
             0.3333333333333333,
             "#9c179e"
            ],
            [
             0.4444444444444444,
             "#bd3786"
            ],
            [
             0.5555555555555556,
             "#d8576b"
            ],
            [
             0.6666666666666666,
             "#ed7953"
            ],
            [
             0.7777777777777778,
             "#fb9f3a"
            ],
            [
             0.8888888888888888,
             "#fdca26"
            ],
            [
             1,
             "#f0f921"
            ]
           ],
           "sequentialminus": [
            [
             0,
             "#0d0887"
            ],
            [
             0.1111111111111111,
             "#46039f"
            ],
            [
             0.2222222222222222,
             "#7201a8"
            ],
            [
             0.3333333333333333,
             "#9c179e"
            ],
            [
             0.4444444444444444,
             "#bd3786"
            ],
            [
             0.5555555555555556,
             "#d8576b"
            ],
            [
             0.6666666666666666,
             "#ed7953"
            ],
            [
             0.7777777777777778,
             "#fb9f3a"
            ],
            [
             0.8888888888888888,
             "#fdca26"
            ],
            [
             1,
             "#f0f921"
            ]
           ]
          },
          "colorway": [
           "#636efa",
           "#EF553B",
           "#00cc96",
           "#ab63fa",
           "#FFA15A",
           "#19d3f3",
           "#FF6692",
           "#B6E880",
           "#FF97FF",
           "#FECB52"
          ],
          "font": {
           "color": "#2a3f5f"
          },
          "geo": {
           "bgcolor": "white",
           "lakecolor": "white",
           "landcolor": "#E5ECF6",
           "showlakes": true,
           "showland": true,
           "subunitcolor": "white"
          },
          "hoverlabel": {
           "align": "left"
          },
          "hovermode": "closest",
          "mapbox": {
           "style": "light"
          },
          "paper_bgcolor": "white",
          "plot_bgcolor": "#E5ECF6",
          "polar": {
           "angularaxis": {
            "gridcolor": "white",
            "linecolor": "white",
            "ticks": ""
           },
           "bgcolor": "#E5ECF6",
           "radialaxis": {
            "gridcolor": "white",
            "linecolor": "white",
            "ticks": ""
           }
          },
          "scene": {
           "xaxis": {
            "backgroundcolor": "#E5ECF6",
            "gridcolor": "white",
            "gridwidth": 2,
            "linecolor": "white",
            "showbackground": true,
            "ticks": "",
            "zerolinecolor": "white"
           },
           "yaxis": {
            "backgroundcolor": "#E5ECF6",
            "gridcolor": "white",
            "gridwidth": 2,
            "linecolor": "white",
            "showbackground": true,
            "ticks": "",
            "zerolinecolor": "white"
           },
           "zaxis": {
            "backgroundcolor": "#E5ECF6",
            "gridcolor": "white",
            "gridwidth": 2,
            "linecolor": "white",
            "showbackground": true,
            "ticks": "",
            "zerolinecolor": "white"
           }
          },
          "shapedefaults": {
           "line": {
            "color": "#2a3f5f"
           }
          },
          "ternary": {
           "aaxis": {
            "gridcolor": "white",
            "linecolor": "white",
            "ticks": ""
           },
           "baxis": {
            "gridcolor": "white",
            "linecolor": "white",
            "ticks": ""
           },
           "bgcolor": "#E5ECF6",
           "caxis": {
            "gridcolor": "white",
            "linecolor": "white",
            "ticks": ""
           }
          },
          "title": {
           "x": 0.05
          },
          "xaxis": {
           "automargin": true,
           "gridcolor": "white",
           "linecolor": "white",
           "ticks": "",
           "title": {
            "standoff": 15
           },
           "zerolinecolor": "white",
           "zerolinewidth": 2
          },
          "yaxis": {
           "automargin": true,
           "gridcolor": "white",
           "linecolor": "white",
           "ticks": "",
           "title": {
            "standoff": 15
           },
           "zerolinecolor": "white",
           "zerolinewidth": 2
          }
         }
        },
        "title": {
         "text": "test"
        },
        "xaxis": {
         "anchor": "y",
         "domain": [
          0,
          1
         ],
         "title": {
          "text": "region"
         }
        },
        "yaxis": {
         "anchor": "x",
         "domain": [
          0,
          1
         ],
         "title": {
          "text": "0"
         }
        }
       }
      }
     },
     "metadata": {},
     "output_type": "display_data"
    }
   ],
   "source": [
    "fig = px.bar(sport, x=\"region\", y=0, color=\"Medal\", title=\"test\")\n",
    "fig.show()"
   ]
  },
  {
   "cell_type": "code",
   "execution_count": null,
   "metadata": {},
   "outputs": [],
   "source": [
    "sport2 = relay[relay[\"Event\"] == \"Cross Country Skiing Men's 4 x 10 kilometres Relay\"]\n",
    "sport2"
   ]
  },
  {
   "cell_type": "code",
   "execution_count": 215,
   "metadata": {},
   "outputs": [
    {
     "ename": "ValueError",
     "evalue": "Value of 'y' is not the name of a column in 'data_frame'. Expected one of ['Sex', 'Team', 'NOC', 'Games', 'Year', 'Season', 'City', 'Sport', 'Event', 'Medal', 'region', 'notes'] but received: 0",
     "output_type": "error",
     "traceback": [
      "\u001b[1;31m---------------------------------------------------------------------------\u001b[0m",
      "\u001b[1;31mValueError\u001b[0m                                Traceback (most recent call last)",
      "Cell \u001b[1;32mIn [215], line 1\u001b[0m\n\u001b[1;32m----> 1\u001b[0m fig \u001b[39m=\u001b[39m px\u001b[39m.\u001b[39;49mbar(sport2, x\u001b[39m=\u001b[39;49m\u001b[39m\"\u001b[39;49m\u001b[39mregion\u001b[39;49m\u001b[39m\"\u001b[39;49m, y\u001b[39m=\u001b[39;49m\u001b[39m0\u001b[39;49m, color\u001b[39m=\u001b[39;49m\u001b[39m\"\u001b[39;49m\u001b[39mMedal\u001b[39;49m\u001b[39m\"\u001b[39;49m, title\u001b[39m=\u001b[39;49m\u001b[39m\"\u001b[39;49m\u001b[39mtest\u001b[39;49m\u001b[39m\"\u001b[39;49m)\n\u001b[0;32m      2\u001b[0m fig\u001b[39m.\u001b[39mshow()\n",
      "File \u001b[1;32mc:\\Users\\jonas\\.virtualenvs\\Databehandling-Jonas-Bengtstrom-KZonRVw0\\lib\\site-packages\\plotly\\express\\_chart_types.py:373\u001b[0m, in \u001b[0;36mbar\u001b[1;34m(data_frame, x, y, color, pattern_shape, facet_row, facet_col, facet_col_wrap, facet_row_spacing, facet_col_spacing, hover_name, hover_data, custom_data, text, base, error_x, error_x_minus, error_y, error_y_minus, animation_frame, animation_group, category_orders, labels, color_discrete_sequence, color_discrete_map, color_continuous_scale, pattern_shape_sequence, pattern_shape_map, range_color, color_continuous_midpoint, opacity, orientation, barmode, log_x, log_y, range_x, range_y, text_auto, title, template, width, height)\u001b[0m\n\u001b[0;32m    325\u001b[0m \u001b[39mdef\u001b[39;00m \u001b[39mbar\u001b[39m(\n\u001b[0;32m    326\u001b[0m     data_frame\u001b[39m=\u001b[39m\u001b[39mNone\u001b[39;00m,\n\u001b[0;32m    327\u001b[0m     x\u001b[39m=\u001b[39m\u001b[39mNone\u001b[39;00m,\n\u001b[1;32m   (...)\u001b[0m\n\u001b[0;32m    367\u001b[0m     height\u001b[39m=\u001b[39m\u001b[39mNone\u001b[39;00m,\n\u001b[0;32m    368\u001b[0m ) \u001b[39m-\u001b[39m\u001b[39m>\u001b[39m go\u001b[39m.\u001b[39mFigure:\n\u001b[0;32m    369\u001b[0m     \u001b[39m\"\"\"\u001b[39;00m\n\u001b[0;32m    370\u001b[0m \u001b[39m    In a bar plot, each row of `data_frame` is represented as a rectangular\u001b[39;00m\n\u001b[0;32m    371\u001b[0m \u001b[39m    mark.\u001b[39;00m\n\u001b[0;32m    372\u001b[0m \u001b[39m    \"\"\"\u001b[39;00m\n\u001b[1;32m--> 373\u001b[0m     \u001b[39mreturn\u001b[39;00m make_figure(\n\u001b[0;32m    374\u001b[0m         args\u001b[39m=\u001b[39;49m\u001b[39mlocals\u001b[39;49m(),\n\u001b[0;32m    375\u001b[0m         constructor\u001b[39m=\u001b[39;49mgo\u001b[39m.\u001b[39;49mBar,\n\u001b[0;32m    376\u001b[0m         trace_patch\u001b[39m=\u001b[39;49m\u001b[39mdict\u001b[39;49m(textposition\u001b[39m=\u001b[39;49m\u001b[39m\"\u001b[39;49m\u001b[39mauto\u001b[39;49m\u001b[39m\"\u001b[39;49m),\n\u001b[0;32m    377\u001b[0m         layout_patch\u001b[39m=\u001b[39;49m\u001b[39mdict\u001b[39;49m(barmode\u001b[39m=\u001b[39;49mbarmode),\n\u001b[0;32m    378\u001b[0m     )\n",
      "File \u001b[1;32mc:\\Users\\jonas\\.virtualenvs\\Databehandling-Jonas-Bengtstrom-KZonRVw0\\lib\\site-packages\\plotly\\express\\_core.py:1990\u001b[0m, in \u001b[0;36mmake_figure\u001b[1;34m(args, constructor, trace_patch, layout_patch)\u001b[0m\n\u001b[0;32m   1987\u001b[0m layout_patch \u001b[39m=\u001b[39m layout_patch \u001b[39mor\u001b[39;00m {}\n\u001b[0;32m   1988\u001b[0m apply_default_cascade(args)\n\u001b[1;32m-> 1990\u001b[0m args \u001b[39m=\u001b[39m build_dataframe(args, constructor)\n\u001b[0;32m   1991\u001b[0m \u001b[39mif\u001b[39;00m constructor \u001b[39min\u001b[39;00m [go\u001b[39m.\u001b[39mTreemap, go\u001b[39m.\u001b[39mSunburst, go\u001b[39m.\u001b[39mIcicle] \u001b[39mand\u001b[39;00m args[\u001b[39m\"\u001b[39m\u001b[39mpath\u001b[39m\u001b[39m\"\u001b[39m] \u001b[39mis\u001b[39;00m \u001b[39mnot\u001b[39;00m \u001b[39mNone\u001b[39;00m:\n\u001b[0;32m   1992\u001b[0m     args \u001b[39m=\u001b[39m process_dataframe_hierarchy(args)\n",
      "File \u001b[1;32mc:\\Users\\jonas\\.virtualenvs\\Databehandling-Jonas-Bengtstrom-KZonRVw0\\lib\\site-packages\\plotly\\express\\_core.py:1405\u001b[0m, in \u001b[0;36mbuild_dataframe\u001b[1;34m(args, constructor)\u001b[0m\n\u001b[0;32m   1402\u001b[0m     args[\u001b[39m\"\u001b[39m\u001b[39mcolor\u001b[39m\u001b[39m\"\u001b[39m] \u001b[39m=\u001b[39m \u001b[39mNone\u001b[39;00m\n\u001b[0;32m   1403\u001b[0m \u001b[39m# now that things have been prepped, we do the systematic rewriting of `args`\u001b[39;00m\n\u001b[1;32m-> 1405\u001b[0m df_output, wide_id_vars \u001b[39m=\u001b[39m process_args_into_dataframe(\n\u001b[0;32m   1406\u001b[0m     args, wide_mode, var_name, value_name\n\u001b[0;32m   1407\u001b[0m )\n\u001b[0;32m   1409\u001b[0m \u001b[39m# now that `df_output` exists and `args` contains only references, we complete\u001b[39;00m\n\u001b[0;32m   1410\u001b[0m \u001b[39m# the special-case and wide-mode handling by further rewriting args and/or mutating\u001b[39;00m\n\u001b[0;32m   1411\u001b[0m \u001b[39m# df_output\u001b[39;00m\n\u001b[0;32m   1413\u001b[0m count_name \u001b[39m=\u001b[39m _escape_col_name(df_output, \u001b[39m\"\u001b[39m\u001b[39mcount\u001b[39m\u001b[39m\"\u001b[39m, [var_name, value_name])\n",
      "File \u001b[1;32mc:\\Users\\jonas\\.virtualenvs\\Databehandling-Jonas-Bengtstrom-KZonRVw0\\lib\\site-packages\\plotly\\express\\_core.py:1207\u001b[0m, in \u001b[0;36mprocess_args_into_dataframe\u001b[1;34m(args, wide_mode, var_name, value_name)\u001b[0m\n\u001b[0;32m   1205\u001b[0m         \u001b[39mif\u001b[39;00m argument \u001b[39m==\u001b[39m \u001b[39m\"\u001b[39m\u001b[39mindex\u001b[39m\u001b[39m\"\u001b[39m:\n\u001b[0;32m   1206\u001b[0m             err_msg \u001b[39m+\u001b[39m\u001b[39m=\u001b[39m \u001b[39m\"\u001b[39m\u001b[39m\\n\u001b[39;00m\u001b[39m To use the index, pass it in directly as `df.index`.\u001b[39m\u001b[39m\"\u001b[39m\n\u001b[1;32m-> 1207\u001b[0m         \u001b[39mraise\u001b[39;00m \u001b[39mValueError\u001b[39;00m(err_msg)\n\u001b[0;32m   1208\u001b[0m \u001b[39melif\u001b[39;00m length \u001b[39mand\u001b[39;00m \u001b[39mlen\u001b[39m(df_input[argument]) \u001b[39m!=\u001b[39m length:\n\u001b[0;32m   1209\u001b[0m     \u001b[39mraise\u001b[39;00m \u001b[39mValueError\u001b[39;00m(\n\u001b[0;32m   1210\u001b[0m         \u001b[39m\"\u001b[39m\u001b[39mAll arguments should have the same length. \u001b[39m\u001b[39m\"\u001b[39m\n\u001b[0;32m   1211\u001b[0m         \u001b[39m\"\u001b[39m\u001b[39mThe length of column argument `df[\u001b[39m\u001b[39m%s\u001b[39;00m\u001b[39m]` is \u001b[39m\u001b[39m%d\u001b[39;00m\u001b[39m, whereas the \u001b[39m\u001b[39m\"\u001b[39m\n\u001b[1;32m   (...)\u001b[0m\n\u001b[0;32m   1218\u001b[0m         )\n\u001b[0;32m   1219\u001b[0m     )\n",
      "\u001b[1;31mValueError\u001b[0m: Value of 'y' is not the name of a column in 'data_frame'. Expected one of ['Sex', 'Team', 'NOC', 'Games', 'Year', 'Season', 'City', 'Sport', 'Event', 'Medal', 'region', 'notes'] but received: 0"
     ]
    }
   ],
   "source": [
    "fig = px.bar(sport2, x=\"region\", y=0, color=\"Medal\", title=\"test\")\n",
    "fig.show()"
   ]
  },
  {
   "cell_type": "code",
   "execution_count": 224,
   "metadata": {},
   "outputs": [
    {
     "data": {
      "text/html": [
       "<div>\n",
       "<style scoped>\n",
       "    .dataframe tbody tr th:only-of-type {\n",
       "        vertical-align: middle;\n",
       "    }\n",
       "\n",
       "    .dataframe tbody tr th {\n",
       "        vertical-align: top;\n",
       "    }\n",
       "\n",
       "    .dataframe thead th {\n",
       "        text-align: right;\n",
       "    }\n",
       "</style>\n",
       "<table border=\"1\" class=\"dataframe\">\n",
       "  <thead>\n",
       "    <tr style=\"text-align: right;\">\n",
       "      <th></th>\n",
       "      <th>index</th>\n",
       "      <th>Medal</th>\n",
       "    </tr>\n",
       "  </thead>\n",
       "  <tbody>\n",
       "    <tr>\n",
       "      <th>0</th>\n",
       "      <td>Gold</td>\n",
       "      <td>19</td>\n",
       "    </tr>\n",
       "    <tr>\n",
       "      <th>1</th>\n",
       "      <td>Silver</td>\n",
       "      <td>19</td>\n",
       "    </tr>\n",
       "    <tr>\n",
       "      <th>2</th>\n",
       "      <td>Bronze</td>\n",
       "      <td>19</td>\n",
       "    </tr>\n",
       "  </tbody>\n",
       "</table>\n",
       "</div>"
      ],
      "text/plain": [
       "    index  Medal\n",
       "0    Gold     19\n",
       "1  Silver     19\n",
       "2  Bronze     19"
      ]
     },
     "execution_count": 224,
     "metadata": {},
     "output_type": "execute_result"
    }
   ],
   "source": [
    "df_relay = relay[\"Medal\"].value_counts().to_frame().reset_index()\n",
    "df_relay"
   ]
  }
 ],
 "metadata": {
  "kernelspec": {
   "display_name": "Python 3.9.13 ('Databehandling-Jonas-Bengtstrom-KZonRVw0')",
   "language": "python",
   "name": "python3"
  },
  "language_info": {
   "codemirror_mode": {
    "name": "ipython",
    "version": 3
   },
   "file_extension": ".py",
   "mimetype": "text/x-python",
   "name": "python",
   "nbconvert_exporter": "python",
   "pygments_lexer": "ipython3",
   "version": "3.9.13"
  },
  "orig_nbformat": 4,
  "vscode": {
   "interpreter": {
    "hash": "3d9aca888bb0dc29d26515c79305542da6d6275f5b5f9890ed01d991243e264a"
   }
  }
 },
 "nbformat": 4,
 "nbformat_minor": 2
}
